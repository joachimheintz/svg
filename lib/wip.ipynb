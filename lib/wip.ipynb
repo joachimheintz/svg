{
 "cells": [
  {
   "cell_type": "code",
   "execution_count": 194,
   "id": "imported-consortium",
   "metadata": {},
   "outputs": [],
   "source": [
    "import drawsvg as dw\n",
    "from os import listdir\n",
    "dir = '/home/jh/src/svg/lib'\n",
    "files = listdir(dir)\n",
    "for file in files:\n",
    "    if file[-3:] == '.py':\n",
    "        f = '%s/%s' % (dir,file)\n",
    "        exec(open(f).read())"
   ]
  },
  {
   "cell_type": "code",
   "execution_count": 215,
   "id": "diverse-commercial",
   "metadata": {},
   "outputs": [
    {
     "data": {
      "image/svg+xml": [
       "<?xml version=\"1.0\" encoding=\"UTF-8\"?>\n",
       "<svg xmlns=\"http://www.w3.org/2000/svg\" xmlns:xlink=\"http://www.w3.org/1999/xlink\"\n",
       "    width=\"400\" height=\"400\" viewBox=\"0 0 200 200\">\n",
       "<defs>\n",
       "</defs>\n",
       "<path d=\"M10,10 Q55.0,28.0,100,10 Q55.0,28.0,10,10\" fill=\"black\" stroke=\"black\" stroke-width=\"0.2\" />\n",
       "</svg>"
      ],
      "text/plain": [
       "<drawsvg.drawing.Drawing at 0x7fb3ea218730>"
      ]
     },
     "execution_count": 215,
     "metadata": {},
     "output_type": "execute_result"
    }
   ],
   "source": [
    "d = dw.Drawing(200,200)\n",
    "\n",
    "def tie(x=10,y=10,xend=100,yend=10,dir=1,sw=1,c='black',thick=1,**args):\n",
    "    \"\"\"tie (haltebogen) between two notes\n",
    "    dir=1 means bowing downwards, dir=1 upwards\n",
    "    larger number means more bowing\n",
    "    thick results in the thickness\"\"\"\n",
    "    p = dw.Path(fill=c,stroke=c,stroke_width=sw,**args)\n",
    "    xdiff = xend-x\n",
    "    ydiff = xdiff*.2*dir\n",
    "    p1 = x,y\n",
    "    p2 = xend,yend\n",
    "    pbow = x+xdiff/2,y+ydiff\n",
    "    c1 = pbow\n",
    "    c2 = pbow[0],pbow[1]+thick*ydiff/5\n",
    "    p.M(*p1)\n",
    "    p.Q(*c1,*p2)\n",
    "    p.Q(*c2,*p1)\n",
    "    d.append(p)\n",
    "    \n",
    "tie(thick=0,sw=.2)\n",
    "\n",
    "    \n",
    "d.set_pixel_scale(2)\n",
    "#d.save_png('varVib.png')\n",
    "#d.save_svg('varVib.svg')\n",
    "d"
   ]
  },
  {
   "cell_type": "code",
   "execution_count": 39,
   "id": "f81fd8d3",
   "metadata": {},
   "outputs": [
    {
     "name": "stdout",
     "output_type": "stream",
     "text": [
      "Help on class type in module builtins:\n",
      "\n",
      "class type(object)\n",
      " |  type(object_or_name, bases, dict)\n",
      " |  type(object) -> the object's type\n",
      " |  type(name, bases, dict) -> a new type\n",
      " |  \n",
      " |  Methods defined here:\n",
      " |  \n",
      " |  __call__(self, /, *args, **kwargs)\n",
      " |      Call self as a function.\n",
      " |  \n",
      " |  __delattr__(self, name, /)\n",
      " |      Implement delattr(self, name).\n",
      " |  \n",
      " |  __dir__(self, /)\n",
      " |      Specialized __dir__ implementation for types.\n",
      " |  \n",
      " |  __getattribute__(self, name, /)\n",
      " |      Return getattr(self, name).\n",
      " |  \n",
      " |  __init__(self, /, *args, **kwargs)\n",
      " |      Initialize self.  See help(type(self)) for accurate signature.\n",
      " |  \n",
      " |  __instancecheck__(self, instance, /)\n",
      " |      Check if an object is an instance.\n",
      " |  \n",
      " |  __repr__(self, /)\n",
      " |      Return repr(self).\n",
      " |  \n",
      " |  __setattr__(self, name, value, /)\n",
      " |      Implement setattr(self, name, value).\n",
      " |  \n",
      " |  __sizeof__(self, /)\n",
      " |      Return memory consumption of the type object.\n",
      " |  \n",
      " |  __subclasscheck__(self, subclass, /)\n",
      " |      Check if a class is a subclass.\n",
      " |  \n",
      " |  __subclasses__(self, /)\n",
      " |      Return a list of immediate subclasses.\n",
      " |  \n",
      " |  mro(self, /)\n",
      " |      Return a type's method resolution order.\n",
      " |  \n",
      " |  ----------------------------------------------------------------------\n",
      " |  Class methods defined here:\n",
      " |  \n",
      " |  __prepare__(...)\n",
      " |      __prepare__() -> dict\n",
      " |      used to create the namespace for the class statement\n",
      " |  \n",
      " |  ----------------------------------------------------------------------\n",
      " |  Static methods defined here:\n",
      " |  \n",
      " |  __new__(*args, **kwargs)\n",
      " |      Create and return a new object.  See help(type) for accurate signature.\n",
      " |  \n",
      " |  ----------------------------------------------------------------------\n",
      " |  Data descriptors defined here:\n",
      " |  \n",
      " |  __abstractmethods__\n",
      " |  \n",
      " |  __dict__\n",
      " |  \n",
      " |  __text_signature__\n",
      " |  \n",
      " |  ----------------------------------------------------------------------\n",
      " |  Data and other attributes defined here:\n",
      " |  \n",
      " |  __base__ = <class 'object'>\n",
      " |      The base class of the class hierarchy.\n",
      " |      \n",
      " |      When called, it accepts no arguments and returns a new featureless\n",
      " |      instance that has no instance attributes and cannot be given any.\n",
      " |  \n",
      " |  \n",
      " |  __bases__ = (<class 'object'>,)\n",
      " |  \n",
      " |  __basicsize__ = 880\n",
      " |  \n",
      " |  __dictoffset__ = 264\n",
      " |  \n",
      " |  __flags__ = 2148293632\n",
      " |  \n",
      " |  __itemsize__ = 40\n",
      " |  \n",
      " |  __mro__ = (<class 'type'>, <class 'object'>)\n",
      " |  \n",
      " |  __weakrefoffset__ = 368\n",
      "\n"
     ]
    }
   ],
   "source": [
    "help(type)"
   ]
  },
  {
   "cell_type": "code",
   "execution_count": null,
   "id": "a4046fd6",
   "metadata": {},
   "outputs": [],
   "source": []
  }
 ],
 "metadata": {
  "kernelspec": {
   "display_name": "Python 3 (ipykernel)",
   "language": "python",
   "name": "python3"
  },
  "language_info": {
   "codemirror_mode": {
    "name": "ipython",
    "version": 3
   },
   "file_extension": ".py",
   "mimetype": "text/x-python",
   "name": "python",
   "nbconvert_exporter": "python",
   "pygments_lexer": "ipython3",
   "version": "3.9.2"
  }
 },
 "nbformat": 4,
 "nbformat_minor": 5
}
