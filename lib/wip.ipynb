{
 "cells": [
  {
   "cell_type": "code",
   "execution_count": 1,
   "id": "imported-consortium",
   "metadata": {},
   "outputs": [],
   "source": [
    "import drawsvg as dw\n",
    "from os import listdir\n",
    "dir = '/home/jh/src/svg/lib'\n",
    "files = listdir(dir)\n",
    "for file in files:\n",
    "    if file[-3:] == '.py':\n",
    "        f = '%s/%s' % (dir,file)\n",
    "        exec(open(f).read())"
   ]
  },
  {
   "cell_type": "code",
   "execution_count": 11,
   "id": "diverse-commercial",
   "metadata": {},
   "outputs": [
    {
     "data": {
      "image/svg+xml": [
       "<?xml version=\"1.0\" encoding=\"UTF-8\"?>\n",
       "<svg xmlns=\"http://www.w3.org/2000/svg\" xmlns:xlink=\"http://www.w3.org/1999/xlink\"\n",
       "    width=\"800\" height=\"800\" viewBox=\"0 0 200 200\">\n",
       "<defs>\n",
       "</defs>\n",
       "<path d=\"M14.2,9.2 Q14.2,8,12.94,8 C11.26,8,10.84,22.4,10.42,23.0 Q9.58,23.0,9.58,21.8 M10,14.0 H13.36\" stroke=\"black\" fill=\"none\" stroke-width=\"1.0\" />\n",
       "<path d=\"M15.25,14.0 Q15.25,13.100000000000001,16.0,14.6 Q16.0,19.25,13.0,27.8 M16.0,14.6 C22.0,11.0,22.0,21.5,16.0,19.25\" stroke=\"black\" fill=\"none\" stroke-width=\"1.0\" />\n",
       "</svg>"
      ],
      "text/plain": [
       "<drawsvg.drawing.Drawing at 0x7f1065340550>"
      ]
     },
     "execution_count": 11,
     "metadata": {},
     "output_type": "execute_result"
    }
   ],
   "source": [
    "d = dw.Drawing(200,200)\n",
    "\n",
    "def fortepiano(x=10,y=20,siz=12,c='black',swfac=1,**args):\n",
    "    x2 = x+siz/2\n",
    "    forte(x,y,siz,c,swfac,**args)\n",
    "    piano(x2,y,siz,c,swfac,**args)\n",
    "\n",
    "\n",
    "fortepiano()\n",
    "\n",
    "d.set_pixel_scale(4)\n",
    "#d.save_png('varVib.png')\n",
    "#d.save_svg('varVib.svg')\n",
    "d"
   ]
  },
  {
   "cell_type": "code",
   "execution_count": null,
   "id": "71a877e8",
   "metadata": {},
   "outputs": [],
   "source": []
  }
 ],
 "metadata": {
  "kernelspec": {
   "display_name": "Python 3 (ipykernel)",
   "language": "python",
   "name": "python3"
  },
  "language_info": {
   "codemirror_mode": {
    "name": "ipython",
    "version": 3
   },
   "file_extension": ".py",
   "mimetype": "text/x-python",
   "name": "python",
   "nbconvert_exporter": "python",
   "pygments_lexer": "ipython3",
   "version": "3.9.2"
  }
 },
 "nbformat": 4,
 "nbformat_minor": 5
}
