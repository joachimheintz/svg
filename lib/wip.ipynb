{
 "cells": [
  {
   "cell_type": "code",
   "execution_count": 9,
   "id": "imported-consortium",
   "metadata": {},
   "outputs": [],
   "source": [
    "import drawsvg as dw\n",
    "from os import listdir\n",
    "dir = '/home/jh/src/svg/lib'\n",
    "files = listdir(dir)\n",
    "for file in files:\n",
    "    if file[-3:] == '.py':\n",
    "        f = '%s/%s' % (dir,file)\n",
    "        exec(open(f).read())"
   ]
  },
  {
   "cell_type": "code",
   "execution_count": 8,
   "id": "diverse-commercial",
   "metadata": {},
   "outputs": [
    {
     "data": {
      "image/svg+xml": [
       "<?xml version=\"1.0\" encoding=\"UTF-8\"?>\n",
       "<svg xmlns=\"http://www.w3.org/2000/svg\" xmlns:xlink=\"http://www.w3.org/1999/xlink\"\n",
       "    width=\"400\" height=\"400\" viewBox=\"0 0 200 200\">\n",
       "<defs>\n",
       "</defs>\n",
       "<path d=\"M17.5,20 L20,10.0 L22.5,20 L20,30.0 L17.5,20\" stroke=\"black\" stroke-width=\"0\" fill=\"black\" />\n",
       "</svg>"
      ],
      "text/plain": [
       "<drawsvg.drawing.Drawing at 0x7f2de02ab880>"
      ]
     },
     "execution_count": 8,
     "metadata": {},
     "output_type": "execute_result"
    }
   ],
   "source": [
    "d = dw.Drawing(200,200)\n",
    "\n",
    "def raute(x=20,y=20,w=5,h=20,c='black',f='black',sw=0,**args):\n",
    "    \"\"\"xy ist der mittelpunkt\n",
    "    w und h die absolute breite und höhe\n",
    "    wenn hohl, f='none' setzen\"\"\"\n",
    "    p1 = x-w/2,y\n",
    "    p2 = x,y-h/2\n",
    "    p3 = x+w/2,y\n",
    "    p4 = x,y+h/2\n",
    "    p = dw.Path(stroke=c,stroke_width=sw,fill=f,**args)\n",
    "    p.M(*p1).L(*p2).L(*p3).L(*p4).L(*p1)\n",
    "    d.append(p)\n",
    "\n",
    "raute()\n",
    "\n",
    "d.set_pixel_scale(2)\n",
    "#d.save_png('varVib.png')\n",
    "#d.save_svg('varVib.svg')\n",
    "d"
   ]
  },
  {
   "cell_type": "code",
   "execution_count": null,
   "id": "71a877e8",
   "metadata": {},
   "outputs": [],
   "source": []
  }
 ],
 "metadata": {
  "kernelspec": {
   "display_name": "Python 3 (ipykernel)",
   "language": "python",
   "name": "python3"
  },
  "language_info": {
   "codemirror_mode": {
    "name": "ipython",
    "version": 3
   },
   "file_extension": ".py",
   "mimetype": "text/x-python",
   "name": "python",
   "nbconvert_exporter": "python",
   "pygments_lexer": "ipython3",
   "version": "3.9.2"
  }
 },
 "nbformat": 4,
 "nbformat_minor": 5
}
