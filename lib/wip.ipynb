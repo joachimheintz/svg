{
 "cells": [
  {
   "cell_type": "code",
   "execution_count": 1,
   "id": "imported-consortium",
   "metadata": {},
   "outputs": [],
   "source": [
    "import drawsvg as dw\n",
    "from os import listdir\n",
    "dir = '/home/jh/src/svg/lib'\n",
    "files = listdir(dir)\n",
    "for file in files:\n",
    "    if file[-3:] == '.py':\n",
    "        f = '%s/%s' % (dir,file)\n",
    "        exec(open(f).read())"
   ]
  },
  {
   "cell_type": "code",
   "execution_count": 41,
   "id": "diverse-commercial",
   "metadata": {},
   "outputs": [
    {
     "data": {
      "image/svg+xml": [
       "<?xml version=\"1.0\" encoding=\"UTF-8\"?>\n",
       "<svg xmlns=\"http://www.w3.org/2000/svg\" xmlns:xlink=\"http://www.w3.org/1999/xlink\"\n",
       "    width=\"840\" height=\"600\" viewBox=\"0 0 210 150\">\n",
       "<defs>\n",
       "</defs>\n",
       "<path d=\"M50,50 L50,82.5\" stroke=\"#444\" stroke-width=\"1.0\" />\n",
       "<path d=\"M50,82.5 L60,69.2\" stroke=\"#444\" stroke-width=\"2.0\" />\n",
       "<path d=\"M50,76.5 L60,63.2\" stroke=\"#444\" stroke-width=\"2.0\" />\n",
       "<path d=\"M50,70.5 L60,57.2\" stroke=\"#444\" stroke-width=\"2.0\" />\n",
       "<circle cx=\"55.0\" cy=\"55.0\" r=\"1.6666666666666667\" fill=\"#444\" />\n",
       "<circle cx=\"60.0\" cy=\"55.0\" r=\"1.6666666666666667\" fill=\"#444\" />\n",
       "</svg>"
      ],
      "text/plain": [
       "<drawsvg.drawing.Drawing at 0x7f6ba8281280>"
      ]
     },
     "execution_count": 41,
     "metadata": {},
     "output_type": "execute_result"
    }
   ],
   "source": [
    "d = dw.Drawing(210,150)\n",
    "\n",
    "def hals16tel(x=50,y=50,dirlen=1,y_space=10,swfac=1,swflagfac=0.2,dotted=0,c='#444',**args):\n",
    "    \"\"\"nur der hals von xy bis dahin was dirlen sagt\n",
    "    dirlen=1 means in normal length (y_space*2.75) upwards\n",
    "    dirlen=-1.2 means in length 3.3*yspace downwards\n",
    "    swfac is stroke width of the line, as relation to y_space*0.1\n",
    "    swflag is stroke width of the flag, as relation to y_space (default 0.2)\n",
    "    dotted=0 (default) means no dots, dotted=2 means two dots after the note\n",
    "    returns top or bottom point of the line\"\"\"\n",
    "    sw = y_space * swfac * 0.1\n",
    "    swflag = y_space * swflagfac\n",
    "    r = y_space/2\n",
    "    dxflag = y_space\n",
    "    dyflag = y_space*1.33*abs(dirlen)\n",
    "    if dirlen > 0: \n",
    "        ptop = x,y-dirlen*y_space*3\n",
    "        ptop2 = x,ptop[1]+swflag*3\n",
    "        d.append(dw.Line(x,y,*ptop,stroke=c,stroke_width=sw))\n",
    "        d.append(dw.Line(*ptop,ptop[0]+dxflag,ptop[1]+dyflag,stroke=c,stroke_width=swflag))\n",
    "        d.append(dw.Line(*ptop2,ptop2[0]+dxflag,ptop2[1]+dyflag,stroke=c,stroke_width=swflag))\n",
    "        yy = y-y_space/2\n",
    "        rpoint = ptop\n",
    "    else:\n",
    "        pbottom = x,y-dirlen*y_space*3\n",
    "        pbottom2 = x,pbottom[1]-swflag*3\n",
    "        d.append(dw.Line(x,y,*pbottom,stroke=c,stroke_width=sw))\n",
    "        d.append(dw.Line(*pbottom,pbottom[0]+dxflag,pbottom[1]-dyflag,stroke=c,stroke_width=swflag))\n",
    "        d.append(dw.Line(*pbottom2,pbottom2[0]+dxflag,pbottom2[1]-dyflag,stroke=c,stroke_width=swflag))\n",
    "        yy = y+y_space/2\n",
    "        rpoint = pbottom\n",
    "    if dotted > 0:\n",
    "        xx = x+y_space/2\n",
    "        for i in range(dotted):\n",
    "            d.append(dw.Circle(xx,yy,y_space/6,fill=c))\n",
    "            xx += y_space/2\n",
    "    return rpoint\n",
    "\n",
    "def hals32tel(x=50,y=50,dirlen=1,y_space=10,swfac=1,swflagfac=0.2,dotted=0,c='#444',**args):\n",
    "    \"\"\"nur der hals von xy bis dahin was dirlen sagt\n",
    "    dirlen=1 means in normal length (y_space*2.75) upwards\n",
    "    dirlen=-1.2 means in length 3.3*yspace downwards\n",
    "    swfac is stroke width of the line, as relation to y_space*0.1\n",
    "    swflag is stroke width of the flag, as relation to y_space (default 0.2)\n",
    "    dotted=0 (default) means no dots, dotted=2 means two dots after the note\n",
    "    returns top or bottom point of the line\"\"\"\n",
    "    sw = y_space * swfac * 0.1\n",
    "    swflag = y_space * swflagfac\n",
    "    r = y_space/2\n",
    "    dxflag = y_space\n",
    "    dyflag = y_space*1.33*abs(dirlen)\n",
    "    if dirlen > 0: \n",
    "        ptop = x,y-dirlen*y_space*3.25\n",
    "        ptop2 = x,ptop[1]+swflag*3\n",
    "        ptop3 = x,ptop2[1]+swflag*3\n",
    "        d.append(dw.Line(x,y,*ptop,stroke=c,stroke_width=sw))\n",
    "        d.append(dw.Line(*ptop,ptop[0]+dxflag,ptop[1]+dyflag,stroke=c,stroke_width=swflag))\n",
    "        d.append(dw.Line(*ptop2,ptop2[0]+dxflag,ptop2[1]+dyflag,stroke=c,stroke_width=swflag))\n",
    "        d.append(dw.Line(*ptop3,ptop3[0]+dxflag,ptop3[1]+dyflag,stroke=c,stroke_width=swflag))\n",
    "        yy = y-y_space/2\n",
    "        rpoint = ptop\n",
    "    else:\n",
    "        pbottom = x,y-dirlen*y_space*3.25\n",
    "        pbottom2 = x,pbottom[1]-swflag*3\n",
    "        pbottom3 = x,pbottom2[1]-swflag*3\n",
    "        d.append(dw.Line(x,y,*pbottom,stroke=c,stroke_width=sw))\n",
    "        d.append(dw.Line(*pbottom,pbottom[0]+dxflag,pbottom[1]-dyflag,stroke=c,stroke_width=swflag))\n",
    "        d.append(dw.Line(*pbottom2,pbottom2[0]+dxflag,pbottom2[1]-dyflag,stroke=c,stroke_width=swflag))\n",
    "        d.append(dw.Line(*pbottom3,pbottom3[0]+dxflag,pbottom3[1]-dyflag,stroke=c,stroke_width=swflag))\n",
    "        yy = y+y_space/2\n",
    "        rpoint = pbottom\n",
    "    if dotted > 0:\n",
    "        xx = x+y_space/2\n",
    "        for i in range(dotted):\n",
    "            d.append(dw.Circle(xx,yy,y_space/6,fill=c))\n",
    "            xx += y_space/2\n",
    "    return rpoint\n",
    "\n",
    "\n",
    "hals32tel(dirlen=-1,dotted=2)\n",
    "    \n",
    "d.set_pixel_scale(4)\n",
    "#d.save_png('varVib.png')\n",
    "#d.save_svg('varVib.svg')\n",
    "d"
   ]
  },
  {
   "cell_type": "code",
   "execution_count": 72,
   "id": "lovely-least",
   "metadata": {},
   "outputs": [
    {
     "name": "stdout",
     "output_type": "stream",
     "text": [
      "Help on function dot in module __main__:\n",
      "\n",
      "dot(x=10, y=10, r=3, c='black', **args)\n",
      "    quasi d.append(dw.Circle(...))\n",
      "    with radius=3 and color=black as default\n",
      "\n"
     ]
    }
   ],
   "source": [
    "help(dot)"
   ]
  },
  {
   "cell_type": "code",
   "execution_count": null,
   "id": "f81fd8d3",
   "metadata": {},
   "outputs": [],
   "source": []
  }
 ],
 "metadata": {
  "kernelspec": {
   "display_name": "Python 3 (ipykernel)",
   "language": "python",
   "name": "python3"
  },
  "language_info": {
   "codemirror_mode": {
    "name": "ipython",
    "version": 3
   },
   "file_extension": ".py",
   "mimetype": "text/x-python",
   "name": "python",
   "nbconvert_exporter": "python",
   "pygments_lexer": "ipython3",
   "version": "3.9.2"
  }
 },
 "nbformat": 4,
 "nbformat_minor": 5
}
