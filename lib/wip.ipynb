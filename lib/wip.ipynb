{
 "cells": [
  {
   "cell_type": "code",
   "execution_count": 1,
   "id": "imported-consortium",
   "metadata": {},
   "outputs": [],
   "source": [
    "import drawsvg as dw\n",
    "from os import listdir\n",
    "dir = '/home/jh/src/svg/lib'\n",
    "files = listdir(dir)\n",
    "for file in files:\n",
    "    if file[-3:] == '.py':\n",
    "        f = '%s/%s' % (dir,file)\n",
    "        exec(open(f).read())"
   ]
  },
  {
   "cell_type": "code",
   "execution_count": 2,
   "id": "diverse-commercial",
   "metadata": {},
   "outputs": [
    {
     "data": {
      "image/svg+xml": [
       "<?xml version=\"1.0\" encoding=\"UTF-8\"?>\n",
       "<svg xmlns=\"http://www.w3.org/2000/svg\" xmlns:xlink=\"http://www.w3.org/1999/xlink\"\n",
       "    width=\"1000\" height=\"400\" viewBox=\"0 0 500 200\">\n",
       "<defs>\n",
       "</defs>\n",
       "<text x=\"20\" y=\"30\" font-size=\"20\" textLength=\"250\" lengthAdjust=\"spacing\">Two words</text>\n",
       "<text x=\"20\" y=\"70\" font-size=\"20\" textLength=\"250\" lengthAdjust=\"spacingAndGlyphs\">Two words</text>\n",
       "<text x=\"20\" y=\"110\" font-size=\"20\">Two words (normal length)</text>\n",
       "<text x=\"20\" y=\"150\" font-size=\"20\" textLength=\"80\" lengthAdjust=\"spacing\">Two words</text>\n",
       "<text x=\"20\" y=\"190\" font-size=\"20\" textLength=\"80\" lengthAdjust=\"spacingAndGlyphs\">Two words</text>\n",
       "<path d=\"M20,10 L20,195\" stroke=\"gray\" />\n",
       "<path d=\"M270,80 L270,10\" stroke=\"gray\" />\n",
       "<path d=\"M100,130 L100,195\" stroke=\"gray\" />\n",
       "</svg>"
      ],
      "text/plain": [
       "<drawsvg.drawing.Drawing at 0x7f23f816e370>"
      ]
     },
     "execution_count": 2,
     "metadata": {},
     "output_type": "execute_result"
    }
   ],
   "source": [
    "d = dw.Drawing(500,200)\n",
    "\n",
    "s = 'Two words'\n",
    "d.append(dw.Text(s,20,20,30,textLength=250,lengthAdjust='spacing'))\n",
    "d.append(dw.Text(s,20,20,70,textLength=250,lengthAdjust='spacingAndGlyphs'))\n",
    "d.append(dw.Text(s+' (normal length)',20,20,110))\n",
    "d.append(dw.Text(s,20,20,150,textLength=80,lengthAdjust='spacing'))\n",
    "d.append(dw.Text(s,20,20,190,textLength=80,lengthAdjust='spacingAndGlyphs'))\n",
    "\n",
    "d.append(dw.Line(20,10,20,195,stroke='gray'))\n",
    "d.append(dw.Line(270,80,270,10,stroke='gray'))\n",
    "d.append(dw.Line(100,130,100,195,stroke='gray'))\n",
    "\n",
    "\n",
    "d.set_pixel_scale(2)\n",
    "#d.save_png('varVib.png')\n",
    "#d.save_svg('varVib.svg')\n",
    "d"
   ]
  },
  {
   "cell_type": "code",
   "execution_count": null,
   "id": "71a877e8",
   "metadata": {},
   "outputs": [],
   "source": []
  }
 ],
 "metadata": {
  "kernelspec": {
   "display_name": "Python 3 (ipykernel)",
   "language": "python",
   "name": "python3"
  },
  "language_info": {
   "codemirror_mode": {
    "name": "ipython",
    "version": 3
   },
   "file_extension": ".py",
   "mimetype": "text/x-python",
   "name": "python",
   "nbconvert_exporter": "python",
   "pygments_lexer": "ipython3",
   "version": "3.9.2"
  }
 },
 "nbformat": 4,
 "nbformat_minor": 5
}
