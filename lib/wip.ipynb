{
 "cells": [
  {
   "cell_type": "code",
   "execution_count": 6,
   "id": "imported-consortium",
   "metadata": {},
   "outputs": [],
   "source": [
    "import drawsvg as dw\n",
    "from os import listdir\n",
    "dir = '/home/jh/src/svg/lib'\n",
    "files = listdir(dir)\n",
    "for file in files:\n",
    "    if file[-3:] == '.py':\n",
    "        f = '%s/%s' % (dir,file)\n",
    "        exec(open(f).read())"
   ]
  },
  {
   "cell_type": "code",
   "execution_count": 12,
   "id": "diverse-commercial",
   "metadata": {},
   "outputs": [
    {
     "data": {
      "image/svg+xml": [
       "<?xml version=\"1.0\" encoding=\"UTF-8\"?>\n",
       "<svg xmlns=\"http://www.w3.org/2000/svg\" xmlns:xlink=\"http://www.w3.org/1999/xlink\"\n",
       "    width=\"1600\" height=\"1600\" viewBox=\"0 0 200 200\">\n",
       "<defs>\n",
       "</defs>\n",
       "<path d=\"M4.0,13.0 C1.5,8.5,11.5,3.0,16.0,7.0 C18.5,11.5,8.5,17.0,4.0,13.0\" stroke-width=\"1.0\" stroke=\"#444\" fill=\"none\" />\n",
       "</svg>"
      ],
      "text/plain": [
       "<drawsvg.drawing.Drawing at 0x7fe7c4294070>"
      ]
     },
     "execution_count": 12,
     "metadata": {},
     "output_type": "execute_result"
    }
   ],
   "source": [
    "d = dw.Drawing(200,200)\n",
    "\n",
    "\n",
    "\n",
    "\n",
    "note(fill='none')\n",
    "d.set_pixel_scale(8)\n",
    "#d.save_png('varVib.png')\n",
    "#d.save_svg('varVib.svg')\n",
    "d"
   ]
  },
  {
   "cell_type": "code",
   "execution_count": 4,
   "id": "f81fd8d3",
   "metadata": {},
   "outputs": [
    {
     "name": "stdout",
     "output_type": "stream",
     "text": [
      "Help on function tie in module __main__:\n",
      "\n",
      "tie(x=10, y=10, xend=100, yend=10, dir=1, sw=1, c='black', thick=1, **args)\n",
      "    tie (haltebogen) between two notes\n",
      "    dir=1 means bowing downwards, dir=1 upwards\n",
      "    larger number means more bowing\n",
      "    thick results in the thickness\n",
      "\n"
     ]
    }
   ],
   "source": [
    "help(tie)"
   ]
  },
  {
   "cell_type": "code",
   "execution_count": null,
   "id": "a4046fd6",
   "metadata": {},
   "outputs": [],
   "source": []
  }
 ],
 "metadata": {
  "kernelspec": {
   "display_name": "Python 3 (ipykernel)",
   "language": "python",
   "name": "python3"
  },
  "language_info": {
   "codemirror_mode": {
    "name": "ipython",
    "version": 3
   },
   "file_extension": ".py",
   "mimetype": "text/x-python",
   "name": "python",
   "nbconvert_exporter": "python",
   "pygments_lexer": "ipython3",
   "version": "3.9.2"
  }
 },
 "nbformat": 4,
 "nbformat_minor": 5
}
