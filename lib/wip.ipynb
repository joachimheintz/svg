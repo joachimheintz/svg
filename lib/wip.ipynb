{
 "cells": [
  {
   "cell_type": "code",
   "execution_count": 151,
   "id": "imported-consortium",
   "metadata": {},
   "outputs": [],
   "source": [
    "import drawsvg as dw\n",
    "from os import listdir\n",
    "dir = '/home/jh/src/svg/lib'\n",
    "files = listdir(dir)\n",
    "for file in files:\n",
    "    if file[-3:] == '.py':\n",
    "        f = '%s/%s' % (dir,file)\n",
    "        exec(open(f).read())"
   ]
  },
  {
   "cell_type": "code",
   "execution_count": 152,
   "id": "diverse-commercial",
   "metadata": {},
   "outputs": [
    {
     "data": {
      "image/svg+xml": [
       "<?xml version=\"1.0\" encoding=\"UTF-8\"?>\n",
       "<svg xmlns=\"http://www.w3.org/2000/svg\" xmlns:xlink=\"http://www.w3.org/1999/xlink\"\n",
       "    width=\"2000\" height=\"800\" viewBox=\"0 0 500 200\">\n",
       "<defs>\n",
       "</defs>\n",
       "<rect x=\"20\" y=\"20\" width=\"27\" height=\"23\" stroke=\"black\" stroke-width=\"1.35\" fill=\"none\" />\n",
       "<path d=\"M25.4,27.000000000000007 C32.0,24.000000000000007,32.0,31.800000000000004,26.599999999999998,31.200000000000006 C32.599999999999994,31.200000000000006,32.599999999999994,40.800000000000004,25.4,37.800000000000004\" fill=\"none\" stroke=\"black\" stroke-width=\"1.3500000000000003\" />\n",
       "<path d=\"M34.85,38.86 L40.25,31.5\" stroke=\"black\" stroke-width=\"1.35\" />\n",
       "<path d=\"M34.85,31.5 L40.25,38.86\" stroke=\"black\" stroke-width=\"1.35\" />\n",
       "</svg>"
      ],
      "text/plain": [
       "<drawsvg.drawing.Drawing at 0x7fb1e1ed7940>"
      ]
     },
     "execution_count": 152,
     "metadata": {},
     "output_type": "execute_result"
    }
   ],
   "source": [
    "d = dw.Drawing(500,200)\n",
    "\n",
    "def bp_N(x=20,y=20,wd=27,ht=23,**args):\n",
    "    \"\"\"element N von bizarre plaetze, für analytische partitur\n",
    "    drei mal\n",
    "    xy ist oben links\"\"\"\n",
    "    sw_rahmen = wd/20\n",
    "    sw_schrift = wd/20\n",
    "    h_schrift = 12\n",
    "    kasten(x,y,wd,ht,sw=sw_rahmen)\n",
    "    p1 = x+wd*.2,y+ht*.8\n",
    "    p2 = x+wd*.55,y+ht*.82\n",
    "    p3 = x+wd*.75,y+ht*.5\n",
    "    fac = (h_schrift / 12) * sw_schrift\n",
    "    drei(*p1,swfac=fac)\n",
    "    line(*p2,*p3,stroke_width=sw_schrift)\n",
    "    line(p2[0],p3[1],p3[0],p2[1],stroke_width=sw_schrift)\n",
    "\n",
    "\n",
    "\n",
    "bp_N()    \n",
    "    \n",
    "d.set_pixel_scale(4)\n",
    "#d.save_png('varVib.png')\n",
    "#d.save_svg('varVib.svg')\n",
    "d"
   ]
  },
  {
   "cell_type": "code",
   "execution_count": 141,
   "id": "ba55456f",
   "metadata": {},
   "outputs": [
    {
     "name": "stdout",
     "output_type": "stream",
     "text": [
      "Help on function drei in module __main__:\n",
      "\n",
      "drei(x=10, y=20, siz=12, c='black', swfac=1, **args)\n",
      "    die zahl drei\n",
      "    x,y ist links unten\n",
      "\n"
     ]
    }
   ],
   "source": [
    "help(drei)"
   ]
  },
  {
   "cell_type": "code",
   "execution_count": null,
   "id": "938c71d3",
   "metadata": {},
   "outputs": [],
   "source": []
  }
 ],
 "metadata": {
  "kernelspec": {
   "display_name": "Python 3 (ipykernel)",
   "language": "python",
   "name": "python3"
  },
  "language_info": {
   "codemirror_mode": {
    "name": "ipython",
    "version": 3
   },
   "file_extension": ".py",
   "mimetype": "text/x-python",
   "name": "python",
   "nbconvert_exporter": "python",
   "pygments_lexer": "ipython3",
   "version": "3.9.2"
  }
 },
 "nbformat": 4,
 "nbformat_minor": 5
}
