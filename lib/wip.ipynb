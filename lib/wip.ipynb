{
 "cells": [
  {
   "cell_type": "code",
   "execution_count": 2,
   "id": "imported-consortium",
   "metadata": {},
   "outputs": [],
   "source": [
    "import drawsvg as dw\n",
    "from os import listdir\n",
    "dir = '/home/jh/src/svg/lib'\n",
    "files = listdir(dir)\n",
    "for file in files:\n",
    "    if file[-3:] == '.py':\n",
    "        f = '%s/%s' % (dir,file)\n",
    "        exec(open(f).read())"
   ]
  },
  {
   "cell_type": "code",
   "execution_count": 14,
   "id": "diverse-commercial",
   "metadata": {},
   "outputs": [
    {
     "data": {
      "image/svg+xml": [
       "<?xml version=\"1.0\" encoding=\"UTF-8\"?>\n",
       "<svg xmlns=\"http://www.w3.org/2000/svg\" xmlns:xlink=\"http://www.w3.org/1999/xlink\"\n",
       "    width=\"800\" height=\"800\" viewBox=\"0 0 200 200\">\n",
       "<defs>\n",
       "</defs>\n",
       "<path d=\"M10,150 C12.5,144.23028307772168,12.5,154.23028307772168,15.0,149.23028307772168 C17.5,143.53747287696885,17.5,153.53747287696885,20.0,148.53747287696885 C22.5,143.1532587495372,22.5,153.1532587495372,25.0,148.1532587495372 C27.5,142.59331085009262,27.5,152.59331085009262,30.0,147.59331085009262 C32.5,141.69273259668543,32.5,151.69273259668543,35.0,146.69273259668543 C37.5,140.9113033294974,37.5,150.9113033294974,40.0,145.9113033294974 C42.5,140.02491273841167,42.5,150.02491273841167,45.0,145.02491273841167 C47.5,139.1017502101944,47.5,149.1017502101944,50.0,144.1017502101944 C52.5,138.31458428415593,52.5,148.31458428415593,55.0,143.31458428415593 C57.5,137.88403905703714,57.5,147.88403905703714,60.0,142.88403905703714 C62.5,137.6219835608052,62.5,147.6219835608052,65.0,142.6219835608052 C67.5,120.92323387866816,67.5,130.92323387866816,70.0,125.92323387866816 C72.5,94.75592306784321,72.5,104.75592306784321,75.0,99.75592306784321 C77.5,73.9733637190007,77.5,83.9733637190007,80.0,78.9733637190007 C82.5,63.84706914524024,82.5,73.84706914524024,85.0,68.84706914524024 C87.5,48.367616983143684,87.5,58.367616983143684,90.0,53.367616983143684 C92.5,48.367616983143684,92.5,58.367616983143684,95.0,53.367616983143684 C97.5,48.367616983143684,97.5,58.367616983143684,100.0,53.367616983143684 C102.5,48.367616983143684,102.5,58.367616983143684,105.0,53.367616983143684 C107.5,48.367616983143684,107.5,58.367616983143684,110.0,53.367616983143684 C112.5,48.367616983143684,112.5,58.367616983143684,115.0,53.367616983143684 C117.5,64.64033894770192,117.5,74.64033894770192,120.0,69.64033894770192 C122.5,74.3713410853267,122.5,84.3713410853267,125.0,79.3713410853267 C127.5,81.63163255947285,127.5,91.63163255947285,130.0,86.63163255947285 C132.5,88.08483541051001,132.5,98.08483541051001,135.0,93.08483541051001 C137.5,98.06976696712358,137.5,108.06976696712358,140.0,103.06976696712358 C142.5,109.43083617696145,142.5,119.43083617696145,145.0,114.43083617696145 C147.5,116.19100490768223,147.5,126.19100490768223,150.0,121.19100490768223 C152.5,121.27860903225162,152.5,131.2786090322516,155.0,126.27860903225162 C157.5,128.46583049458326,157.5,138.46583049458326,160.0,133.46583049458326\" fill=\"none\" stroke=\"black\" stroke-width=\"0.5\" />\n",
       "</svg>"
      ],
      "text/plain": [
       "<drawsvg.drawing.Drawing at 0x7f1090272f10>"
      ]
     },
     "execution_count": 14,
     "metadata": {},
     "output_type": "execute_result"
    }
   ],
   "source": [
    "d = dw.Drawing(200,200)\n",
    "\n",
    "def varVibr2_lseg(xyseg=[10,10,50,100,150,50],hmin=5,hmax=10,prdmin=3,prdmax=9,\n",
    "               hmaxdiffac=1,prdmaxdiffac=1,mdiffac=2,c='black',sw=1,returnonly=0,**args):\n",
    "    \"\"\"wie varVibr2_l aber als xy segmente in xylis\n",
    "    mit hmaxdiffac und prdmaxdiffac lässt sich die maximale abweichung von einem\n",
    "    zum nächsten schritt steuern\n",
    "    mdiffac=2 bedeutet dass die steigung in einer periode zwischen m/2 und m*2 liegt\n",
    "    gibt den pfad zurück\n",
    "    wenn returnonly=1 wird NUR der pfad zurückgegeben\"\"\"\n",
    "    from random import uniform\n",
    "    hmaxdiff = (hmax-hmin) * hmaxdiffac #maximale veränderung zwischen zwei perioden\n",
    "    prdmaxdiff = (prdmax-prdmin) * prdmaxdiffac #dito\n",
    "    numseg = len(xyseg) // 2\n",
    "    # die x und y werte in eigene listen schreiben\n",
    "    xseg = [xyseg[i*2] for i in range(numseg)]\n",
    "    yseg = [xyseg[i*2+1] for i in range(numseg)]\n",
    "    # anfangswerte setzen\n",
    "    m = (yseg[1]-yseg[0]) / (xseg[1]-xseg[0])\n",
    "    m_maxdiff = ((m*mdiffac)-(m/mdiffac)) / 2\n",
    "    x,y = xseg[0],yseg[0]\n",
    "    h = (hmin+hmax) / 2 \n",
    "    prd = (prdmin+prdmax) / 2 \n",
    "    mhier = m\n",
    "    indx = 0\n",
    "    # der pfad\n",
    "    p = dw.Path(fill='none',stroke=c,stroke_width=sw,**args)\n",
    "    p.M(x,y)\n",
    "    # iterieren\n",
    "    while x < xseg[-1]:\n",
    "        mhier = brownian1(mhier,m/mdiffac,m*mdiffac,m_maxdiff)\n",
    "        xtarget = x+prd\n",
    "        h = brownian1(h,hmin,hmax,hmaxdiff)\n",
    "        ytarget = y+(xtarget-x)*mhier\n",
    "        c1 = x+prd/2,ytarget-h\n",
    "        c2 = x+prd/2,ytarget+h\n",
    "        p.C(*c1,*c2,xtarget,ytarget)\n",
    "        x = xtarget\n",
    "        y = ytarget\n",
    "        prd = brownian1(prd,prdmin,prdmax,prdmaxdiff)\n",
    "        # ggf index raufsetzen und steigung aktualisieren \n",
    "        if x > xseg[indx+1] and indx < len(xseg)-2:\n",
    "            indx += 1\n",
    "            m = (yseg[indx+1]-yseg[indx]) / (xseg[indx+1]-xseg[indx])\n",
    "            m_maxdiff = ((m*mdiffac)-(m/mdiffac)) / 2\n",
    "            mhier = m\n",
    "    if returnonly==0: d.append(p)\n",
    "    return p\n",
    "\n",
    "#varVibr2_lseg()\n",
    "y = 150\n",
    "y1 = 50\n",
    "x = 10\n",
    "xunit = 25\n",
    "varVibr2_lseg([x,y,x+xunit*2,y-5,x+xunit*3,y1,x+xunit*4,y1,x+xunit*6,y],hmin=5,hmax=5,prdmin=5,prdmax=5,sw=.5)\n",
    "\n",
    "d.set_pixel_scale(4)\n",
    "#d.save_png('varVib.png')\n",
    "#d.save_svg('varVib.svg')\n",
    "d"
   ]
  },
  {
   "cell_type": "code",
   "execution_count": null,
   "id": "71a877e8",
   "metadata": {},
   "outputs": [],
   "source": []
  }
 ],
 "metadata": {
  "kernelspec": {
   "display_name": "Python 3 (ipykernel)",
   "language": "python",
   "name": "python3"
  },
  "language_info": {
   "codemirror_mode": {
    "name": "ipython",
    "version": 3
   },
   "file_extension": ".py",
   "mimetype": "text/x-python",
   "name": "python",
   "nbconvert_exporter": "python",
   "pygments_lexer": "ipython3",
   "version": "3.9.2"
  }
 },
 "nbformat": 4,
 "nbformat_minor": 5
}
