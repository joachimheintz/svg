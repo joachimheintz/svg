{
 "cells": [
  {
   "cell_type": "code",
   "execution_count": 1,
   "id": "imported-consortium",
   "metadata": {},
   "outputs": [],
   "source": [
    "import drawsvg as dw\n",
    "from os import listdir\n",
    "dir = '/home/jh/src/svg/lib'\n",
    "files = listdir(dir)\n",
    "for file in files:\n",
    "    if file[-3:] == '.py':\n",
    "        f = '%s/%s' % (dir,file)\n",
    "        exec(open(f).read())"
   ]
  },
  {
   "cell_type": "code",
   "execution_count": 2,
   "id": "4a4df8e6-c640-4bec-bdeb-1e8f66dc4fa1",
   "metadata": {
    "tags": []
   },
   "outputs": [
    {
     "name": "stdout",
     "output_type": "stream",
     "text": [
      "/usr/local/lib/python3.9/dist-packages\n",
      "/usr/lib/python3/dist-packages/notebook/static/components/codemirror/mode/csound\n",
      "/home/jh/.jupyter/custom\n",
      "Help on package notebook:\n",
      "\n",
      "NAME\n",
      "    notebook - The Jupyter HTML Notebook\n",
      "\n",
      "PACKAGE CONTENTS\n",
      "    __main__\n",
      "    _sysinfo\n",
      "    _tz\n",
      "    _version\n",
      "    auth (package)\n",
      "    base (package)\n",
      "    bundler (package)\n",
      "    config_manager\n",
      "    edit (package)\n",
      "    extensions\n",
      "    files (package)\n",
      "    gateway (package)\n",
      "    i18n (package)\n",
      "    jstest\n",
      "    kernelspecs (package)\n",
      "    log\n",
      "    nbconvert (package)\n",
      "    nbextensions\n",
      "    notebook (package)\n",
      "    notebookapp\n",
      "    prometheus (package)\n",
      "    serverextensions\n",
      "    services (package)\n",
      "    terminal (package)\n",
      "    transutils\n",
      "    tree (package)\n",
      "    utils\n",
      "    view (package)\n",
      "\n",
      "DATA\n",
      "    DEFAULT_NOTEBOOK_PORT = 8888\n",
      "    DEFAULT_STATIC_FILES_PATH = '/usr/lib/python3/dist-packages/notebook/s...\n",
      "    DEFAULT_TEMPLATE_PATH_LIST = ['/usr/lib/python3/dist-packages/notebook...\n",
      "    version_info = (6, 2, 0)\n",
      "\n",
      "VERSION\n",
      "    6.2.0\n",
      "\n",
      "FILE\n",
      "    /usr/lib/python3/dist-packages/notebook/__init__.py\n",
      "\n",
      "\n"
     ]
    }
   ],
   "source": [
    "import os.path\n",
    "import shutil\n",
    "import site\n",
    "\n",
    "import notebook\n",
    "\n",
    "# Copy csoundmagics in site-packages dir\n",
    "dest = site.getsitepackages()[0]\n",
    "print(dest)\n",
    "#shutil.copy(\"csoundmagics.py\", dest)\n",
    "\n",
    "# Copy csound mode in codemirror\n",
    "dest = os.path.join(notebook.DEFAULT_STATIC_FILES_PATH, \"components\", \"codemirror\", \"mode\", \"csound\")\n",
    "if not os.path.exists(dest):\n",
    "    os.mkdir(dest)\n",
    "print(dest)\n",
    "#shutil.copy(\"csound.js\", dest)\n",
    "\n",
    "# Copy custom.js in jupyter dir\n",
    "dest = os.path.join(notebook.extensions.jupyter_config_dir(), \"custom\")\n",
    "if not os.path.exists(dest):\n",
    "    os.mkdir(dest)\n",
    "print(dest)\n",
    "#shutil.copy(\"custom.js\", dest)\n",
    "\n",
    "help(notebook)"
   ]
  },
  {
   "cell_type": "code",
   "execution_count": 4,
   "id": "diverse-commercial",
   "metadata": {},
   "outputs": [
    {
     "data": {
      "image/svg+xml": [
       "<?xml version=\"1.0\" encoding=\"UTF-8\"?>\n",
       "<svg xmlns=\"http://www.w3.org/2000/svg\" xmlns:xlink=\"http://www.w3.org/1999/xlink\"\n",
       "    width=\"500\" height=\"200\" viewBox=\"0 0 500 200\">\n",
       "<defs>\n",
       "</defs>\n",
       "<circle cx=\"20\" cy=\"20\" r=\"10\" fill=\"none\" stroke=\"black\" stroke-width=\"0.6666666666666666\" />\n",
       "<path d=\"M7.5,22.5 L10,20 L12.5,22.5\" fill=\"none\" stroke=\"black\" stroke-width=\"0.6666666666666666\" />\n",
       "</svg>"
      ],
      "text/plain": [
       "<drawsvg.drawing.Drawing at 0x7fe5d03b3b20>"
      ]
     },
     "execution_count": 4,
     "metadata": {},
     "output_type": "execute_result"
    }
   ],
   "source": [
    "d = dw.Drawing(500,200)\n",
    "\n",
    "def kreisLinks(x=20,y=20,r=10,swfac=1,c='black',**args):\n",
    "    \"\"\"ein kreis mit pfeil nach links\n",
    "    sw = swfac * r / 15\n",
    "    x,y ist mitte des kreises\"\"\"\n",
    "    sw = swfac * r / 15\n",
    "    alen = r/2\n",
    "    d.append(dw.Circle(x,y,r,fill='none',stroke=c,stroke_width=sw,**args))\n",
    "    d.append(dw.Lines(x+r-alen/2,y+alen/2, x+r,y ,x+r+alen/2,y+alen/2,fill='none',stroke=c,stroke_width=sw,**args))\n",
    "\n",
    "def kreisRechts(x=20,y=20,r=10,swfac=1,c='black',**args):\n",
    "    \"\"\"ein kreis mit pfeil nach rechts\n",
    "    sw = swfac * r / 15\n",
    "    x,y ist mitte des kreises\"\"\"\n",
    "    sw = swfac * r / 15\n",
    "    alen = r/2\n",
    "    d.append(dw.Circle(x,y,r,fill='none',stroke=c,stroke_width=sw,**args))\n",
    "    d.append(dw.Lines(x-r-alen/2,y+alen/2, x-r,y ,x-r+alen/2,y+alen/2,fill='none',stroke=c,stroke_width=sw,**args))\n",
    "    \n",
    "    \n",
    "kreisRechts()\n",
    "#d.set_pixel_scale(4)\n",
    "d"
   ]
  },
  {
   "cell_type": "code",
   "execution_count": null,
   "id": "lovely-least",
   "metadata": {},
   "outputs": [],
   "source": []
  }
 ],
 "metadata": {
  "kernelspec": {
   "display_name": "Python 3",
   "language": "python",
   "name": "python3"
  },
  "language_info": {
   "codemirror_mode": {
    "name": "ipython",
    "version": 3
   },
   "file_extension": ".py",
   "mimetype": "text/x-python",
   "name": "python",
   "nbconvert_exporter": "python",
   "pygments_lexer": "ipython3",
   "version": "3.9.2"
  }
 },
 "nbformat": 4,
 "nbformat_minor": 5
}
