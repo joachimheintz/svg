{
 "cells": [
  {
   "cell_type": "code",
   "execution_count": 1,
   "id": "imported-consortium",
   "metadata": {},
   "outputs": [],
   "source": [
    "import drawsvg as dw\n",
    "from os import listdir\n",
    "dir = '/home/jh/src/svg/lib'\n",
    "files = listdir(dir)\n",
    "for file in files:\n",
    "    if file[-3:] == '.py':\n",
    "        f = '%s/%s' % (dir,file)\n",
    "        exec(open(f).read())"
   ]
  },
  {
   "cell_type": "code",
   "execution_count": 43,
   "id": "diverse-commercial",
   "metadata": {},
   "outputs": [
    {
     "data": {
      "image/svg+xml": [
       "<?xml version=\"1.0\" encoding=\"UTF-8\"?>\n",
       "<svg xmlns=\"http://www.w3.org/2000/svg\" xmlns:xlink=\"http://www.w3.org/1999/xlink\"\n",
       "    width=\"2000\" height=\"800\" viewBox=\"0 0 500 200\">\n",
       "<defs>\n",
       "</defs>\n",
       "<circle cx=\"20\" cy=\"20\" r=\"10\" fill=\"none\" stroke=\"black\" stroke-width=\"0.6666666666666666\" />\n",
       "<path d=\"M7.5,22.5 L10,20 L12.5,22.5\" fill=\"none\" stroke=\"black\" stroke-width=\"0.6666666666666666\" />\n",
       "</svg>"
      ],
      "text/plain": [
       "<drawsvg.drawing.Drawing at 0x7f8995633c10>"
      ]
     },
     "execution_count": 43,
     "metadata": {},
     "output_type": "execute_result"
    }
   ],
   "source": [
    "d = dw.Drawing(500,200)\n",
    "\n",
    "def kreisLinks(x=20,y=20,r=10,swfac=1,c='black',**args):\n",
    "    \"\"\"ein kreis mit pfeil nach links\n",
    "    sw = swfac * r / 15\n",
    "    x,y ist mitte des kreises\"\"\"\n",
    "    sw = swfac * r / 15\n",
    "    alen = r/2\n",
    "    d.append(dw.Circle(x,y,r,fill='none',stroke=c,stroke_width=sw,**args))\n",
    "    d.append(dw.Lines(x+r-alen/2,y+alen/2, x+r,y ,x+r+alen/2,y+alen/2,fill='none',stroke=c,stroke_width=sw,**args))\n",
    "\n",
    "def kreisRechts(x=20,y=20,r=10,swfac=1,c='black',**args):\n",
    "    \"\"\"ein kreis mit pfeil nach rechts\n",
    "    sw = swfac * r / 15\n",
    "    x,y ist mitte des kreises\"\"\"\n",
    "    sw = swfac * r / 15\n",
    "    alen = r/2\n",
    "    d.append(dw.Circle(x,y,r,fill='none',stroke=c,stroke_width=sw,**args))\n",
    "    d.append(dw.Lines(x-r-alen/2,y+alen/2, x-r,y ,x-r+alen/2,y+alen/2,fill='none',stroke=c,stroke_width=sw,**args))\n",
    "    \n",
    "    \n",
    "kreisRechts()\n",
    "d.set_pixel_scale(4)\n",
    "d"
   ]
  },
  {
   "cell_type": "code",
   "execution_count": 261,
   "id": "protecting-techno",
   "metadata": {},
   "outputs": [
    {
     "name": "stdout",
     "output_type": "stream",
     "text": [
      "[21.0, 21.21, 21.43, 21.68, 21.96, 22.28, 22.64, 23.04, 23.49, 24.0, 24.56, 25.2, 25.92, 26.72, 27.62, 28.64]\n"
     ]
    }
   ],
   "source": [
    "liste = [8.26,8.49,8.74,9.02,9.33,9.68,10.08,10.53,11.03,11.59,12.22,12.93,13.73,14.62,15.62,16.75]\n",
    "liste2 = [round((i-8.26)*54/60+21,2) for i in liste]\n",
    "print(liste2)"
   ]
  },
  {
   "cell_type": "code",
   "execution_count": null,
   "id": "lovely-least",
   "metadata": {},
   "outputs": [],
   "source": []
  }
 ],
 "metadata": {
  "kernelspec": {
   "display_name": "Python 3",
   "language": "python",
   "name": "python3"
  },
  "language_info": {
   "codemirror_mode": {
    "name": "ipython",
    "version": 3
   },
   "file_extension": ".py",
   "mimetype": "text/x-python",
   "name": "python",
   "nbconvert_exporter": "python",
   "pygments_lexer": "ipython3",
   "version": "3.9.2"
  }
 },
 "nbformat": 4,
 "nbformat_minor": 5
}
