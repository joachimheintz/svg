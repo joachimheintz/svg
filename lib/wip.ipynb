{
 "cells": [
  {
   "cell_type": "code",
   "execution_count": 2,
   "id": "imported-consortium",
   "metadata": {},
   "outputs": [],
   "source": [
    "import drawsvg as dw\n",
    "from os import listdir\n",
    "dir = '/home/jh/src/svg/lib'\n",
    "files = listdir(dir)\n",
    "for file in files:\n",
    "    if file[-3:] == '.py':\n",
    "        f = '%s/%s' % (dir,file)\n",
    "        exec(open(f).read())"
   ]
  },
  {
   "cell_type": "code",
   "execution_count": 38,
   "id": "diverse-commercial",
   "metadata": {},
   "outputs": [
    {
     "data": {
      "image/svg+xml": [
       "<?xml version=\"1.0\" encoding=\"UTF-8\"?>\n",
       "<svg xmlns=\"http://www.w3.org/2000/svg\" xmlns:xlink=\"http://www.w3.org/1999/xlink\"\n",
       "    width=\"400\" height=\"400\" viewBox=\"0 0 200 200\">\n",
       "<defs>\n",
       "</defs>\n",
       "<path d=\"M4.0,63.0 C1.5,58.5,11.5,53.0,16.0,57.0 C18.5,61.5,8.5,67.0,4.0,63.0\" fill=\"#444\" />\n",
       "<path d=\"M16.0,59.0 L16.0,32.0\" stroke=\"black\" stroke-width=\"1.0\" />\n",
       "<circle cx=\"10\" cy=\"20\" r=\"2.0\" fill=\"black\" />\n",
       "<path d=\"M0,22.0 A10,10,0,1,1,20,22.0 A10,9.0,0,1,0,0,22.0\" fill=\"black\" stroke=\"black\" stroke-width=\"1.0\" transform=\"rotate(180.000000,10.000000,20.000000)\" />\n",
       "</svg>"
      ],
      "text/plain": [
       "<drawsvg.drawing.Drawing at 0x7f66801e2970>"
      ]
     },
     "execution_count": 38,
     "metadata": {},
     "output_type": "execute_result"
    }
   ],
   "source": [
    "d = dw.Drawing(200,200)\n",
    "\n",
    "def fermate(x=10,y=20,y_space=10,dir=1,swfac=1,c='black',thick=1,dotfac=1,**args):\n",
    "    \"\"\"eine fermate\n",
    "    x,y ist da wo der punkt ist\n",
    "    dir=-1 bedeutet von unten\"\"\"\n",
    "    dotsiz = y_space * .2 * dotfac\n",
    "    sw = y_space * .1 * swfac\n",
    "    if dir==-1: rot=180\n",
    "    else: rot=0\n",
    "    d.append(dw.Circle(x,y,dotsiz,fill=c))\n",
    "    p = dw.Path(fill=c,stroke=c,stroke_width=sw,\n",
    "                transform='rotate(%f,%f,%f)'%(rot,x,y),**args)\n",
    "    x1 = x-y_space\n",
    "    x2 = x+y_space\n",
    "    r = y_space\n",
    "    r2 = r-y_space*.1*thick\n",
    "    yy = y+y_space/5\n",
    "    p1 = x1,yy\n",
    "    p2 = x2,yy\n",
    "    p.M(*p1)\n",
    "    p.A(r,r,0,1,1,*p2)\n",
    "    p.A(r,r2,0,1,0,*p1)\n",
    "    q = p\n",
    "    d.append(p)\n",
    "\n",
    "not4tel(10,60)\n",
    "fermate(swfac=1,dir=-1)\n",
    "\n",
    "d.set_pixel_scale(2)\n",
    "#d.save_png('varVib.png')\n",
    "#d.save_svg('varVib.svg')\n",
    "d"
   ]
  },
  {
   "cell_type": "code",
   "execution_count": null,
   "id": "b736cdeb",
   "metadata": {},
   "outputs": [],
   "source": []
  }
 ],
 "metadata": {
  "kernelspec": {
   "display_name": "Python 3 (ipykernel)",
   "language": "python",
   "name": "python3"
  },
  "language_info": {
   "codemirror_mode": {
    "name": "ipython",
    "version": 3
   },
   "file_extension": ".py",
   "mimetype": "text/x-python",
   "name": "python",
   "nbconvert_exporter": "python",
   "pygments_lexer": "ipython3",
   "version": "3.9.2"
  }
 },
 "nbformat": 4,
 "nbformat_minor": 5
}
