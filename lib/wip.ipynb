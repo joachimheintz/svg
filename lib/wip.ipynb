{
 "cells": [
  {
   "cell_type": "code",
   "execution_count": 19,
   "id": "imported-consortium",
   "metadata": {},
   "outputs": [],
   "source": [
    "import drawsvg as dw\n",
    "from os import listdir\n",
    "dir = '/home/jh/src/svg/lib'\n",
    "files = listdir(dir)\n",
    "for file in files:\n",
    "    if file[-3:] == '.py':\n",
    "        f = '%s/%s' % (dir,file)\n",
    "        exec(open(f).read())"
   ]
  },
  {
   "cell_type": "code",
   "execution_count": 20,
   "id": "diverse-commercial",
   "metadata": {},
   "outputs": [
    {
     "data": {
      "image/svg+xml": [
       "<?xml version=\"1.0\" encoding=\"UTF-8\"?>\n",
       "<svg xmlns=\"http://www.w3.org/2000/svg\" xmlns:xlink=\"http://www.w3.org/1999/xlink\"\n",
       "    width=\"800\" height=\"800\" viewBox=\"0 0 200 200\">\n",
       "<defs>\n",
       "</defs>\n",
       "<path d=\"M14.0,23.0 C11.5,18.5,21.5,13.0,26.0,17.0 C28.5,21.5,18.5,27.0,14.0,23.0\" stroke-width=\"2.0\" stroke=\"black\" fill=\"none\" />\n",
       "<path d=\"M11.75,13.0 L11.75,27.0\" stroke=\"black\" stroke-width=\"1.0\" />\n",
       "<path d=\"M28.25,13.0 L28.25,27.0\" stroke=\"black\" stroke-width=\"1.0\" />\n",
       "<circle cx=\"31.0\" cy=\"16.0\" r=\"1.6666666666666667\" fill=\"black\" />\n",
       "</svg>"
      ],
      "text/plain": [
       "<drawsvg.drawing.Drawing at 0x7f991af32700>"
      ]
     },
     "execution_count": 20,
     "metadata": {},
     "output_type": "execute_result"
    }
   ],
   "source": [
    "d = dw.Drawing(200,200)\n",
    "\n",
    "notbrevis(20,20,dotted=1)\n",
    "\n",
    "d.set_pixel_scale(4)\n",
    "#d.save_png('varVib.png')\n",
    "#d.save_svg('varVib.svg')\n",
    "d"
   ]
  },
  {
   "cell_type": "code",
   "execution_count": 22,
   "id": "b736cdeb",
   "metadata": {},
   "outputs": [
    {
     "data": {
      "text/plain": [
       "10.955700000000002"
      ]
     },
     "execution_count": 22,
     "metadata": {},
     "output_type": "execute_result"
    }
   ],
   "source": [
    "plopp = [7.113,7.390,8.226,9.310,10.225,10.980,11.746,12.532,13.092,13.764,14.303,\n",
    "         14.713,15.164,15.578,16.038,16.302,16.618,16.908,17.174,17.501,17.640,17.845,\n",
    "         18.030,18.202,18.358,18.500,18.633,18.752,18.862,18.962,19.055,19.139,19.216,19.286]\n",
    "plopp0 = [(i-7.113)*54/60 for i in plopp]\n",
    "plopp0[-1]"
   ]
  },
  {
   "cell_type": "code",
   "execution_count": null,
   "id": "71a877e8",
   "metadata": {},
   "outputs": [],
   "source": []
  }
 ],
 "metadata": {
  "kernelspec": {
   "display_name": "Python 3 (ipykernel)",
   "language": "python",
   "name": "python3"
  },
  "language_info": {
   "codemirror_mode": {
    "name": "ipython",
    "version": 3
   },
   "file_extension": ".py",
   "mimetype": "text/x-python",
   "name": "python",
   "nbconvert_exporter": "python",
   "pygments_lexer": "ipython3",
   "version": "3.9.2"
  }
 },
 "nbformat": 4,
 "nbformat_minor": 5
}
