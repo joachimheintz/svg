{
 "cells": [
  {
   "cell_type": "markdown",
   "id": "given-reality",
   "metadata": {},
   "source": [
    "# 1. Basic Shapes"
   ]
  },
  {
   "cell_type": "code",
   "execution_count": 33,
   "id": "religious-gathering",
   "metadata": {},
   "outputs": [],
   "source": [
    "import draw2Svg as dw"
   ]
  },
  {
   "cell_type": "markdown",
   "id": "smooth-pride",
   "metadata": {},
   "source": [
    "## One Line"
   ]
  },
  {
   "cell_type": "markdown",
   "id": "prescription-qatar",
   "metadata": {},
   "source": [
    "```\n",
    "dw.Line(sx, sy, ex, ey, **kwargs)\n",
    "```"
   ]
  },
  {
   "cell_type": "code",
   "execution_count": 2,
   "id": "scheduled-universal",
   "metadata": {},
   "outputs": [
    {
     "data": {
      "image/svg+xml": [
       "<?xml version=\"1.0\" encoding=\"UTF-8\"?>\n",
       "<svg xmlns=\"http://www.w3.org/2000/svg\" xmlns:xlink=\"http://www.w3.org/1999/xlink\"\n",
       "     width=\"100\" height=\"100\" viewBox=\"0 0 100 100\">\n",
       "<defs>\n",
       "</defs>\n",
       "<path d=\"M30,30 L90,90\" stroke=\"black\" />\n",
       "</svg>"
      ],
      "text/plain": [
       "<draw2Svg.drawing.Drawing at 0x7f213ef299d0>"
      ]
     },
     "execution_count": 2,
     "metadata": {},
     "output_type": "execute_result"
    }
   ],
   "source": [
    "d = dw.Drawing(100,100,idPrefix='line')\n",
    "line = dw.Line(30,30,90,90,stroke='black')\n",
    "d.append(line)\n",
    "#d.saveSvg('01_line.svg')\n",
    "d"
   ]
  },
  {
   "cell_type": "markdown",
   "id": "outside-feature",
   "metadata": {},
   "source": [
    "## Multiple Lines"
   ]
  },
  {
   "cell_type": "markdown",
   "id": "quantitative-wiring",
   "metadata": {},
   "source": [
    "This is SVG's `polyline`. \n",
    "(But draw2Svg renders as path with multiple L.)\n",
    "\n",
    "```\n",
    "dw.Lines(sx, sy, *points, close=False, **kwargs)\n",
    "```"
   ]
  },
  {
   "cell_type": "code",
   "execution_count": 26,
   "id": "further-fellowship",
   "metadata": {
    "scrolled": true
   },
   "outputs": [
    {
     "data": {
      "image/svg+xml": [
       "<?xml version=\"1.0\" encoding=\"UTF-8\"?>\n",
       "<svg xmlns=\"http://www.w3.org/2000/svg\" xmlns:xlink=\"http://www.w3.org/1999/xlink\"\n",
       "     width=\"100\" height=\"100\" viewBox=\"0 0 100 100\">\n",
       "<defs>\n",
       "</defs>\n",
       "<path d=\"M10,90 L10,10 L80,90 L80,10\" fill=\"none\" stroke=\"black\" />\n",
       "</svg>"
      ],
      "text/plain": [
       "<draw2Svg.drawing.Drawing at 0x7f213dd90fd0>"
      ]
     },
     "execution_count": 26,
     "metadata": {},
     "output_type": "execute_result"
    }
   ],
   "source": [
    "d = dw.Drawing(100,100,idPrefix='multlines')\n",
    "lines = dw.Lines(10,90,10,10,80,90,80,10,fill='none',stroke='black')\n",
    "d.append(lines)\n",
    "#d.saveSvg('01_multilines.svg')\n",
    "d"
   ]
  },
  {
   "cell_type": "code",
   "execution_count": 35,
   "id": "alleged-labor",
   "metadata": {},
   "outputs": [
    {
     "data": {
      "image/svg+xml": [
       "<?xml version=\"1.0\" encoding=\"UTF-8\"?>\n",
       "<svg xmlns=\"http://www.w3.org/2000/svg\" xmlns:xlink=\"http://www.w3.org/1999/xlink\"\n",
       "     width=\"300\" height=\"100\" viewBox=\"0 0 300 100\">\n",
       "<defs>\n",
       "</defs>\n",
       "<path d=\"M30,80 L40,20 L50,80 L60,20 L70,80 L80,20 L90,80 L100,20 L110,80 L120,20 L130,80 L140,20 L150,80 L160,20 L170,80 L180,20 L190,80 L200,20 L210,80 L220,20\" stroke=\"black\" stroke-width=\"5\" fill=\"none\" />\n",
       "</svg>"
      ],
      "text/plain": [
       "<draw2Svg.drawing.Drawing at 0x7f213ddbbe80>"
      ]
     },
     "execution_count": 35,
     "metadata": {},
     "output_type": "execute_result"
    }
   ],
   "source": [
    "d = dw.Drawing(300,100,idPrefix='multilines2')\n",
    "x = [30+x*10 for x in range(20)]\n",
    "y = [80,20]*10\n",
    "xy = [item for sublist in zip(x,y) for item in sublist]\n",
    "d.append(dw.Lines(*xy,stroke='black',stroke_width=5,fill='none'))\n",
    "#d.saveSvg('01_multilines2.svg')\n",
    "d"
   ]
  },
  {
   "cell_type": "markdown",
   "id": "painful-stake",
   "metadata": {},
   "source": [
    "## Polygon"
   ]
  },
  {
   "cell_type": "markdown",
   "id": "racial-attachment",
   "metadata": {},
   "source": [
    "SVG `Polygon` is `Lines` with `close=True`."
   ]
  },
  {
   "cell_type": "code",
   "execution_count": 11,
   "id": "micro-london",
   "metadata": {},
   "outputs": [
    {
     "data": {
      "image/svg+xml": [
       "<?xml version=\"1.0\" encoding=\"UTF-8\"?>\n",
       "<svg xmlns=\"http://www.w3.org/2000/svg\" xmlns:xlink=\"http://www.w3.org/1999/xlink\"\n",
       "     width=\"100\" height=\"100\" viewBox=\"0 0 100 100\">\n",
       "<defs>\n",
       "</defs>\n",
       "<path d=\"M48,16 L16,96 L96,48 L0,48 L88,96 Z\" stroke=\"black\" fill=\"none\" />\n",
       "</svg>"
      ],
      "text/plain": [
       "<draw2Svg.drawing.Drawing at 0x7f213ddb11f0>"
      ]
     },
     "execution_count": 11,
     "metadata": {},
     "output_type": "execute_result"
    }
   ],
   "source": [
    "d = dw.Drawing(100,100,idPrefix='polygon')\n",
    "polygon = dw.Lines(15,10,55,10,45,20,5,20,fill='red',stroke='black',close='true')\n",
    "star = dw.Lines(48,16, 16,96, 96,48, 0,48, 88,96,\n",
    "         stroke='black',fill='none',close='true')\n",
    "d.append(star)\n",
    "#d.saveSvg('01_polygon.svg')\n",
    "d"
   ]
  },
  {
   "cell_type": "markdown",
   "id": "iraqi-cooperative",
   "metadata": {},
   "source": [
    "## Rectangle"
   ]
  },
  {
   "cell_type": "markdown",
   "id": "loose-annex",
   "metadata": {},
   "source": [
    "```\n",
    "dw.Rectangle(x, y, width, height, **kwargs)\n",
    "```"
   ]
  },
  {
   "cell_type": "code",
   "execution_count": 14,
   "id": "placed-therapist",
   "metadata": {},
   "outputs": [
    {
     "data": {
      "image/svg+xml": [
       "<?xml version=\"1.0\" encoding=\"UTF-8\"?>\n",
       "<svg xmlns=\"http://www.w3.org/2000/svg\" xmlns:xlink=\"http://www.w3.org/1999/xlink\"\n",
       "     width=\"500\" height=\"200\" viewBox=\"0 0 500 200\">\n",
       "<defs>\n",
       "</defs>\n",
       "<rect x=\"10\" y=\"10\" width=\"90\" height=\"150\" />\n",
       "<rect x=\"120\" y=\"10\" width=\"60\" height=\"120\" fill=\"none\" stroke=\"black\" />\n",
       "<rect x=\"210\" y=\"10\" width=\"75\" height=\"90\" fill=\"#0000ff\" stroke=\"red\" stroke-width=\"7\" stroke-opacity=\"0.5\" />\n",
       "<rect x=\"300\" y=\"10\" width=\"105\" height=\"60\" fill=\"yellow\" fill-opacity=\"0.5\" stroke=\"green\" stroke-width=\"2\" stroke-dasharray=\"5,2\" />\n",
       "</svg>"
      ],
      "text/plain": [
       "<draw2Svg.drawing.Drawing at 0x7f21854fe1f0>"
      ]
     },
     "execution_count": 14,
     "metadata": {},
     "output_type": "execute_result"
    }
   ],
   "source": [
    "d = dw.Drawing(500,200,idPrefix='rect')\n",
    "# black interior, no outline\n",
    "d.append(dw.Rectangle(10,10,90,150))\n",
    "# no interior, black outline\n",
    "d.append(dw.Rectangle(120,10,60,120,fill='none',stroke='black'))\n",
    "# blue interior, thick semi-transparent red outline\n",
    "d.append(dw.Rectangle(210,10,75,90,fill='#0000ff',stroke='red',\n",
    "                      stroke_width=7,stroke_opacity=0.5))\n",
    "# semi-transparent yellow interior, dashed green outline\n",
    "d.append(dw.Rectangle(300,10,105,60,fill='yellow',fill_opacity=0.5,\n",
    "                      stroke='green',stroke_width=2,stroke_dasharray='5,2'))\n",
    "#d.saveSvg('01_rect.svg')\n",
    "d"
   ]
  },
  {
   "cell_type": "markdown",
   "id": "continuing-block",
   "metadata": {},
   "source": [
    "Rounded Corners:"
   ]
  },
  {
   "cell_type": "code",
   "execution_count": 15,
   "id": "extensive-malpractice",
   "metadata": {},
   "outputs": [
    {
     "data": {
      "image/svg+xml": [
       "<?xml version=\"1.0\" encoding=\"UTF-8\"?>\n",
       "<svg xmlns=\"http://www.w3.org/2000/svg\" xmlns:xlink=\"http://www.w3.org/1999/xlink\"\n",
       "     width=\"500\" height=\"200\" viewBox=\"0 0 500 200\">\n",
       "<defs>\n",
       "</defs>\n",
       "<rect x=\"10\" y=\"10\" width=\"80\" height=\"180\" rx=\"10\" ry=\"10\" stroke=\"black\" fill=\"none\" />\n",
       "<rect x=\"110\" y=\"10\" width=\"80\" height=\"180\" ry=\"20\" stroke=\"black\" fill=\"none\" />\n",
       "<rect x=\"210\" y=\"10\" width=\"80\" height=\"180\" rx=\"40\" stroke=\"black\" fill=\"none\" />\n",
       "<rect x=\"310\" y=\"10\" width=\"80\" height=\"180\" rx=\"30\" ry=\"10\" stroke=\"black\" fill=\"none\" />\n",
       "<rect x=\"410\" y=\"10\" width=\"80\" height=\"180\" rx=\"10\" ry=\"30\" stroke=\"black\" fill=\"none\" />\n",
       "</svg>"
      ],
      "text/plain": [
       "<draw2Svg.drawing.Drawing at 0x7f213dd90790>"
      ]
     },
     "execution_count": 15,
     "metadata": {},
     "output_type": "execute_result"
    }
   ],
   "source": [
    "d = dw.Drawing(500,200,idPrefix='rectround')\n",
    "# define both rx and ry\n",
    "d.append(dw.Rectangle(10,10,80,180,rx='10',ry='10',stroke='black',fill='none'))\n",
    "# if only one is given, it applies to both\n",
    "d.append(dw.Rectangle(110,10,80,180,ry='20',stroke='black',fill='none'))\n",
    "d.append(dw.Rectangle(210,10,80,180,rx='40',stroke='black',fill='none'))\n",
    "# rx and ry unequal\n",
    "d.append(dw.Rectangle(310,10,80,180,rx='30',ry='10',stroke='black',fill='none'))\n",
    "d.append(dw.Rectangle(410,10,80,180,rx='10',ry='30',stroke='black',fill='none'))\n",
    "#d.saveSvg('01_rectround.svg')\n",
    "d"
   ]
  },
  {
   "cell_type": "markdown",
   "id": "infinite-emperor",
   "metadata": {},
   "source": [
    "## Circle"
   ]
  },
  {
   "cell_type": "markdown",
   "id": "brave-comment",
   "metadata": {},
   "source": [
    "```\n",
    "dw.Circle(cx, cy, r, **kwargs)\n",
    "```\n",
    "cx and cy point to circle's center, r refer to its radius"
   ]
  },
  {
   "cell_type": "code",
   "execution_count": 18,
   "id": "infrared-property",
   "metadata": {},
   "outputs": [
    {
     "data": {
      "image/svg+xml": [
       "<?xml version=\"1.0\" encoding=\"UTF-8\"?>\n",
       "<svg xmlns=\"http://www.w3.org/2000/svg\" xmlns:xlink=\"http://www.w3.org/1999/xlink\"\n",
       "     width=\"300\" height=\"100\" viewBox=\"0 0 300 100\">\n",
       "<defs>\n",
       "</defs>\n",
       "<circle cx=\"50\" cy=\"50\" r=\"40\" />\n",
       "<circle cx=\"150\" cy=\"50\" r=\"40\" stroke=\"black\" fill=\"none\" />\n",
       "<circle cx=\"250\" cy=\"50\" r=\"40\" stroke=\"black\" fill=\"none\" stroke-width=\"15\" />\n",
       "</svg>"
      ],
      "text/plain": [
       "<draw2Svg.drawing.Drawing at 0x7f213daffeb0>"
      ]
     },
     "execution_count": 18,
     "metadata": {},
     "output_type": "execute_result"
    }
   ],
   "source": [
    "d = dw.Drawing(300,100,idPrefix='circ')\n",
    "d.append(dw.Circle(50,50,40))\n",
    "d.append(dw.Circle(150,50,40,stroke='black',fill='none'))\n",
    "d.append(dw.Circle(250,50,40,stroke='black',fill='none',stroke_width=15))\n",
    "#d.saveSvg('01_circ.svg')\n",
    "d"
   ]
  },
  {
   "cell_type": "markdown",
   "id": "distinguished-charger",
   "metadata": {},
   "source": [
    "## Ellipse"
   ]
  },
  {
   "cell_type": "markdown",
   "id": "increased-warning",
   "metadata": {},
   "source": [
    "```\n",
    "dw.Ellipse(cx, cy, rx, ry, **kwarg)\n",
    "```\n",
    "(cx,cy) points to the center and (rx,ry) tells its radius"
   ]
  },
  {
   "cell_type": "code",
   "execution_count": 21,
   "id": "uniform-madrid",
   "metadata": {},
   "outputs": [
    {
     "data": {
      "image/svg+xml": [
       "<?xml version=\"1.0\" encoding=\"UTF-8\"?>\n",
       "<svg xmlns=\"http://www.w3.org/2000/svg\" xmlns:xlink=\"http://www.w3.org/1999/xlink\"\n",
       "     width=\"300\" height=\"100\" viewBox=\"0 0 300 100\">\n",
       "<defs>\n",
       "</defs>\n",
       "<ellipse cx=\"50\" cy=\"50\" rx=\"50\" ry=\"30\" />\n",
       "<ellipse cx=\"160\" cy=\"50\" rx=\"50\" ry=\"30\" stroke=\"black\" fill=\"none\" />\n",
       "<ellipse cx=\"250\" cy=\"50\" rx=\"30\" ry=\"45\" stroke=\"black\" fill=\"none\" />\n",
       "</svg>"
      ],
      "text/plain": [
       "<draw2Svg.drawing.Drawing at 0x7f213ddbb640>"
      ]
     },
     "execution_count": 21,
     "metadata": {},
     "output_type": "execute_result"
    }
   ],
   "source": [
    "d = dw.Drawing(300,100,idPrefix='ellip')\n",
    "d.append(dw.Ellipse(50,50,50,30))\n",
    "d.append(dw.Ellipse(160,50,50,30,stroke='black',fill='none'))\n",
    "d.append(dw.Ellipse(250,50,30,45,stroke='black',fill='none'))\n",
    "#d.saveSvg('01_ellip.svg')\n",
    "d"
   ]
  },
  {
   "cell_type": "markdown",
   "id": "connected-husband",
   "metadata": {},
   "source": [
    "## Pie"
   ]
  },
  {
   "cell_type": "markdown",
   "id": "emotional-attack",
   "metadata": {},
   "source": [
    "```\n",
    "dw.Pie(cx, cy, r, startDeg, endDeg, **kwargs)\n",
    "```\n",
    "startDeg,endDeg = start and end angle in degree (0 = east)\n",
    "\n",
    "(Note that degrees are here counterclockwise, so 90 is north.)"
   ]
  },
  {
   "cell_type": "code",
   "execution_count": 32,
   "id": "promotional-lighting",
   "metadata": {},
   "outputs": [
    {
     "data": {
      "image/svg+xml": [
       "<?xml version=\"1.0\" encoding=\"UTF-8\"?>\n",
       "<svg xmlns=\"http://www.w3.org/2000/svg\" xmlns:xlink=\"http://www.w3.org/1999/xlink\"\n",
       "     width=\"200\" height=\"200\" viewBox=\"0 0 200 200\">\n",
       "<defs>\n",
       "</defs>\n",
       "<path d=\"M180.0,100.0 A80,80,0,1,1,100.0,20.0 L100,100 Z\" fill=\"None\" stroke=\"pink\" stroke-width=\"3\" />\n",
       "</svg>"
      ],
      "text/plain": [
       "<draw2Svg.drawing.Drawing at 0x7f213da716d0>"
      ]
     },
     "execution_count": 32,
     "metadata": {},
     "output_type": "execute_result"
    }
   ],
   "source": [
    "d = dw.Drawing(200,200,idPrefix='pie')\n",
    "pie = dw.Pie(cx=100,cy=100,r=80,startDeg=0,endDeg=90,fill= \"None\",stroke=\"pink\",stroke_width=3)\n",
    "d.append(pie)\n",
    "#d.saveSvg('01_pie.svg')\n",
    "d"
   ]
  },
  {
   "cell_type": "code",
   "execution_count": null,
   "id": "indie-mineral",
   "metadata": {},
   "outputs": [],
   "source": []
  }
 ],
 "metadata": {
  "kernelspec": {
   "display_name": "Python 3",
   "language": "python",
   "name": "python3"
  },
  "language_info": {
   "codemirror_mode": {
    "name": "ipython",
    "version": 3
   },
   "file_extension": ".py",
   "mimetype": "text/x-python",
   "name": "python",
   "nbconvert_exporter": "python",
   "pygments_lexer": "ipython3",
   "version": "3.9.2"
  }
 },
 "nbformat": 4,
 "nbformat_minor": 5
}
