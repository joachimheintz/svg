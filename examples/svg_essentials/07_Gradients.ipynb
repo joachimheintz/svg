{
 "cells": [
  {
   "cell_type": "markdown",
   "id": "shaped-aviation",
   "metadata": {},
   "source": [
    "# 7. Patterns and Gradients"
   ]
  },
  {
   "cell_type": "code",
   "execution_count": 1,
   "id": "musical-intranet",
   "metadata": {},
   "outputs": [],
   "source": [
    "import draw2Svg as dw"
   ]
  },
  {
   "cell_type": "markdown",
   "id": "distinct-context",
   "metadata": {},
   "source": [
    "## 7.1 Patterns"
   ]
  },
  {
   "cell_type": "markdown",
   "id": "julian-desktop",
   "metadata": {},
   "source": [
    "## 7.2 Gradients"
   ]
  },
  {
   "cell_type": "markdown",
   "id": "quarterly-responsibility",
   "metadata": {},
   "source": [
    "### 7.2.1 linearGradients"
   ]
  },
  {
   "cell_type": "code",
   "execution_count": 2,
   "id": "covered-police",
   "metadata": {},
   "outputs": [
    {
     "data": {
      "image/svg+xml": [
       "<?xml version=\"1.0\" encoding=\"UTF-8\"?>\n",
       "<svg xmlns=\"http://www.w3.org/2000/svg\" xmlns:xlink=\"http://www.w3.org/1999/xlink\"\n",
       "     width=\"200\" height=\"100\" viewBox=\"0 0 200 100\">\n",
       "<defs>\n",
       "<linearGradient x1=\"150\" y1=\"0\" x2=\"0\" y2=\"0\" gradientUnits=\"userSpaceOnUse\" id=\"grad10\">\n",
       "<stop offset=\"0\" stop-color=\"green\" />\n",
       "<stop offset=\"1\" stop-color=\"yellow\" />\n",
       "</linearGradient>\n",
       "</defs>\n",
       "<rect x=\"10\" y=\"10\" width=\"150\" height=\"60\" stroke=\"black\" fill=\"url(#grad10)\" />\n",
       "</svg>"
      ],
      "text/plain": [
       "<draw2Svg.drawing.Drawing at 0x7fd9db8dba30>"
      ]
     },
     "execution_count": 2,
     "metadata": {},
     "output_type": "execute_result"
    }
   ],
   "source": [
    "d = dw.Drawing(200,100,idPrefix='grad1')\n",
    "grad = dw.LinearGradient(150,0,0,0)\n",
    "grad.addStop(0,'green')\n",
    "grad.addStop(1,'yellow')\n",
    "d.append(dw.Rectangle(10,10,150,60,stroke='black',fill=grad))\n",
    "d"
   ]
  },
  {
   "cell_type": "markdown",
   "id": "unauthorized-provider",
   "metadata": {},
   "source": [
    "### 7.2.2 radialGradient\n",
    "Example from [draw2Svg doc](https://draw2svg.netlify.app/other/#gradient)"
   ]
  },
  {
   "cell_type": "code",
   "execution_count": 3,
   "id": "obvious-sperm",
   "metadata": {},
   "outputs": [
    {
     "data": {
      "image/svg+xml": [
       "<?xml version=\"1.0\" encoding=\"UTF-8\"?>\n",
       "<svg xmlns=\"http://www.w3.org/2000/svg\" xmlns:xlink=\"http://www.w3.org/1999/xlink\"\n",
       "     width=\"400\" height=\"300\" viewBox=\"0 0 400 300\">\n",
       "<defs>\n",
       "<radialGradient cx=\"200\" cy=\"150\" r=\"100\" gradientUnits=\"userSpaceOnUse\" id=\"grad20\">\n",
       "<stop offset=\"0\" stop-color=\"green\" stop-opacity=\"1\" />\n",
       "<stop offset=\"1\" stop-color=\"red\" stop-opacity=\"1\" />\n",
       "</radialGradient>\n",
       "</defs>\n",
       "<rect x=\"0\" y=\"0\" width=\"100%\" height=\"100%\" fill=\"url(#grad20)\" />\n",
       "</svg>"
      ],
      "text/plain": [
       "<draw2Svg.drawing.Drawing at 0x7fd9db8dba90>"
      ]
     },
     "execution_count": 3,
     "metadata": {},
     "output_type": "execute_result"
    }
   ],
   "source": [
    "d = dw.Drawing(400, 300, idPrefix='grad2')\n",
    "\n",
    "gradient = dw.RadialGradient(200,150,100)\n",
    "gradient.addStop(0, 'green', 1)\n",
    "gradient.addStop(1, 'red', 1)\n",
    "\n",
    "\n",
    "bg = dw.Rectangle(x=0,y=0,width=\"100%\",height=\"100%\",fill=gradient)\n",
    "d.append(bg)\n",
    "\n",
    "d"
   ]
  },
  {
   "cell_type": "code",
   "execution_count": null,
   "id": "verified-junior",
   "metadata": {},
   "outputs": [],
   "source": []
  }
 ],
 "metadata": {
  "kernelspec": {
   "display_name": "Python 3",
   "language": "python",
   "name": "python3"
  },
  "language_info": {
   "codemirror_mode": {
    "name": "ipython",
    "version": 3
   },
   "file_extension": ".py",
   "mimetype": "text/x-python",
   "name": "python",
   "nbconvert_exporter": "python",
   "pygments_lexer": "ipython3",
   "version": "3.9.2"
  }
 },
 "nbformat": 4,
 "nbformat_minor": 5
}
