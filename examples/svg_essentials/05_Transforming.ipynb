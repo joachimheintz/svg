{
 "cells": [
  {
   "cell_type": "markdown",
   "id": "equipped-instruction",
   "metadata": {},
   "source": [
    "# 5. Transforming the Coordinate System"
   ]
  },
  {
   "cell_type": "code",
   "execution_count": 1,
   "id": "written-ownership",
   "metadata": {},
   "outputs": [],
   "source": [
    "import drawsvg as dw"
   ]
  },
  {
   "cell_type": "markdown",
   "id": "indoor-design",
   "metadata": {},
   "source": [
    "## 5.1 The translate Transformation"
   ]
  },
  {
   "cell_type": "code",
   "execution_count": 4,
   "id": "affected-appraisal",
   "metadata": {},
   "outputs": [
    {
     "data": {
      "image/svg+xml": [
       "<?xml version=\"1.0\" encoding=\"UTF-8\"?>\n",
       "<svg xmlns=\"http://www.w3.org/2000/svg\" xmlns:xlink=\"http://www.w3.org/1999/xlink\"\n",
       "    width=\"200\" height=\"200\" viewBox=\"0 0 200 200\">\n",
       "<defs>\n",
       "<g id=\"square\" fill=\"none\" stroke=\"black\" stroke-width=\"2\">\n",
       "<rect x=\"0\" y=\"0\" width=\"40\" height=\"40\" />\n",
       "</g>\n",
       "</defs>\n",
       "<use xlink:href=\"#square\" x=\"50\" y=\"50\" />\n",
       "</svg>"
      ],
      "text/plain": [
       "<drawsvg.drawing.Drawing at 0x7ff4ec233e50>"
      ]
     },
     "execution_count": 4,
     "metadata": {},
     "output_type": "execute_result"
    }
   ],
   "source": [
    "d = dw.Drawing(200,200)\n",
    "g = dw.Group(id='square',fill='none',stroke='black',stroke_width=2)\n",
    "g.append(dw.Rectangle(0,0,40,40))\n",
    "d.append(dw.Use(g,50,50)) #this is no other method than in chapter 4\n",
    "d"
   ]
  },
  {
   "cell_type": "markdown",
   "id": "revolutionary-google",
   "metadata": {},
   "source": [
    "With `translate`instead:"
   ]
  },
  {
   "cell_type": "code",
   "execution_count": 5,
   "id": "formed-socket",
   "metadata": {},
   "outputs": [
    {
     "data": {
      "image/svg+xml": [
       "<?xml version=\"1.0\" encoding=\"UTF-8\"?>\n",
       "<svg xmlns=\"http://www.w3.org/2000/svg\" xmlns:xlink=\"http://www.w3.org/1999/xlink\"\n",
       "    width=\"200\" height=\"200\" viewBox=\"0 0 200 200\">\n",
       "<defs>\n",
       "<g id=\"square\" fill=\"none\" stroke=\"black\" stroke-width=\"2\">\n",
       "<rect x=\"0\" y=\"0\" width=\"40\" height=\"40\" />\n",
       "</g>\n",
       "</defs>\n",
       "<use xlink:href=\"#square\" x=\"0\" y=\"0\" transform=\"translate(50,50)\" />\n",
       "</svg>"
      ],
      "text/plain": [
       "<drawsvg.drawing.Drawing at 0x7ff4ec291400>"
      ]
     },
     "execution_count": 5,
     "metadata": {},
     "output_type": "execute_result"
    }
   ],
   "source": [
    "d = dw.Drawing(200,200)\n",
    "g = dw.Group(id='square',fill='none',stroke='black',stroke_width=2)\n",
    "g.append(dw.Rectangle(0,0,40,40))\n",
    "d.append(dw.Use(g,0,0,transform='translate(50,50)'))\n",
    "d"
   ]
  },
  {
   "cell_type": "code",
   "execution_count": 6,
   "id": "cleared-interaction",
   "metadata": {},
   "outputs": [
    {
     "data": {
      "image/svg+xml": [
       "<?xml version=\"1.0\" encoding=\"UTF-8\"?>\n",
       "<svg xmlns=\"http://www.w3.org/2000/svg\" xmlns:xlink=\"http://www.w3.org/1999/xlink\"\n",
       "    width=\"200\" height=\"200\" viewBox=\"0 0 200 200\">\n",
       "<defs>\n",
       "</defs>\n",
       "<rect x=\"0\" y=\"0\" width=\"40\" height=\"40\" transform=\"translate(50,50)\" />\n",
       "</svg>"
      ],
      "text/plain": [
       "<drawsvg.drawing.Drawing at 0x7ff4efb94eb0>"
      ]
     },
     "execution_count": 6,
     "metadata": {},
     "output_type": "execute_result"
    }
   ],
   "source": [
    "d = dw.Drawing(200,200)\n",
    "d.append(dw.Rectangle(0,0,40,40,transform='translate(50,50)'))\n",
    "d"
   ]
  },
  {
   "cell_type": "markdown",
   "id": "worldwide-water",
   "metadata": {},
   "source": [
    "## 5.2 The scale Transformation\n",
    "This applies also to position, stroke width etc."
   ]
  },
  {
   "cell_type": "code",
   "execution_count": 7,
   "id": "wound-accordance",
   "metadata": {},
   "outputs": [
    {
     "data": {
      "image/svg+xml": [
       "<?xml version=\"1.0\" encoding=\"UTF-8\"?>\n",
       "<svg xmlns=\"http://www.w3.org/2000/svg\" xmlns:xlink=\"http://www.w3.org/1999/xlink\"\n",
       "    width=\"200\" height=\"200\" viewBox=\"0 0 200 200\">\n",
       "<defs>\n",
       "<g id=\"square\" fill=\"none\" stroke=\"black\" stroke-width=\"2\">\n",
       "<rect x=\"0\" y=\"0\" width=\"40\" height=\"40\" />\n",
       "</g>\n",
       "</defs>\n",
       "<use xlink:href=\"#square\" x=\"10\" y=\"10\" transform=\"scale(2)\" />\n",
       "</svg>"
      ],
      "text/plain": [
       "<drawsvg.drawing.Drawing at 0x7ff4ec2336a0>"
      ]
     },
     "execution_count": 7,
     "metadata": {},
     "output_type": "execute_result"
    }
   ],
   "source": [
    "d = dw.Drawing(200,200)\n",
    "g = dw.Group(id='square',fill='none',stroke='black',stroke_width=2)\n",
    "g.append(dw.Rectangle(0,0,40,40))\n",
    "d.append(dw.Use(g,10,10,transform='scale(2)'))\n",
    "#print(d.asSvg())\n",
    "d"
   ]
  },
  {
   "cell_type": "code",
   "execution_count": 8,
   "id": "biological-delay",
   "metadata": {},
   "outputs": [
    {
     "data": {
      "image/svg+xml": [
       "<?xml version=\"1.0\" encoding=\"UTF-8\"?>\n",
       "<svg xmlns=\"http://www.w3.org/2000/svg\" xmlns:xlink=\"http://www.w3.org/1999/xlink\"\n",
       "    width=\"200\" height=\"200\" viewBox=\"0 0 200 200\">\n",
       "<defs>\n",
       "<rect x=\"0\" y=\"0\" width=\"40\" height=\"40\" fill=\"none\" stroke=\"black\" stroke-width=\"2\" id=\"Q2h9krXV0\" />\n",
       "</defs>\n",
       "<use xlink:href=\"#Q2h9krXV0\" x=\"10\" y=\"10\" transform=\"scale(2)\" />\n",
       "</svg>"
      ],
      "text/plain": [
       "<drawsvg.drawing.Drawing at 0x7ff4ec230c10>"
      ]
     },
     "execution_count": 8,
     "metadata": {},
     "output_type": "execute_result"
    }
   ],
   "source": [
    "d = dw.Drawing(200,200)\n",
    "square = dw.Rectangle(0,0,40,40,fill='none',stroke='black',stroke_width=2)\n",
    "d.append(dw.Use(square,10,10,transform='scale(2)'))\n",
    "d"
   ]
  },
  {
   "cell_type": "markdown",
   "id": "english-victim",
   "metadata": {},
   "source": [
    "It is possible to specify x and y scale seperately:"
   ]
  },
  {
   "cell_type": "code",
   "execution_count": 9,
   "id": "premier-bibliography",
   "metadata": {},
   "outputs": [
    {
     "data": {
      "image/svg+xml": [
       "<?xml version=\"1.0\" encoding=\"UTF-8\"?>\n",
       "<svg xmlns=\"http://www.w3.org/2000/svg\" xmlns:xlink=\"http://www.w3.org/1999/xlink\"\n",
       "    width=\"200\" height=\"100\" viewBox=\"0 0 200 100\">\n",
       "<defs>\n",
       "<rect x=\"0\" y=\"0\" width=\"40\" height=\"40\" fill=\"none\" stroke=\"black\" stroke-width=\"2\" id=\"v9FaSYYu0\" />\n",
       "</defs>\n",
       "<use xlink:href=\"#v9FaSYYu0\" x=\"10\" y=\"10\" />\n",
       "<use xlink:href=\"#v9FaSYYu0\" x=\"10\" y=\"10\" transform=\"scale(3,1.5)\" />\n",
       "</svg>"
      ],
      "text/plain": [
       "<drawsvg.drawing.Drawing at 0x7ff4ec1d1f40>"
      ]
     },
     "execution_count": 9,
     "metadata": {},
     "output_type": "execute_result"
    }
   ],
   "source": [
    "d = dw.Drawing(200,100)\n",
    "square = dw.Rectangle(0,0,40,40,fill='none',stroke='black',stroke_width=2)\n",
    "d.append(dw.Use(square,10,10))\n",
    "d.append(dw.Use(square,10,10,transform='scale(3,1.5)'))\n",
    "d"
   ]
  },
  {
   "cell_type": "code",
   "execution_count": 10,
   "id": "developing-behalf",
   "metadata": {},
   "outputs": [
    {
     "data": {
      "image/svg+xml": [
       "<?xml version=\"1.0\" encoding=\"UTF-8\"?>\n",
       "<svg xmlns=\"http://www.w3.org/2000/svg\" xmlns:xlink=\"http://www.w3.org/1999/xlink\"\n",
       "    width=\"200\" height=\"100\" viewBox=\"0 0 200 100\">\n",
       "<defs>\n",
       "<g id=\"square\" fill=\"none\" stroke=\"black\" stroke-width=\"2\">\n",
       "<rect x=\"0\" y=\"0\" width=\"20\" height=\"20\" />\n",
       "</g>\n",
       "</defs>\n",
       "<use xlink:href=\"#square\" x=\"10\" y=\"10\" />\n",
       "<use xlink:href=\"#square\" x=\"10\" y=\"10\" transform=\"scale(3,1.5)\" />\n",
       "</svg>"
      ],
      "text/plain": [
       "<drawsvg.drawing.Drawing at 0x7ff4ec2338e0>"
      ]
     },
     "execution_count": 10,
     "metadata": {},
     "output_type": "execute_result"
    }
   ],
   "source": [
    "d = dw.Drawing(200,100)\n",
    "g = dw.Group(id='square',fill='none',stroke='black',stroke_width=2)\n",
    "g.append(dw.Rectangle(0,0,20,20))\n",
    "d.append(dw.Use(g,10,10))\n",
    "d.append(dw.Use(g,10,10,transform='scale(3,1.5)'))\n",
    "d"
   ]
  },
  {
   "cell_type": "markdown",
   "id": "retired-prague",
   "metadata": {},
   "source": [
    "The `transform` element can also be applied to a group:"
   ]
  },
  {
   "cell_type": "code",
   "execution_count": 11,
   "id": "handled-december",
   "metadata": {},
   "outputs": [
    {
     "data": {
      "image/svg+xml": [
       "<?xml version=\"1.0\" encoding=\"UTF-8\"?>\n",
       "<svg xmlns=\"http://www.w3.org/2000/svg\" xmlns:xlink=\"http://www.w3.org/1999/xlink\"\n",
       "    width=\"100\" height=\"100\" viewBox=\"0 0 100 100\">\n",
       "<defs>\n",
       "</defs>\n",
       "<g id=\"group1\" stroke=\"black\" transform=\"translate(50,30)\" fill=\"none\">\n",
       "<path d=\"M10,10 L30,30\" />\n",
       "<circle cx=\"20\" cy=\"20\" r=\"10\" />\n",
       "</g>\n",
       "</svg>"
      ],
      "text/plain": [
       "<drawsvg.drawing.Drawing at 0x7ff4ec1d1bb0>"
      ]
     },
     "execution_count": 11,
     "metadata": {},
     "output_type": "execute_result"
    }
   ],
   "source": [
    "d = dw.Drawing(100,100)\n",
    "g = dw.Group(id='group1',stroke='black',transform='translate(50,30)',fill='none')\n",
    "g.append(dw.Line(10,10,30,30))\n",
    "g.append(dw.Circle(20,20,10))\n",
    "d.append(g)\n",
    "d"
   ]
  },
  {
   "cell_type": "markdown",
   "id": "defensive-check",
   "metadata": {},
   "source": [
    "Or to a single element:"
   ]
  },
  {
   "cell_type": "code",
   "execution_count": 12,
   "id": "angry-bible",
   "metadata": {},
   "outputs": [
    {
     "data": {
      "image/svg+xml": [
       "<?xml version=\"1.0\" encoding=\"UTF-8\"?>\n",
       "<svg xmlns=\"http://www.w3.org/2000/svg\" xmlns:xlink=\"http://www.w3.org/1999/xlink\"\n",
       "    width=\"120\" height=\"100\" viewBox=\"0 0 120 100\">\n",
       "<defs>\n",
       "</defs>\n",
       "<rect x=\"5\" y=\"10\" width=\"30\" height=\"15\" transform=\"scale(3)\" fill=\"none\" stroke=\"black\" />\n",
       "</svg>"
      ],
      "text/plain": [
       "<drawsvg.drawing.Drawing at 0x7ff4ec1d1700>"
      ]
     },
     "execution_count": 12,
     "metadata": {},
     "output_type": "execute_result"
    }
   ],
   "source": [
    "d = dw.Drawing(120,100)\n",
    "r = dw.Rectangle(5,10,30,15,transform='scale(3)',fill='none',stroke='black')\n",
    "d.append(r)\n",
    "d"
   ]
  },
  {
   "cell_type": "markdown",
   "id": "comparative-poland",
   "metadata": {},
   "source": [
    "Scaling around a center point:"
   ]
  },
  {
   "cell_type": "code",
   "execution_count": 13,
   "id": "accepted-gossip",
   "metadata": {},
   "outputs": [
    {
     "data": {
      "image/svg+xml": [
       "<?xml version=\"1.0\" encoding=\"UTF-8\"?>\n",
       "<svg xmlns=\"http://www.w3.org/2000/svg\" xmlns:xlink=\"http://www.w3.org/1999/xlink\"\n",
       "    width=\"300\" height=\"200\" viewBox=\"0 0 300 200\" idPrefix=\"scalecenter\">\n",
       "<defs>\n",
       "<g stroke=\"black\" fill=\"none\" id=\"WkAoTUW90\">\n",
       "<rect x=\"70\" y=\"80\" width=\"60\" height=\"40\" />\n",
       "</g>\n",
       "</defs>\n",
       "<circle cx=\"100\" cy=\"100\" r=\"4\" fill=\"black\" />\n",
       "<use xlink:href=\"#WkAoTUW90\" />\n",
       "<use xlink:href=\"#WkAoTUW90\" x=\"0\" y=\"0\" transform=\"translate(-100,-100) scale(2)\" stroke-width=\"0.5\" />\n",
       "<use xlink:href=\"#WkAoTUW90\" x=\"0\" y=\"0\" transform=\"translate(-150,-150) scale(2.5)\" stroke-width=\"0.4\" />\n",
       "<use xlink:href=\"#WkAoTUW90\" x=\"0\" y=\"0\" transform=\"translate(-200,-200) scale(3)\" stroke-width=\"0.33\" />\n",
       "</svg>"
      ],
      "text/plain": [
       "<drawsvg.drawing.Drawing at 0x7ff4ec1d9790>"
      ]
     },
     "execution_count": 13,
     "metadata": {},
     "output_type": "execute_result"
    }
   ],
   "source": [
    "d = dw.Drawing(300,200,idPrefix=\"scalecenter\")\n",
    "# center of scaling\n",
    "d.append(dw.Circle(100,100,4,fill='black'))\n",
    "# non-scaled rectangle\n",
    "g = dw.Group(stroke='black',fill='none')\n",
    "g.append(dw.Rectangle(70,80,60,40))\n",
    "d.append(g)\n",
    "# scaled rectangles (point times scale-1)\n",
    "d.append(dw.Use(g,0,0,transform='translate(-100,-100) scale(2)',stroke_width=0.5))\n",
    "d.append(dw.Use(g,0,0,transform='translate(-150,-150) scale(2.5)',stroke_width=0.4))\n",
    "d.append(dw.Use(g,0,0,transform='translate(-200,-200) scale(3)',stroke_width=0.33))\n",
    "d"
   ]
  },
  {
   "cell_type": "code",
   "execution_count": 14,
   "id": "pregnant-theater",
   "metadata": {},
   "outputs": [
    {
     "data": {
      "image/svg+xml": [
       "<?xml version=\"1.0\" encoding=\"UTF-8\"?>\n",
       "<svg xmlns=\"http://www.w3.org/2000/svg\" xmlns:xlink=\"http://www.w3.org/1999/xlink\"\n",
       "    width=\"300\" height=\"200\" viewBox=\"0 0 300 200\" idPrefix=\"scalecenter2\">\n",
       "<defs>\n",
       "<rect x=\"70\" y=\"80\" width=\"60\" height=\"40\" stroke=\"black\" fill=\"none\" id=\"GrSXfbdN0\" />\n",
       "</defs>\n",
       "<circle cx=\"100\" cy=\"100\" r=\"4\" fill=\"black\" />\n",
       "<use xlink:href=\"#GrSXfbdN0\" />\n",
       "<use xlink:href=\"#GrSXfbdN0\" x=\"0\" y=\"0\" transform=\"translate(-100,-100) scale(2)\" stroke-width=\"0.5\" />\n",
       "<use xlink:href=\"#GrSXfbdN0\" x=\"0\" y=\"0\" transform=\"translate(-150,-150) scale(2.5)\" stroke-width=\"0.4\" />\n",
       "<use xlink:href=\"#GrSXfbdN0\" x=\"0\" y=\"0\" transform=\"translate(-200,-200) scale(3)\" stroke-width=\"0.33\" />\n",
       "</svg>"
      ],
      "text/plain": [
       "<drawsvg.drawing.Drawing at 0x7ff4ec230fa0>"
      ]
     },
     "execution_count": 14,
     "metadata": {},
     "output_type": "execute_result"
    }
   ],
   "source": [
    "d = dw.Drawing(300,200,idPrefix=\"scalecenter2\")\n",
    "# center of scaling\n",
    "d.append(dw.Circle(100,100,4,fill='black'))\n",
    "# non-scaled rectangle\n",
    "rect = dw.Rectangle(70,80,60,40,stroke='black',fill='none')\n",
    "d.append(rect)\n",
    "# scaled rectangles (point times scale-1)\n",
    "d.append(dw.Use(rect,0,0,transform='translate(-100,-100) scale(2)',stroke_width=0.5))\n",
    "d.append(dw.Use(rect,0,0,transform='translate(-150,-150) scale(2.5)',stroke_width=0.4))\n",
    "d.append(dw.Use(rect,0,0,transform='translate(-200,-200) scale(3)',stroke_width=0.33))\n",
    "d"
   ]
  },
  {
   "cell_type": "markdown",
   "id": "fuzzy-satin",
   "metadata": {},
   "source": [
    "## 5.3 Sequence of Transformations"
   ]
  },
  {
   "cell_type": "code",
   "execution_count": 15,
   "id": "looking-history",
   "metadata": {},
   "outputs": [
    {
     "data": {
      "image/svg+xml": [
       "<?xml version=\"1.0\" encoding=\"UTF-8\"?>\n",
       "<svg xmlns=\"http://www.w3.org/2000/svg\" xmlns:xlink=\"http://www.w3.org/1999/xlink\"\n",
       "    width=\"200\" height=\"200\" viewBox=\"0 0 200 200\">\n",
       "<defs>\n",
       "</defs>\n",
       "<rect x=\"10\" y=\"10\" width=\"20\" height=\"15\" transform=\"translate(30,20) scale(4)\" fill=\"gray\" />\n",
       "</svg>"
      ],
      "text/plain": [
       "<drawsvg.drawing.Drawing at 0x7ff4ec1dc6d0>"
      ]
     },
     "execution_count": 15,
     "metadata": {},
     "output_type": "execute_result"
    }
   ],
   "source": [
    "d = dw.Drawing(200,200)\n",
    "d.append(dw.Rectangle(10,10,20,15,transform='translate(30,20) scale(4)',fill='gray'))\n",
    "d"
   ]
  },
  {
   "cell_type": "markdown",
   "id": "elect-cyprus",
   "metadata": {},
   "source": [
    "Different order of transformation usually give different result. In the follwoing example, translate after scale uses the new (bigger) scale of the coordinates."
   ]
  },
  {
   "cell_type": "code",
   "execution_count": 16,
   "id": "crazy-rebound",
   "metadata": {},
   "outputs": [
    {
     "data": {
      "image/svg+xml": [
       "<?xml version=\"1.0\" encoding=\"UTF-8\"?>\n",
       "<svg xmlns=\"http://www.w3.org/2000/svg\" xmlns:xlink=\"http://www.w3.org/1999/xlink\"\n",
       "    width=\"300\" height=\"200\" viewBox=\"0 0 300 200\">\n",
       "<defs>\n",
       "</defs>\n",
       "<rect x=\"10\" y=\"10\" width=\"20\" height=\"15\" transform=\"translate(30,20) scale(4)\" fill=\"gray\" />\n",
       "<rect x=\"10\" y=\"10\" width=\"20\" height=\"15\" transform=\"scale(4) translate(30,20)\" fill=\"black\" />\n",
       "</svg>"
      ],
      "text/plain": [
       "<drawsvg.drawing.Drawing at 0x7ff4ec1d10d0>"
      ]
     },
     "execution_count": 16,
     "metadata": {},
     "output_type": "execute_result"
    }
   ],
   "source": [
    "d = dw.Drawing(300,200)\n",
    "d.append(dw.Rectangle(10,10,20,15,transform='translate(30,20) scale(4)',fill='gray'))\n",
    "d.append(dw.Rectangle(10,10,20,15,transform='scale(4) translate(30,20)',fill='black'))\n",
    "d"
   ]
  },
  {
   "cell_type": "markdown",
   "id": "cardiac-strength",
   "metadata": {},
   "source": [
    "## 5.4 Cartesian Coordinates"
   ]
  },
  {
   "cell_type": "markdown",
   "id": "accurate-flashing",
   "metadata": {},
   "source": [
    "Trapezoid literally translated from Cartesian coordinates (so mirrored):"
   ]
  },
  {
   "cell_type": "code",
   "execution_count": 17,
   "id": "filled-database",
   "metadata": {},
   "outputs": [
    {
     "data": {
      "image/svg+xml": [
       "<?xml version=\"1.0\" encoding=\"UTF-8\"?>\n",
       "<svg xmlns=\"http://www.w3.org/2000/svg\" xmlns:xlink=\"http://www.w3.org/1999/xlink\"\n",
       "    width=\"200\" height=\"200\" viewBox=\"0 0 200 200\">\n",
       "<defs>\n",
       "</defs>\n",
       "<path d=\"M0,0 L100,0\" stroke=\"black\" />\n",
       "<path d=\"M0,0 L0,100\" stroke=\"black\" />\n",
       "<path d=\"M40,40 L100,40 L70,70 L40,70\" fill=\"gray\" stroke=\"black\" />\n",
       "</svg>"
      ],
      "text/plain": [
       "<drawsvg.drawing.Drawing at 0x7ff4ec1dc9d0>"
      ]
     },
     "execution_count": 17,
     "metadata": {},
     "output_type": "execute_result"
    }
   ],
   "source": [
    "d = dw.Drawing(200,200)\n",
    "d.append(dw.Line(0,0,100,0,stroke='black'))\n",
    "d.append(dw.Line(0,0,0,100,stroke='black'))\n",
    "d.append(dw.Lines(40,40,100,40,70,70,40,70,fill='gray',stroke='black'))\n",
    "d"
   ]
  },
  {
   "cell_type": "markdown",
   "id": "incident-conditions",
   "metadata": {},
   "source": [
    "Translated to the right drawing:"
   ]
  },
  {
   "cell_type": "code",
   "execution_count": 18,
   "id": "sweet-mandate",
   "metadata": {
    "scrolled": true
   },
   "outputs": [
    {
     "data": {
      "image/svg+xml": [
       "<?xml version=\"1.0\" encoding=\"UTF-8\"?>\n",
       "<svg xmlns=\"http://www.w3.org/2000/svg\" xmlns:xlink=\"http://www.w3.org/1999/xlink\"\n",
       "    width=\"200\" height=\"200\" viewBox=\"0 0 200 200\">\n",
       "<defs>\n",
       "</defs>\n",
       "<g transform=\"translate(0,200) scale(1,-1)\">\n",
       "<path d=\"M0,0 L100,0\" stroke=\"black\" />\n",
       "<path d=\"M0,0 L0,100\" stroke=\"black\" />\n",
       "<path d=\"M40,40 L100,40 L70,70 L40,70\" fill=\"gray\" stroke=\"black\" />\n",
       "</g>\n",
       "</svg>"
      ],
      "text/plain": [
       "<drawsvg.drawing.Drawing at 0x7ff4ec1d1670>"
      ]
     },
     "execution_count": 18,
     "metadata": {},
     "output_type": "execute_result"
    }
   ],
   "source": [
    "d = dw.Drawing(200,200)\n",
    "g = dw.Group(transform='translate(0,200) scale(1,-1)')\n",
    "g.append(dw.Line(0,0,100,0,stroke='black'))\n",
    "g.append(dw.Line(0,0,0,100,stroke='black'))\n",
    "g.append(dw.Lines(40,40,100,40,70,70,40,70,fill='gray',stroke='black'))\n",
    "d.append(g)\n",
    "d"
   ]
  },
  {
   "cell_type": "code",
   "execution_count": 19,
   "id": "underlying-science",
   "metadata": {},
   "outputs": [
    {
     "data": {
      "image/svg+xml": [
       "<?xml version=\"1.0\" encoding=\"UTF-8\"?>\n",
       "<svg xmlns=\"http://www.w3.org/2000/svg\" xmlns:xlink=\"http://www.w3.org/1999/xlink\"\n",
       "    width=\"200\" height=\"200\" viewBox=\"0 0 200 200\" transform=\"scale(1,-1)\">\n",
       "<defs>\n",
       "</defs>\n",
       "<path d=\"M0,0 L100,0\" stroke=\"black\" />\n",
       "<path d=\"M0,0 L0,100\" stroke=\"black\" />\n",
       "<path d=\"M40,40 L100,40 L70,70 L40,70\" fill=\"gray\" stroke=\"black\" />\n",
       "</svg>"
      ],
      "text/plain": [
       "<drawsvg.drawing.Drawing at 0x7ff4ec1dc940>"
      ]
     },
     "execution_count": 19,
     "metadata": {},
     "output_type": "execute_result"
    }
   ],
   "source": [
    "d = dw.Drawing(200,200,transform='scale(1,-1)')\n",
    "d.append(dw.Line(0,0,100,0,stroke='black'))\n",
    "d.append(dw.Line(0,0,0,100,stroke='black'))\n",
    "d.append(dw.Lines(40,40,100,40,70,70,40,70,fill='gray',stroke='black'))\n",
    "d"
   ]
  },
  {
   "cell_type": "markdown",
   "id": "hybrid-baltimore",
   "metadata": {},
   "source": [
    "## 5.5 The `rotate` Transformation"
   ]
  },
  {
   "cell_type": "code",
   "execution_count": 20,
   "id": "linear-veteran",
   "metadata": {},
   "outputs": [
    {
     "data": {
      "image/svg+xml": [
       "<?xml version=\"1.0\" encoding=\"UTF-8\"?>\n",
       "<svg xmlns=\"http://www.w3.org/2000/svg\" xmlns:xlink=\"http://www.w3.org/1999/xlink\"\n",
       "    width=\"200\" height=\"200\" viewBox=\"0 0 200 200\">\n",
       "<defs>\n",
       "</defs>\n",
       "<rect x=\"0\" y=\"0\" width=\"200\" height=\"200\" stroke=\"gray\" fill=\"none\" />\n",
       "<rect x=\"70\" y=\"30\" width=\"40\" height=\"40\" fill=\"gray\" />\n",
       "<rect x=\"70\" y=\"30\" width=\"40\" height=\"40\" fill=\"black\" transform=\"rotate(45)\" />\n",
       "</svg>"
      ],
      "text/plain": [
       "<drawsvg.drawing.Drawing at 0x7ff4ec1d15b0>"
      ]
     },
     "execution_count": 20,
     "metadata": {},
     "output_type": "execute_result"
    }
   ],
   "source": [
    "d = dw.Drawing(200,200)\n",
    "# show frame\n",
    "d.append(dw.Rectangle(0,0,200,200,stroke='gray',fill='none'))\n",
    "# rotation is around (0,0)\n",
    "d.append(dw.Rectangle(70,30,40,40,fill='gray'))\n",
    "d.append(dw.Rectangle(70,30,40,40,fill='black',transform='rotate(45)'))\n",
    "d"
   ]
  },
  {
   "cell_type": "code",
   "execution_count": 21,
   "id": "rapid-ribbon",
   "metadata": {},
   "outputs": [
    {
     "data": {
      "image/svg+xml": [
       "<?xml version=\"1.0\" encoding=\"UTF-8\"?>\n",
       "<svg xmlns=\"http://www.w3.org/2000/svg\" xmlns:xlink=\"http://www.w3.org/1999/xlink\"\n",
       "    width=\"300\" height=\"200\" viewBox=\"0 0 300 200\">\n",
       "<defs>\n",
       "<g id=\"arrow\" stroke=\"black\">\n",
       "<path d=\"M110,100 L160,100\" />\n",
       "<path d=\"M160,100 L155,95 L155,105\" fill=\"black\" />\n",
       "</g>\n",
       "</defs>\n",
       "<circle cx=\"100\" cy=\"100\" r=\"3\" flii=\"black\" />\n",
       "<use xlink:href=\"#arrow\" />\n",
       "<use xlink:href=\"#arrow\" x=\"0\" y=\"0\" transform=\"rotate (60,100,100)\" />\n",
       "<use xlink:href=\"#arrow\" x=\"0\" y=\"0\" transform=\"rotate (-90,100,100)\" />\n",
       "<use xlink:href=\"#arrow\" x=\"0\" y=\"0\" transform=\"rotate (-150,100,100)\" />\n",
       "</svg>"
      ],
      "text/plain": [
       "<drawsvg.drawing.Drawing at 0x7ff4ec1e9a00>"
      ]
     },
     "execution_count": 21,
     "metadata": {},
     "output_type": "execute_result"
    }
   ],
   "source": [
    "d = dw.Drawing(300,200)\n",
    "# center of rotation\n",
    "d.append(dw.Circle(100,100,3,flii='black'))\n",
    "# non-rotated arrow\n",
    "g = dw.Group(id='arrow',stroke='black')\n",
    "g.append(dw.Line(110,100,160,100))\n",
    "g.append(dw.Lines(160,100,155,95,155,105,fill='black'))\n",
    "d.append(g)\n",
    "# rotated arrows \n",
    "d.append(dw.Use(g,0,0,transform='rotate (60,100,100)'))\n",
    "d.append(dw.Use(g,0,0,transform='rotate (-90,100,100)'))\n",
    "d.append(dw.Use(g,0,0,transform='rotate (-150,100,100)'))\n",
    "d"
   ]
  },
  {
   "cell_type": "markdown",
   "id": "dress-comedy",
   "metadata": {},
   "source": [
    "## 5.7 The `skewX` and `skewY` Transformations"
   ]
  },
  {
   "cell_type": "code",
   "execution_count": 22,
   "id": "looking-cameroon",
   "metadata": {},
   "outputs": [
    {
     "data": {
      "image/svg+xml": [
       "<?xml version=\"1.0\" encoding=\"UTF-8\"?>\n",
       "<svg xmlns=\"http://www.w3.org/2000/svg\" xmlns:xlink=\"http://www.w3.org/1999/xlink\"\n",
       "    width=\"200\" height=\"200\" viewBox=\"0 0 200 200\">\n",
       "<defs>\n",
       "</defs>\n",
       "<g stroke=\"gray\" stroke-dasharray=\"4 4\">\n",
       "<path d=\"M0,0 L200,0\" />\n",
       "<path d=\"M20,0 L20,90\" />\n",
       "<path d=\"M120,0 L120,90\" />\n",
       "</g>\n",
       "<g transform=\"translate(20,0)\">\n",
       "<g transform=\"skewX(30)\">\n",
       "<path d=\"M50,0 L0,0 L0,50\" stroke=\"black\" fill=\"none\" stroke-width=\"2\" />\n",
       "<text x=\"0\" y=\"60\" font-size=\"16\">skewX</text>\n",
       "</g>\n",
       "</g>\n",
       "<g transform=\"translate(120,0)\">\n",
       "<g transform=\"skewY(30)\">\n",
       "<path d=\"M50,0 L0,0 L0,50\" stroke=\"black\" fill=\"none\" stroke-width=\"2\" />\n",
       "<text x=\"0\" y=\"60\" font-size=\"16\">skewY</text>\n",
       "</g>\n",
       "</g>\n",
       "</svg>"
      ],
      "text/plain": [
       "<drawsvg.drawing.Drawing at 0x7ff4ec1ec1f0>"
      ]
     },
     "execution_count": 22,
     "metadata": {},
     "output_type": "execute_result"
    }
   ],
   "source": [
    "d = dw.Drawing(200,200)\n",
    "\n",
    "g = dw.Group(stroke='gray',stroke_dasharray='4 4')\n",
    "g.append(dw.Line(0,0,200,0))\n",
    "g.append(dw.Line(20,0,20,90))\n",
    "g.append(dw.Line(120,0,120,90))\n",
    "d.append(g)\n",
    "\n",
    "h = dw.Group(transform='translate(20,0)')\n",
    "h1 = dw.Group(transform='skewX(30)')\n",
    "h1.append(dw.Lines(50,0,0,0,0,50,stroke='black',fill='none',stroke_width=2))\n",
    "h1.append(dw.Text('skewX',16,0,60))\n",
    "h.append(h1)\n",
    "d.append(h)\n",
    "\n",
    "i = dw.Group(transform='translate(120,0)')\n",
    "i1 = dw.Group(transform='skewY(30)')\n",
    "i1.append(dw.Lines(50,0,0,0,0,50,stroke='black',fill='none',stroke_width=2))\n",
    "i1.append(dw.Text('skewY',16,0,60))\n",
    "i.append(i1)\n",
    "d.append(i)\n",
    "\n",
    "d"
   ]
  },
  {
   "cell_type": "code",
   "execution_count": null,
   "id": "theoretical-apple",
   "metadata": {},
   "outputs": [],
   "source": []
  }
 ],
 "metadata": {
  "kernelspec": {
   "display_name": "Python 3",
   "language": "python",
   "name": "python3"
  },
  "language_info": {
   "codemirror_mode": {
    "name": "ipython",
    "version": 3
   },
   "file_extension": ".py",
   "mimetype": "text/x-python",
   "name": "python",
   "nbconvert_exporter": "python",
   "pygments_lexer": "ipython3",
   "version": "3.9.2"
  }
 },
 "nbformat": 4,
 "nbformat_minor": 5
}
