{
 "cells": [
  {
   "cell_type": "markdown",
   "id": "guided-thanks",
   "metadata": {},
   "source": [
    "# 9. Clipping and Masking"
   ]
  },
  {
   "cell_type": "code",
   "execution_count": 1,
   "id": "excessive-boost",
   "metadata": {},
   "outputs": [],
   "source": [
    "import drawsvg as dw"
   ]
  },
  {
   "cell_type": "markdown",
   "id": "convertible-opening",
   "metadata": {},
   "source": [
    "## 9.1 Clipping to a Path"
   ]
  },
  {
   "cell_type": "markdown",
   "id": "healthy-tribe",
   "metadata": {},
   "source": [
    "Basic example from [draw2Svg doc](https://draw2svg.netlify.app/other/#clip):"
   ]
  },
  {
   "cell_type": "code",
   "execution_count": 2,
   "id": "attached-friendship",
   "metadata": {},
   "outputs": [
    {
     "data": {
      "image/svg+xml": [
       "<?xml version=\"1.0\" encoding=\"UTF-8\"?>\n",
       "<svg xmlns=\"http://www.w3.org/2000/svg\" xmlns:xlink=\"http://www.w3.org/1999/xlink\"\n",
       "    width=\"200\" height=\"100\" viewBox=\"0 0 200 100\" idPrefix=\"clippy\">\n",
       "<defs>\n",
       "<clipPath id=\"gHslPYDL0\">\n",
       "<rect x=\"0\" y=\"0\" width=\"100\" height=\"100\" />\n",
       "</clipPath>\n",
       "</defs>\n",
       "<circle cx=\"100\" cy=\"100\" r=\"100\" fill=\"cyan\" clip-path=\"url(#gHslPYDL0)\" id=\"circle\" />\n",
       "</svg>"
      ],
      "text/plain": [
       "<drawsvg.drawing.Drawing at 0x7fb9102e39d0>"
      ]
     },
     "execution_count": 2,
     "metadata": {},
     "output_type": "execute_result"
    }
   ],
   "source": [
    "d = dw.Drawing(200, 100, idPrefix='clippy')\n",
    "\n",
    "clip = dw.ClipPath()\n",
    "clip.append(dw.Rectangle(0,0,100,100))\n",
    "\n",
    "# Draw a cropped circle\n",
    "c = dw.Circle(100,100,100,\n",
    "                fill=\"cyan\", clip_path=clip,\n",
    "                id='circle')\n",
    "\n",
    "d.append(c)\n",
    "d"
   ]
  },
  {
   "cell_type": "markdown",
   "id": "burning-coordinate",
   "metadata": {},
   "source": [
    "Another example:"
   ]
  },
  {
   "cell_type": "code",
   "execution_count": 3,
   "id": "efficient-petroleum",
   "metadata": {},
   "outputs": [
    {
     "data": {
      "image/svg+xml": [
       "<?xml version=\"1.0\" encoding=\"UTF-8\"?>\n",
       "<svg xmlns=\"http://www.w3.org/2000/svg\" xmlns:xlink=\"http://www.w3.org/1999/xlink\"\n",
       "    width=\"600\" height=\"200\" viewBox=\"0 0 600 200\" idPrefix=\"clip2\">\n",
       "<defs>\n",
       "<path d=\"M150,150 L226,189 L6,64 L300,134 L243,148 L21,13 L256,190 L241,96 L186,69 L208,87 L141,21 L242,34 L123,92 L29,193 L278,57 L274,45 L174,76 L270,156 L271,61 L66,43 L114,39 L278,180 L203,80 L125,170 L236,154 L296,165 L296,166 L96,160 L48,131 L14,164 L68,90 L285,7 L92,8 L97,116 L161,161 L89,176 L245,5 L143,117 L32,144 L242,140 L255,92\" stroke=\"black\" stroke-width=\"2\" fill=\"none\" id=\"BqwdyTea0\" />\n",
       "<clipPath id=\"BqwdyTea1\">\n",
       "<circle cx=\"150\" cy=\"100\" r=\"75\" />\n",
       "</clipPath>\n",
       "</defs>\n",
       "<use xlink:href=\"#BqwdyTea0\" />\n",
       "<use xlink:href=\"#BqwdyTea0\" x=\"300\" y=\"0\" clip-path=\"url(#BqwdyTea1)\" />\n",
       "</svg>"
      ],
      "text/plain": [
       "<drawsvg.drawing.Drawing at 0x7fb910278370>"
      ]
     },
     "execution_count": 3,
     "metadata": {},
     "output_type": "execute_result"
    }
   ],
   "source": [
    "d = dw.Drawing(600,200,idPrefix='clip2')\n",
    "\n",
    "# draw a random path in the left half of the canvas\n",
    "p = dw.Path(stroke='black',stroke_width=2,fill='none')\n",
    "p.M(150,150)\n",
    "from random import randint\n",
    "for i in range(40):\n",
    "    p.L(randint(0,300),randint(0,200))\n",
    "d.append(p)\n",
    "\n",
    "# circle as clipping shape\n",
    "circ = dw.Circle(150,100,75)\n",
    "c = dw.ClipPath()\n",
    "c.append(circ)\n",
    "\n",
    "# repeat lines in the right half and apply clipping\n",
    "d.append(dw.Use(p,300,0,clip_path=c))\n",
    "d"
   ]
  },
  {
   "cell_type": "markdown",
   "id": "imperial-satellite",
   "metadata": {},
   "source": [
    "Complex clip path:"
   ]
  },
  {
   "cell_type": "code",
   "execution_count": 5,
   "id": "continuing-major",
   "metadata": {},
   "outputs": [
    {
     "name": "stdout",
     "output_type": "stream",
     "text": [
      "<?xml version=\"1.0\" encoding=\"UTF-8\"?>\n",
      "<svg xmlns=\"http://www.w3.org/2000/svg\" xmlns:xlink=\"http://www.w3.org/1999/xlink\"\n",
      "    width=\"300\" height=\"300\" viewBox=\"0 0 300 300\" idPrefix=\"clip3\">\n",
      "<defs>\n",
      "<g id=\"d0\">\n",
      "<rect x=\"0\" y=\"50\" width=\"90\" height=\"60\" fill=\"#999\" />\n",
      "<circle cx=\"25\" cy=\"25\" r=\"25\" fill=\"#666\" />\n",
      "<path d=\"M30,0 L80,0 L80,100 Z\" fill=\"#ccc\" />\n",
      "</g>\n",
      "<clipPath id=\"d1\">\n",
      "<path d=\"M5,55 C25,5,45,-25,75,55 C85,85,20,105,40,55 Z\" stroke=\"black\" fill=\"none\" />\n",
      "</clipPath>\n",
      "<clipPath id=\"d2\">\n",
      "<text x=\"20\" y=\"20\" font-size=\"48\" stroke=\"black\" fill=\"none\" transform=\"rotate(60)\">CLIP</text>\n",
      "</clipPath>\n",
      "</defs>\n",
      "<use xlink:href=\"#d0\" x=\"0\" y=\"0\" clip-path=\"url(#d1)\" />\n",
      "<g transform=\"translate(100,0)\">\n",
      "<use xlink:href=\"#d0\" />\n",
      "<use xlink:href=\"#d6\" />\n",
      "</g>\n",
      "<use xlink:href=\"#d0\" x=\"0\" y=\"150\" clip-path=\"url(#d2)\" />\n",
      "<g transform=\"translate(100,150)\">\n",
      "<use xlink:href=\"#d0\" />\n",
      "<use xlink:href=\"#d7\" />\n",
      "</g>\n",
      "</svg>\n"
     ]
    },
    {
     "data": {
      "image/svg+xml": [
       "<?xml version=\"1.0\" encoding=\"UTF-8\"?>\n",
       "<svg xmlns=\"http://www.w3.org/2000/svg\" xmlns:xlink=\"http://www.w3.org/1999/xlink\"\n",
       "    width=\"300\" height=\"300\" viewBox=\"0 0 300 300\" idPrefix=\"clip3\">\n",
       "<defs>\n",
       "<g id=\"yMOHID0R0\">\n",
       "<rect x=\"0\" y=\"50\" width=\"90\" height=\"60\" fill=\"#999\" />\n",
       "<circle cx=\"25\" cy=\"25\" r=\"25\" fill=\"#666\" />\n",
       "<path d=\"M30,0 L80,0 L80,100 Z\" fill=\"#ccc\" />\n",
       "</g>\n",
       "<clipPath id=\"yMOHID0R1\">\n",
       "<path d=\"M5,55 C25,5,45,-25,75,55 C85,85,20,105,40,55 Z\" stroke=\"black\" fill=\"none\" />\n",
       "</clipPath>\n",
       "<clipPath id=\"yMOHID0R2\">\n",
       "<text x=\"20\" y=\"20\" font-size=\"48\" stroke=\"black\" fill=\"none\" transform=\"rotate(60)\">CLIP</text>\n",
       "</clipPath>\n",
       "</defs>\n",
       "<use xlink:href=\"#yMOHID0R0\" x=\"0\" y=\"0\" clip-path=\"url(#yMOHID0R1)\" />\n",
       "<g transform=\"translate(100,0)\">\n",
       "<use xlink:href=\"#yMOHID0R0\" />\n",
       "<use xlink:href=\"#yMOHID0R6\" />\n",
       "</g>\n",
       "<use xlink:href=\"#yMOHID0R0\" x=\"0\" y=\"150\" clip-path=\"url(#yMOHID0R2)\" />\n",
       "<g transform=\"translate(100,150)\">\n",
       "<use xlink:href=\"#yMOHID0R0\" />\n",
       "<use xlink:href=\"#yMOHID0R7\" />\n",
       "</g>\n",
       "</svg>"
      ],
      "text/plain": [
       "<drawsvg.drawing.Drawing at 0x7fb9102e3c40>"
      ]
     },
     "execution_count": 5,
     "metadata": {},
     "output_type": "execute_result"
    }
   ],
   "source": [
    "d = dw.Drawing(300,300,idPrefix='clip3')\n",
    "\n",
    "curve1 = dw.Path(stroke='black',fill='none')\n",
    "curve1.M(5,55).C(25,5, 45,-25, 75,55).C(85,85, 20,105, 40,55).Z()\n",
    "\n",
    "curveClip = dw.ClipPath()\n",
    "curveClip.append(curve1)\n",
    "\n",
    "text1 = dw.Text('CLIP',48,20,20,stroke='black',fill='none',transform='rotate(60)')\n",
    "textClip = dw.ClipPath()\n",
    "textClip.append(text1)\n",
    "\n",
    "shapes = dw.Group()\n",
    "shapes.append(dw.Rectangle(0,50,90,60,fill='#999'))\n",
    "shapes.append(dw.Circle(25,25,25,fill='#666'))\n",
    "shapes.append(dw.Lines(30,0,80,0,80,100,close='true',fill='#ccc'))\n",
    "\n",
    "# draw shapes with clip path\n",
    "d.append(dw.Use(shapes,0,0,clip_path=curveClip))\n",
    "\n",
    "# show clip path\n",
    "g = dw.Group(transform='translate(100,0)')\n",
    "g.append(shapes)\n",
    "g.append(curve1)\n",
    "d.append(g)\n",
    "\n",
    "# draw shapes with text as clip path\n",
    "d.append(dw.Use(shapes,0,150,clip_path=textClip))\n",
    "\n",
    "# show text clip path\n",
    "g = dw.Group(transform='translate(100,150)')\n",
    "g.append(shapes)\n",
    "g.append(text1)\n",
    "d.append(g)\n",
    "\n",
    "print(d.as_svg())\n",
    "d"
   ]
  },
  {
   "cell_type": "markdown",
   "id": "exterior-suggestion",
   "metadata": {},
   "source": [
    "## 9.2 Masking"
   ]
  },
  {
   "cell_type": "markdown",
   "id": "expected-campaign",
   "metadata": {},
   "source": [
    "Example from [draw2Svg docs](https://draw2svg.netlify.app/other/#mask):"
   ]
  },
  {
   "cell_type": "code",
   "execution_count": 7,
   "id": "compressed-scheme",
   "metadata": {},
   "outputs": [
    {
     "data": {
      "image/svg+xml": [
       "<?xml version=\"1.0\" encoding=\"UTF-8\"?>\n",
       "<svg xmlns=\"http://www.w3.org/2000/svg\" xmlns:xlink=\"http://www.w3.org/1999/xlink\"\n",
       "    width=\"200\" height=\"100\" viewBox=\"0 0 200 100\" idPrefix=\"mask1\">\n",
       "<defs>\n",
       "<linearGradient x1=\"0\" y1=\"0\" x2=\"1\" y2=\"0\" gradientUnits=\"objectBoundingBox\" id=\"vOpdpFoB0\">\n",
       "<stop offset=\"0\" stop-color=\"white\" />\n",
       "<stop offset=\"1\" stop-color=\"black\" />\n",
       "</linearGradient>\n",
       "<mask id=\"vOpdpFoB1\">\n",
       "<rect x=\"30\" y=\"0\" width=\"100\" height=\"100\" fill=\"url(#vOpdpFoB0)\" />\n",
       "</mask>\n",
       "</defs>\n",
       "<rect x=\"0\" y=\"0\" width=\"200\" height=\"100\" fill=\"cyan\" />\n",
       "<rect x=\"0\" y=\"0\" width=\"200\" height=\"100\" fill=\"pink\" mask=\"url(#vOpdpFoB1)\" />\n",
       "</svg>"
      ],
      "text/plain": [
       "<drawsvg.drawing.Drawing at 0x7fb912441d00>"
      ]
     },
     "execution_count": 7,
     "metadata": {},
     "output_type": "execute_result"
    }
   ],
   "source": [
    "d = dw.Drawing(200, 100, idPrefix='mask1')\n",
    "\n",
    "gradient = dw.LinearGradient(*[0,0],*[1,0], gradientUnits='objectBoundingBox')\n",
    "gradient.add_stop(0, 'white')\n",
    "gradient.add_stop(1, 'black')\n",
    "\n",
    "mask = dw.Mask()\n",
    "box = dw.Rectangle(\n",
    "    x=30,y=0,\n",
    "    width=100,height=100,\n",
    "    fill=gradient)\n",
    "mask.append(box)\n",
    "\n",
    "#initial shape\n",
    "rect = dw.Rectangle(\n",
    "        x=0,y=0,\n",
    "        width=200,height=100,\n",
    "        fill=\"cyan\",)\n",
    "d.append(rect)\n",
    "\n",
    "#After Mask\n",
    "rect = dw.Rectangle(\n",
    "        x=0,y=0,\n",
    "        width=200,height=100,\n",
    "        fill=\"pink\", mask=mask)\n",
    "d.append(rect)\n",
    "d"
   ]
  },
  {
   "cell_type": "markdown",
   "id": "pressed-welsh",
   "metadata": {},
   "source": [
    "Example 9-4 from svg essentials: Masking using opaque colors."
   ]
  },
  {
   "cell_type": "code",
   "execution_count": 8,
   "id": "sharing-robert",
   "metadata": {},
   "outputs": [
    {
     "data": {
      "image/svg+xml": [
       "<?xml version=\"1.0\" encoding=\"UTF-8\"?>\n",
       "<svg xmlns=\"http://www.w3.org/2000/svg\" xmlns:xlink=\"http://www.w3.org/1999/xlink\"\n",
       "    width=\"250\" height=\"150\" viewBox=\"0 0 250 150\" idPrefix=\"mask2\">\n",
       "<defs>\n",
       "<mask maskContentUnits=\"objectBoundingBox\" id=\"xjbnIgik0\">\n",
       "<rect x=\"0\" y=\"0\" width=\"1\" height=\"1\" fill=\"#f00\" />\n",
       "</mask>\n",
       "<mask maskContentUnits=\"objectBoundingBox\" id=\"xjbnIgik1\">\n",
       "<rect x=\"0\" y=\"0\" width=\"1\" height=\"1\" fill=\"#0f0\" />\n",
       "</mask>\n",
       "<mask maskContentUnits=\"objectBoundingBox\" id=\"xjbnIgik2\">\n",
       "<rect x=\"0\" y=\"0\" width=\"1\" height=\"1\" fill=\"#00f\" />\n",
       "</mask>\n",
       "<mask maskContentUnits=\"objectBoundingBox\" id=\"xjbnIgik3\">\n",
       "<rect x=\"0\" y=\"0\" width=\"1\" height=\"1\" fill=\"#fff\" />\n",
       "</mask>\n",
       "</defs>\n",
       "<rect x=\"10\" y=\"10\" width=\"50\" height=\"50\" fill=\"#f00\" />\n",
       "<rect x=\"70\" y=\"10\" width=\"50\" height=\"50\" fill=\"#0f0\" />\n",
       "<rect x=\"130\" y=\"10\" width=\"50\" height=\"50\" fill=\"#00f\" />\n",
       "<rect x=\"190\" y=\"10\" width=\"50\" height=\"50\" fill=\"#fff\" stroke=\"black\" />\n",
       "<g mask=\"url(#xjbnIgik0)\">\n",
       "<circle cx=\"35\" cy=\"115\" r=\"25\" fill=\"black\" />\n",
       "<text x=\"35\" y=\"80\" font-size=\"14\" text-anchor=\"middle\">Red</text>\n",
       "</g>\n",
       "<g mask=\"url(#xjbnIgik1)\">\n",
       "<circle cx=\"95\" cy=\"115\" r=\"25\" fill=\"black\" />\n",
       "<text x=\"95\" y=\"80\" font-size=\"14\" text-anchor=\"middle\">Green</text>\n",
       "</g>\n",
       "<g mask=\"url(#xjbnIgik2)\">\n",
       "<circle cx=\"155\" cy=\"115\" r=\"25\" fill=\"black\" />\n",
       "<text x=\"155\" y=\"80\" font-size=\"14\" text-anchor=\"middle\">Blue</text>\n",
       "</g>\n",
       "<g mask=\"url(#xjbnIgik3)\">\n",
       "<circle cx=\"215\" cy=\"115\" r=\"25\" fill=\"black\" />\n",
       "<text x=\"215\" y=\"80\" font-size=\"14\" text-anchor=\"middle\">White</text>\n",
       "</g>\n",
       "</svg>"
      ],
      "text/plain": [
       "<drawsvg.drawing.Drawing at 0x7fb9102e33a0>"
      ]
     },
     "execution_count": 8,
     "metadata": {},
     "output_type": "execute_result"
    }
   ],
   "source": [
    "d = dw.Drawing(250,150,idPrefix='mask2')\n",
    "\n",
    "# define the masks\n",
    "redmask = dw.Mask(maskContentUnits='objectBoundingBox')\n",
    "redmask.append(dw.Rectangle(0,0,1,1,fill='#f00'))\n",
    "greenmask = dw.Mask(maskContentUnits='objectBoundingBox')\n",
    "greenmask.append(dw.Rectangle(0,0,1,1,fill='#0f0'))\n",
    "bluemask = dw.Mask(maskContentUnits='objectBoundingBox')\n",
    "bluemask.append(dw.Rectangle(0,0,1,1,fill='#00f'))\n",
    "whitemask = dw.Mask(maskContentUnits='objectBoundingBox')\n",
    "whitemask.append(dw.Rectangle(0,0,1,1,fill='#fff'))\n",
    "\n",
    "# display the colors\n",
    "d.append(dw.Rectangle(10,10,50,50,fill='#f00'))\n",
    "d.append(dw.Rectangle(70,10,50,50,fill='#0f0'))\n",
    "d.append(dw.Rectangle(130,10,50,50,fill='#00f'))\n",
    "d.append(dw.Rectangle(190,10,50,50,fill='#fff',stroke='black'))\n",
    "\n",
    "# mask\n",
    "g = dw.Group(mask=redmask)\n",
    "g.append(dw.Circle(35,115,25,fill='black'))\n",
    "g.append(dw.Text('Red',14,35,80,text_anchor='middle'))\n",
    "d.append(g)\n",
    "g = dw.Group(mask=greenmask)\n",
    "g.append(dw.Circle(95,115,25,fill='black'))\n",
    "g.append(dw.Text('Green',14,95,80,text_anchor='middle'))\n",
    "d.append(g)\n",
    "g = dw.Group(mask=bluemask)\n",
    "g.append(dw.Circle(155,115,25,fill='black'))\n",
    "g.append(dw.Text('Blue',14,155,80,text_anchor='middle'))\n",
    "d.append(g)\n",
    "g = dw.Group(mask=whitemask)\n",
    "g.append(dw.Circle(215,115,25,fill='black'))\n",
    "g.append(dw.Text('White',14,215,80,text_anchor='middle'))\n",
    "d.append(g)\n",
    "\n",
    "#print(d.asSvg())\n",
    "#d.saveSvg('bla.svg')\n",
    "d"
   ]
  },
  {
   "cell_type": "markdown",
   "id": "literary-depression",
   "metadata": {},
   "source": [
    "Example 9-5: Mask alpha using opacity only"
   ]
  },
  {
   "cell_type": "code",
   "execution_count": 9,
   "id": "boring-tribune",
   "metadata": {},
   "outputs": [
    {
     "data": {
      "image/svg+xml": [
       "<?xml version=\"1.0\" encoding=\"UTF-8\"?>\n",
       "<svg xmlns=\"http://www.w3.org/2000/svg\" xmlns:xlink=\"http://www.w3.org/1999/xlink\"\n",
       "    width=\"250\" height=\"100\" viewBox=\"0 0 250 100\" idPrefix=\"mask3\">\n",
       "<defs>\n",
       "<mask maskContentUnits=\"objectBoundingBox\" id=\"Ew0HRlAT0\">\n",
       "<rect x=\"0\" y=\"0\" width=\"1\" height=\"1\" fill-opacity=\"1.0\" fill=\"white\" />\n",
       "</mask>\n",
       "<mask maskContentUnits=\"objectBoundingBox\" id=\"Ew0HRlAT1\">\n",
       "<rect x=\"0\" y=\"0\" width=\"1\" height=\"1\" fill-opacity=\"0.75\" fill=\"white\" />\n",
       "</mask>\n",
       "<mask maskContentUnits=\"objectBoundingBox\" id=\"Ew0HRlAT2\">\n",
       "<rect x=\"0\" y=\"0\" width=\"1\" height=\"1\" fill-opacity=\"0.5\" fill=\"white\" />\n",
       "</mask>\n",
       "<mask maskContentUnits=\"objectBoundingBox\" id=\"Ew0HRlAT3\">\n",
       "<rect x=\"0\" y=\"0\" width=\"1\" height=\"1\" fill-opacity=\"0.25\" fill=\"white\" />\n",
       "</mask>\n",
       "</defs>\n",
       "<g mask=\"url(#Ew0HRlAT0)\">\n",
       "<circle cx=\"35\" cy=\"35\" r=\"25\" />\n",
       "<text x=\"35\" y=\"80\" font-size=\"14\" text-anchor=\"middle\">100%</text>\n",
       "</g>\n",
       "<g mask=\"url(#Ew0HRlAT1)\">\n",
       "<circle cx=\"95\" cy=\"35\" r=\"25\" />\n",
       "<text x=\"95\" y=\"80\" font-size=\"14\" text-anchor=\"middle\">50%</text>\n",
       "</g>\n",
       "<g mask=\"url(#Ew0HRlAT2)\">\n",
       "<circle cx=\"155\" cy=\"35\" r=\"25\" />\n",
       "<text x=\"155\" y=\"80\" font-size=\"14\" text-anchor=\"middle\">50%</text>\n",
       "</g>\n",
       "<g mask=\"url(#Ew0HRlAT3)\">\n",
       "<circle cx=\"215\" cy=\"35\" r=\"25\" />\n",
       "<text x=\"215\" y=\"80\" font-size=\"14\" text-anchor=\"middle\">25%</text>\n",
       "</g>\n",
       "</svg>"
      ],
      "text/plain": [
       "<drawsvg.drawing.Drawing at 0x7fb91027e730>"
      ]
     },
     "execution_count": 9,
     "metadata": {},
     "output_type": "execute_result"
    }
   ],
   "source": [
    "d = dw.Drawing(250,100,idPrefix='mask3')\n",
    "\n",
    "fullmask = dw.Mask(maskContentUnits='objectBoundingBox')\n",
    "fullmask.append(dw.Rectangle(0,0,1,1,fill_opacity=1.0,fill='white'))\n",
    "three_fourths = dw.Mask(maskContentUnits='objectBoundingBox')\n",
    "three_fourths.append(dw.Rectangle(0,0,1,1,fill_opacity=0.75,fill='white'))\n",
    "one_half = dw.Mask(maskContentUnits='objectBoundingBox')\n",
    "one_half.append(dw.Rectangle(0,0,1,1,fill_opacity=0.5,fill='white'))\n",
    "one_fourth = dw.Mask(maskContentUnits='objectBoundingBox')\n",
    "one_fourth.append(dw.Rectangle(0,0,1,1,fill_opacity=0.25,fill='white'))\n",
    "\n",
    "g = dw.Group(mask=fullmask)\n",
    "g.append(dw.Circle(35,35,25))\n",
    "g.append(dw.Text('100%',14,35,80,text_anchor='middle'))\n",
    "d.append(g)\n",
    "g = dw.Group(mask=three_fourths)\n",
    "g.append(dw.Circle(95,35,25))\n",
    "g.append(dw.Text('50%',14,95,80,text_anchor='middle'))\n",
    "d.append(g)\n",
    "g = dw.Group(mask=one_half)\n",
    "g.append(dw.Circle(155,35,25))\n",
    "g.append(dw.Text('50%',14,155,80,text_anchor='middle'))\n",
    "d.append(g)\n",
    "g = dw.Group(mask=one_fourth)\n",
    "g.append(dw.Circle(215,35,25))\n",
    "g.append(dw.Text('25%',14,215,80,text_anchor='middle'))\n",
    "d.append(g)\n",
    "\n",
    "d"
   ]
  },
  {
   "cell_type": "code",
   "execution_count": null,
   "id": "extraordinary-adjustment",
   "metadata": {},
   "outputs": [],
   "source": []
  }
 ],
 "metadata": {
  "kernelspec": {
   "display_name": "Python 3",
   "language": "python",
   "name": "python3"
  },
  "language_info": {
   "codemirror_mode": {
    "name": "ipython",
    "version": 3
   },
   "file_extension": ".py",
   "mimetype": "text/x-python",
   "name": "python",
   "nbconvert_exporter": "python",
   "pygments_lexer": "ipython3",
   "version": "3.9.2"
  }
 },
 "nbformat": 4,
 "nbformat_minor": 5
}
