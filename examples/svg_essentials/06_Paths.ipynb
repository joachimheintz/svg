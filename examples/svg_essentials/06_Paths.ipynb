{
 "cells": [
  {
   "cell_type": "markdown",
   "id": "chicken-diesel",
   "metadata": {},
   "source": [
    "# 6. Paths"
   ]
  },
  {
   "cell_type": "code",
   "execution_count": 1,
   "id": "statutory-anthropology",
   "metadata": {},
   "outputs": [],
   "source": [
    "import drawsvg as dw"
   ]
  },
  {
   "cell_type": "markdown",
   "id": "centered-religion",
   "metadata": {},
   "source": [
    "## 6.1 moveto, lineto and closepath"
   ]
  },
  {
   "cell_type": "code",
   "execution_count": 2,
   "id": "structural-spokesman",
   "metadata": {},
   "outputs": [
    {
     "data": {
      "image/svg+xml": [
       "<?xml version=\"1.0\" encoding=\"UTF-8\"?>\n",
       "<svg xmlns=\"http://www.w3.org/2000/svg\" xmlns:xlink=\"http://www.w3.org/1999/xlink\"\n",
       "    width=\"100\" height=\"100\" viewBox=\"0 0 100 100\">\n",
       "<defs>\n",
       "</defs>\n",
       "<g stroke=\"black\" fill=\"none\">\n",
       "<path d=\"M10,10 L100,10\" />\n",
       "<path d=\"M10,20 L100,20 L100,50\" />\n",
       "<path d=\"M40,60 L10,60 L40,42.68 M60,60 L90,60 L60,42.68\" />\n",
       "</g>\n",
       "</svg>"
      ],
      "text/plain": [
       "<drawsvg.drawing.Drawing at 0x7fc4c83b9e80>"
      ]
     },
     "execution_count": 2,
     "metadata": {},
     "output_type": "execute_result"
    }
   ],
   "source": [
    "d = dw.Drawing(100,100)\n",
    "g = dw.Group(stroke='black',fill='none')\n",
    "\n",
    "p1 = dw.Path()\n",
    "p1.M(10,10)\n",
    "p1.L(100,10)\n",
    "g.append(p1)\n",
    "\n",
    "p2 = dw.Path()\n",
    "p2.M(10,20)\n",
    "p2.L(100,20)\n",
    "p2.L(100,50)\n",
    "g.append(p2)\n",
    "\n",
    "p3 = dw.Path()\n",
    "p3.M(40,60)\n",
    "p3.L(10,60)\n",
    "p3.L(40,42.68)\n",
    "p3.M(60,60)\n",
    "p3.L(90,60)\n",
    "p3.L(60,42.68)\n",
    "g.append(p3)\n",
    "\n",
    "d.append(g)\n",
    "d"
   ]
  },
  {
   "cell_type": "code",
   "execution_count": 3,
   "id": "brilliant-craps",
   "metadata": {},
   "outputs": [
    {
     "data": {
      "image/svg+xml": [
       "<?xml version=\"1.0\" encoding=\"UTF-8\"?>\n",
       "<svg xmlns=\"http://www.w3.org/2000/svg\" xmlns:xlink=\"http://www.w3.org/1999/xlink\"\n",
       "    width=\"100\" height=\"100\" viewBox=\"0 0 100 100\">\n",
       "<defs>\n",
       "</defs>\n",
       "<g stroke=\"black\" fill=\"none\">\n",
       "<path d=\"M10,10 L40,10 L40,30 L10,30 L10,10\" />\n",
       "<path d=\"M60,10 L90,10 L90,30 L60,30 Z\" />\n",
       "<path d=\"M40,60 L10,60 L40,42.68 Z M60,60 L90,60 L60,42.68 Z\" />\n",
       "</g>\n",
       "</svg>"
      ],
      "text/plain": [
       "<drawsvg.drawing.Drawing at 0x7fc4c83b9610>"
      ]
     },
     "execution_count": 3,
     "metadata": {},
     "output_type": "execute_result"
    }
   ],
   "source": [
    "d = dw.Drawing(100,100)\n",
    "g = dw.Group(stroke='black',fill='none')\n",
    "\n",
    "# rectangle: all four lines\n",
    "p = dw.Path()\n",
    "p.M(10,10)\n",
    "p.L(40,10)\n",
    "p.L(40,30)\n",
    "p.L(10,30)\n",
    "p.L(10,10)\n",
    "g.append(p)\n",
    "\n",
    "# rectangle with closepath\n",
    "p = dw.Path()\n",
    "p.M(60,10)\n",
    "p.L(90,10)\n",
    "p.L(90,30)\n",
    "p.L(60,30)\n",
    "p.Z()\n",
    "g.append(p)\n",
    "\n",
    "# two thirty-degree triangles\n",
    "p = dw.Path()\n",
    "p.M(40,60)\n",
    "p.L(10,60)\n",
    "p.L(40,42.68)\n",
    "p.Z()\n",
    "p.M(60,60)\n",
    "p.L(90,60)\n",
    "p.L(60,42.68)\n",
    "p.Z()\n",
    "g.append(p)\n",
    "\n",
    "d.append(g)\n",
    "d"
   ]
  },
  {
   "cell_type": "markdown",
   "id": "roman-headset",
   "metadata": {},
   "source": [
    "## 6.2 Relative moveto and lineto"
   ]
  },
  {
   "cell_type": "code",
   "execution_count": 4,
   "id": "standard-hormone",
   "metadata": {},
   "outputs": [
    {
     "data": {
      "image/svg+xml": [
       "<?xml version=\"1.0\" encoding=\"UTF-8\"?>\n",
       "<svg xmlns=\"http://www.w3.org/2000/svg\" xmlns:xlink=\"http://www.w3.org/1999/xlink\"\n",
       "    width=\"110\" height=\"50\" viewBox=\"0 0 110 50\">\n",
       "<defs>\n",
       "</defs>\n",
       "<path d=\"M10,10 L20,10 L20,30 M40,40 L55,35\" stroke=\"blue\" fill=\"none\" />\n",
       "<path d=\"M10,10 l10,0 l0,20 m20,10 l15,-5\" stroke=\"red\" fill=\"none\" transform=\"translate(50 0)\" />\n",
       "</svg>"
      ],
      "text/plain": [
       "<drawsvg.drawing.Drawing at 0x7fc4c83b4a90>"
      ]
     },
     "execution_count": 4,
     "metadata": {},
     "output_type": "execute_result"
    }
   ],
   "source": [
    "d = dw.Drawing(110,50)\n",
    "p = dw.Path(stroke='blue',fill='none')\n",
    "p.M(10,10).L(20,10).L(20,30).M(40,40).L(55,35)\n",
    "d.append(p)\n",
    "p = dw.Path(stroke='red',fill='none',transform='translate(50 0)')\n",
    "p.M(10,10).l(10,0).l(0,20).m(20,10).l(15,-5)\n",
    "d.append(p)\n",
    "d"
   ]
  },
  {
   "cell_type": "markdown",
   "id": "visible-seminar",
   "metadata": {},
   "source": [
    "## 6.3 Path Shortcuts"
   ]
  },
  {
   "cell_type": "markdown",
   "id": "viral-criticism",
   "metadata": {},
   "source": [
    "### 6.3.1 The Horizontal lineto and the Vertical lineto Commands"
   ]
  },
  {
   "cell_type": "code",
   "execution_count": 5,
   "id": "preliminary-recipe",
   "metadata": {},
   "outputs": [
    {
     "data": {
      "image/svg+xml": [
       "<?xml version=\"1.0\" encoding=\"UTF-8\"?>\n",
       "<svg xmlns=\"http://www.w3.org/2000/svg\" xmlns:xlink=\"http://www.w3.org/1999/xlink\"\n",
       "    width=\"100\" height=\"100\" viewBox=\"0 0 100 100\">\n",
       "<defs>\n",
       "</defs>\n",
       "<path d=\"M10,10 h30 v50 h-30 Z M50,10 h30 v50 Z\" stroke=\"black\" fill=\"none\" id=\"H6kgVTDB0\" />\n",
       "<use xlink:href=\"#H6kgVTDB0\" />\n",
       "</svg>"
      ],
      "text/plain": [
       "<drawsvg.drawing.Drawing at 0x7fc4c83b47f0>"
      ]
     },
     "execution_count": 5,
     "metadata": {},
     "output_type": "execute_result"
    }
   ],
   "source": [
    "d = dw.Drawing(100,100)\n",
    "p = dw.Path(stroke='black',fill='none')\n",
    "d.append(p.M(10,10).h(30).v(50).h(-30).Z())\n",
    "d.append(p.M(50,10).h(30).v(50).Z())\n",
    "d"
   ]
  },
  {
   "cell_type": "markdown",
   "id": "surgical-junior",
   "metadata": {},
   "source": [
    "### 6.3.2 Notational Shortcuts\n",
    "This does not work in draw2Svg, as M() or L() only take two arguments, not more."
   ]
  },
  {
   "cell_type": "markdown",
   "id": "opened-mouse",
   "metadata": {},
   "source": [
    "## 6.4 Elliptical Arc"
   ]
  },
  {
   "cell_type": "code",
   "execution_count": 7,
   "id": "suitable-deputy",
   "metadata": {},
   "outputs": [
    {
     "data": {
      "image/svg+xml": [
       "<?xml version=\"1.0\" encoding=\"UTF-8\"?>\n",
       "<svg xmlns=\"http://www.w3.org/2000/svg\" xmlns:xlink=\"http://www.w3.org/1999/xlink\"\n",
       "    width=\"400\" height=\"200\" viewBox=\"0 0 400 200\" stroke-width=\"3\" fill=\"none\">\n",
       "<defs>\n",
       "</defs>\n",
       "<path d=\"M125,75 A100,50,0,0,0,225,125\" stroke=\"red\" />\n",
       "<path d=\"M125,75 A100,50,0,0,1,225,125\" stroke=\"blue\" />\n",
       "<path d=\"M125,75 A100,50,0,1,0,225,125\" stroke=\"rgb(0 80 255)\" stroke-dasharray=\"5 3\" />\n",
       "<path d=\"M125,75 A100,50,0,1,1,225,125\" stroke=\"rgb(255 80 0)\" stroke-dasharray=\"5 3\" />\n",
       "</svg>"
      ],
      "text/plain": [
       "<drawsvg.drawing.Drawing at 0x7fc4c8341670>"
      ]
     },
     "execution_count": 7,
     "metadata": {},
     "output_type": "execute_result"
    }
   ],
   "source": [
    "d = dw.Drawing(400,200,stroke_width=3,fill='none')\n",
    "# referring to figure 6.4 in \"svg essentials\" \n",
    "\n",
    "p = dw.Path(stroke='red')\n",
    "d.append(p.M(125,75).A(100,50,rot=0,large_arc=0,sweep=0,ex=225,ey=125))\n",
    "\n",
    "p = dw.Path(stroke='blue')\n",
    "d.append(p.M(125,75).A(100,50,rot=0,large_arc=0,sweep=1,ex=225,ey=125))\n",
    "\n",
    "p = dw.Path(stroke='rgb(0 80 255)',stroke_dasharray='5 3')\n",
    "d.append(p.M(125,75).A(100,50,rot=0,large_arc=1,sweep=0,ex=225,ey=125))\n",
    "\n",
    "p = dw.Path(stroke='rgb(255 80 0)',stroke_dasharray='5 3')\n",
    "d.append(p.M(125,75).A(100,50,rot=0,large_arc=1,sweep=1,ex=225,ey=125))\n",
    "\n",
    "d"
   ]
  },
  {
   "cell_type": "markdown",
   "id": "fallen-louisiana",
   "metadata": {},
   "source": [
    "## 6.6 Bézier Curves"
   ]
  },
  {
   "cell_type": "markdown",
   "id": "metric-variation",
   "metadata": {},
   "source": [
    "### 6.6.1 Quadratic Bézier Curves"
   ]
  },
  {
   "cell_type": "code",
   "execution_count": 8,
   "id": "through-advocacy",
   "metadata": {},
   "outputs": [
    {
     "data": {
      "image/svg+xml": [
       "<?xml version=\"1.0\" encoding=\"UTF-8\"?>\n",
       "<svg xmlns=\"http://www.w3.org/2000/svg\" xmlns:xlink=\"http://www.w3.org/1999/xlink\"\n",
       "    width=\"700\" height=\"200\" viewBox=\"0 0 700 200\">\n",
       "<defs>\n",
       "<path d=\"M30,75 Q240,30,300,120\" stroke=\"black\" fill=\"none\" stroke-width=\"3\" id=\"KZ9geU0p0\" />\n",
       "</defs>\n",
       "<use xlink:href=\"#KZ9geU0p0\" />\n",
       "<use xlink:href=\"#KZ9geU0p0\" x=\"300\" y=\"0\" />\n",
       "<g stroke=\"gray\" fill=\"gray\">\n",
       "<circle cx=\"330\" cy=\"75\" r=\"3\" />\n",
       "<circle cx=\"600\" cy=\"120\" r=\"3\" />\n",
       "<circle cx=\"540\" cy=\"30\" r=\"3\" />\n",
       "<path d=\"M330,75 L540,30\" />\n",
       "<path d=\"M540,30 L600,120\" />\n",
       "<path d=\"M330,75 L600,120\" stroke-dasharray=\"5,5\" />\n",
       "<circle cx=\"435\" cy=\"52.5\" r=\"3\" />\n",
       "<circle cx=\"570\" cy=\"75\" r=\"3\" />\n",
       "<path d=\"M435,52.5 L570,75\" />\n",
       "<circle cx=\"502.5\" cy=\"63.75\" r=\"4\" fill=\"none\" />\n",
       "</g>\n",
       "</svg>"
      ],
      "text/plain": [
       "<drawsvg.drawing.Drawing at 0x7fc4c82cc850>"
      ]
     },
     "execution_count": 8,
     "metadata": {},
     "output_type": "execute_result"
    }
   ],
   "source": [
    "d = dw.Drawing(700,200)\n",
    "# curve only (left)\n",
    "p = dw.Path(stroke='black',fill='none',stroke_width=3)\n",
    "d.append(p.M(30,75).Q(240,30,300,120))\n",
    "# with control point and construction lines\n",
    "d.append(dw.Use(p,300,0))\n",
    "g = dw.Group(stroke='gray',fill='gray')\n",
    "g.append(dw.Circle(330,75,3))\n",
    "g.append(dw.Circle(600,120,3))\n",
    "g.append(dw.Circle(540,30,3))\n",
    "g.append(dw.Line(330,75,540,30))\n",
    "g.append(dw.Line(540,30,600,120))\n",
    "g.append(dw.Line(330,75,600,120,stroke_dasharray='5,5'))\n",
    "g.append(dw.Circle(435,52.5,3))\n",
    "g.append(dw.Circle(570,75,3))\n",
    "g.append(dw.Line(435,52.5,570,75))\n",
    "g.append(dw.Circle(502.5,63.75,4,fill='none'))\n",
    "d.append(g)\n",
    "d"
   ]
  },
  {
   "cell_type": "code",
   "execution_count": 9,
   "id": "bulgarian-radiation",
   "metadata": {},
   "outputs": [
    {
     "data": {
      "image/svg+xml": [
       "<?xml version=\"1.0\" encoding=\"UTF-8\"?>\n",
       "<svg xmlns=\"http://www.w3.org/2000/svg\" xmlns:xlink=\"http://www.w3.org/1999/xlink\"\n",
       "    width=\"300\" height=\"150\" viewBox=\"0 0 300 150\">\n",
       "<defs>\n",
       "</defs>\n",
       "<path d=\"M30,100 Q80,30,100,100 Q130,65,200,80\" stroke=\"black\" fill=\"none\" stroke-width=\"3\" />\n",
       "</svg>"
      ],
      "text/plain": [
       "<drawsvg.drawing.Drawing at 0x7fc4c82cc280>"
      ]
     },
     "execution_count": 9,
     "metadata": {},
     "output_type": "execute_result"
    }
   ],
   "source": [
    "d = dw.Drawing(300,150)\n",
    "p = dw.Path(stroke='black',fill='none',stroke_width=3)\n",
    "# several quadratic bezier in sequence\n",
    "p.M(30,100).Q(80,30,100,100).Q(130,65,200,80)\n",
    "d.append(p)\n",
    "d"
   ]
  },
  {
   "cell_type": "markdown",
   "id": "legendary-moses",
   "metadata": {},
   "source": [
    "`T` statement as smooth continuation with automatically generated control point:"
   ]
  },
  {
   "cell_type": "code",
   "execution_count": 10,
   "id": "vocal-abraham",
   "metadata": {},
   "outputs": [
    {
     "data": {
      "image/svg+xml": [
       "<?xml version=\"1.0\" encoding=\"UTF-8\"?>\n",
       "<svg xmlns=\"http://www.w3.org/2000/svg\" xmlns:xlink=\"http://www.w3.org/1999/xlink\"\n",
       "    width=\"300\" height=\"150\" viewBox=\"0 0 300 150\">\n",
       "<defs>\n",
       "</defs>\n",
       "<path d=\"M30,100 Q80,30,100,100 T200,80\" stroke=\"black\" fill=\"none\" stroke-width=\"3\" />\n",
       "</svg>"
      ],
      "text/plain": [
       "<drawsvg.drawing.Drawing at 0x7fc4c82ca310>"
      ]
     },
     "execution_count": 10,
     "metadata": {},
     "output_type": "execute_result"
    }
   ],
   "source": [
    "d = dw.Drawing(300,150)\n",
    "p = dw.Path(stroke='black',fill='none',stroke_width=3)\n",
    "p.M(30,100).Q(80,30,100,100).T(200,80)\n",
    "d.append(p)\n",
    "d"
   ]
  },
  {
   "cell_type": "code",
   "execution_count": 11,
   "id": "compact-computer",
   "metadata": {},
   "outputs": [
    {
     "data": {
      "image/svg+xml": [
       "<?xml version=\"1.0\" encoding=\"UTF-8\"?>\n",
       "<svg xmlns=\"http://www.w3.org/2000/svg\" xmlns:xlink=\"http://www.w3.org/1999/xlink\"\n",
       "    width=\"410\" height=\"100\" viewBox=\"0 0 410 100\">\n",
       "<defs>\n",
       "</defs>\n",
       "<path d=\"M30,60 Q80,-10,100,60 Q130,25,200,40\" stroke=\"black\" fill=\"none\" stroke-width=\"3\" />\n",
       "<path d=\"M30,60 Q80,-10,100,60 T200,40\" stroke=\"black\" fill=\"none\" stroke-width=\"3\" transform=\"translate(200,0)\" />\n",
       "</svg>"
      ],
      "text/plain": [
       "<drawsvg.drawing.Drawing at 0x7fc4c83427f0>"
      ]
     },
     "execution_count": 11,
     "metadata": {},
     "output_type": "execute_result"
    }
   ],
   "source": [
    "d = dw.Drawing(410,100)\n",
    "# sequence left\n",
    "p = dw.Path(stroke='black',fill='none',stroke_width=3)\n",
    "d.append(p.M(30,60).Q(80,-10,100,60).Q(130,25,200,40))\n",
    "# with smooth continuation right\n",
    "p = dw.Path(stroke='black',fill='none',stroke_width=3,transform='translate(200,0)')\n",
    "d.append(p.M(30,60).Q(80,-10,100,60).T(200,40))\n",
    "d"
   ]
  },
  {
   "cell_type": "markdown",
   "id": "alleged-script",
   "metadata": {},
   "source": [
    "### 6.6.2 Cubic Bézier Curves\n",
    "Usage: startpoint, control for startpoint, control for endpoint, endpoint"
   ]
  },
  {
   "cell_type": "code",
   "execution_count": 12,
   "id": "colored-parallel",
   "metadata": {},
   "outputs": [
    {
     "data": {
      "image/svg+xml": [
       "<?xml version=\"1.0\" encoding=\"UTF-8\"?>\n",
       "<svg xmlns=\"http://www.w3.org/2000/svg\" xmlns:xlink=\"http://www.w3.org/1999/xlink\"\n",
       "    width=\"300\" height=\"150\" viewBox=\"0 0 300 150\">\n",
       "<defs>\n",
       "</defs>\n",
       "<path d=\"M20,80 C50,20,150,60,200,120\" stroke=\"black\" fill=\"none\" stroke-width=\"3\" />\n",
       "</svg>"
      ],
      "text/plain": [
       "<drawsvg.drawing.Drawing at 0x7fc4c82ccaf0>"
      ]
     },
     "execution_count": 12,
     "metadata": {},
     "output_type": "execute_result"
    }
   ],
   "source": [
    "d = dw.Drawing(300,150)\n",
    "p = dw.Path(stroke='black',fill='none',stroke_width=3)\n",
    "p.M(20,80)\n",
    "p.C(50,20,150,60,200,120)\n",
    "d.append(p)\n",
    "d"
   ]
  },
  {
   "cell_type": "markdown",
   "id": "painted-drunk",
   "metadata": {},
   "source": [
    "Some example curves with control points (fig 6-11 in svg esentials)"
   ]
  },
  {
   "cell_type": "code",
   "execution_count": 13,
   "id": "painful-liquid",
   "metadata": {},
   "outputs": [
    {
     "data": {
      "image/svg+xml": [
       "<?xml version=\"1.0\" encoding=\"UTF-8\"?>\n",
       "<svg xmlns=\"http://www.w3.org/2000/svg\" xmlns:xlink=\"http://www.w3.org/1999/xlink\"\n",
       "    width=\"650\" height=\"100\" viewBox=\"0 0 650 100\">\n",
       "<defs>\n",
       "</defs>\n",
       "<path d=\"M40,50 C10,10,140,10,110,50\" stroke=\"black\" fill=\"none\" stroke-width=\"3\" transform=\"translate(0,0)translate(0,0)translate(0,0)translate(0,0)translate(0,0)translate(0,0)translate(0,0)translate(0,0)translate(0,0)translate(0,0)translate(0,0)translate(0,0)translate(0,0)translate(0,0)translate(0,0)translate(0,0)translate(0,0)translate(0,0)translate(0,0)translate(0,0)translate(0,0)translate(0,0)translate(0,0)translate(0,0)translate(0,0)translate(0,0)translate(0,0)translate(0,0)translate(0,0)translate(0,0)translate(0,0)translate(0,0)translate(0,0)translate(0,0)translate(0,0)translate(0,0)translate(0,0)translate(0,0)translate(0,0)translate(0,0)translate(0,0)translate(0,0)translate(0,0)translate(0,0)translate(0,0)translate(0,0)translate(0,0)translate(0,0)translate(0,0)translate(0,0)translate(0,0)translate(0,0)translate(0,0)translate(0,0)translate(0,0)translate(0,0)translate(0,0)translate(0,0)translate(0,0)translate(0,0)translate(0,0)translate(0,0)translate(0,0)translate(0,0)translate(0,0)translate(0,0)translate(0,0)translate(0,0)translate(0,0)translate(0,0)translate(0,0)translate(0,0)translate(0,0)translate(0,0)translate(0,0)translate(0,0)translate(0,0)translate(0,0)translate(0,0)translate(0,0)translate(0,0)translate(0,0)translate(0,0)translate(0,0)translate(0,0)translate(0,0)translate(0,0)translate(0,0)translate(0,0)translate(0,0)translate(0,0)translate(0,0)translate(0,0)translate(0,0)translate(0,0)translate(0,0)translate(0,0)translate(0,0)translate(0,0)translate(0,0)\" />\n",
       "<g stroke=\"gray\" fill=\"gray\" stroke-width=\"1\" transform=\"translate(0,0)translate(0,0)translate(0,0)translate(0,0)translate(0,0)translate(0,0)translate(0,0)translate(0,0)translate(0,0)translate(0,0)translate(0,0)translate(0,0)translate(0,0)translate(0,0)translate(0,0)translate(0,0)translate(0,0)translate(0,0)translate(0,0)translate(0,0)translate(0,0)translate(0,0)translate(0,0)translate(0,0)translate(0,0)translate(0,0)translate(0,0)translate(0,0)translate(0,0)translate(0,0)translate(0,0)translate(0,0)translate(0,0)translate(0,0)translate(0,0)translate(0,0)translate(0,0)translate(0,0)translate(0,0)translate(0,0)translate(0,0)translate(0,0)translate(0,0)translate(0,0)translate(0,0)translate(0,0)translate(0,0)translate(0,0)translate(0,0)translate(0,0)translate(0,0)translate(0,0)translate(0,0)translate(0,0)translate(0,0)translate(0,0)translate(0,0)translate(0,0)translate(0,0)translate(0,0)translate(0,0)translate(0,0)translate(0,0)translate(0,0)translate(0,0)translate(0,0)translate(0,0)translate(0,0)translate(0,0)translate(0,0)translate(0,0)translate(0,0)translate(0,0)translate(0,0)translate(0,0)translate(0,0)translate(0,0)translate(0,0)translate(0,0)translate(0,0)translate(0,0)translate(0,0)translate(0,0)translate(0,0)translate(0,0)translate(0,0)translate(0,0)translate(0,0)translate(0,0)translate(0,0)translate(0,0)translate(0,0)translate(0,0)translate(0,0)translate(0,0)translate(0,0)translate(0,0)translate(0,0)translate(0,0)translate(0,0)\">\n",
       "<circle cx=\"10\" cy=\"10\" r=\"2\" />\n",
       "<circle cx=\"140\" cy=\"10\" r=\"2\" />\n",
       "<path d=\"M40,50 L10,10\" />\n",
       "<path d=\"M110,50 L140,10\" />\n",
       "</g>\n",
       "<path d=\"M40,50 C60,10,90,10,110,50\" stroke=\"black\" fill=\"none\" stroke-width=\"3\" transform=\"translate(1,0)translate(1,0)translate(1,0)translate(1,0)translate(1,0)translate(1,0)translate(1,0)translate(1,0)translate(1,0)translate(1,0)translate(1,0)translate(1,0)translate(1,0)translate(1,0)translate(1,0)translate(1,0)translate(1,0)translate(1,0)translate(1,0)translate(1,0)translate(1,0)translate(1,0)translate(1,0)translate(1,0)translate(1,0)translate(1,0)translate(1,0)translate(1,0)translate(1,0)translate(1,0)translate(1,0)translate(1,0)translate(1,0)translate(1,0)translate(1,0)translate(1,0)translate(1,0)translate(1,0)translate(1,0)translate(1,0)translate(1,0)translate(1,0)translate(1,0)translate(1,0)translate(1,0)translate(1,0)translate(1,0)translate(1,0)translate(1,0)translate(1,0)translate(1,0)translate(1,0)translate(1,0)translate(1,0)translate(1,0)translate(1,0)translate(1,0)translate(1,0)translate(1,0)translate(1,0)translate(1,0)translate(1,0)translate(1,0)translate(1,0)translate(1,0)translate(1,0)translate(1,0)translate(1,0)translate(1,0)translate(1,0)translate(1,0)translate(1,0)translate(1,0)translate(1,0)translate(1,0)translate(1,0)translate(1,0)translate(1,0)translate(1,0)translate(1,0)translate(1,0)translate(1,0)translate(1,0)translate(1,0)translate(1,0)translate(1,0)translate(1,0)translate(1,0)translate(1,0)translate(1,0)translate(1,0)translate(1,0)translate(1,0)translate(1,0)translate(1,0)translate(1,0)translate(1,0)translate(1,0)translate(1,0)translate(1,0)\" />\n",
       "<g stroke=\"gray\" fill=\"gray\" stroke-width=\"1\" transform=\"translate(1,0)translate(1,0)translate(1,0)translate(1,0)translate(1,0)translate(1,0)translate(1,0)translate(1,0)translate(1,0)translate(1,0)translate(1,0)translate(1,0)translate(1,0)translate(1,0)translate(1,0)translate(1,0)translate(1,0)translate(1,0)translate(1,0)translate(1,0)translate(1,0)translate(1,0)translate(1,0)translate(1,0)translate(1,0)translate(1,0)translate(1,0)translate(1,0)translate(1,0)translate(1,0)translate(1,0)translate(1,0)translate(1,0)translate(1,0)translate(1,0)translate(1,0)translate(1,0)translate(1,0)translate(1,0)translate(1,0)translate(1,0)translate(1,0)translate(1,0)translate(1,0)translate(1,0)translate(1,0)translate(1,0)translate(1,0)translate(1,0)translate(1,0)translate(1,0)translate(1,0)translate(1,0)translate(1,0)translate(1,0)translate(1,0)translate(1,0)translate(1,0)translate(1,0)translate(1,0)translate(1,0)translate(1,0)translate(1,0)translate(1,0)translate(1,0)translate(1,0)translate(1,0)translate(1,0)translate(1,0)translate(1,0)translate(1,0)translate(1,0)translate(1,0)translate(1,0)translate(1,0)translate(1,0)translate(1,0)translate(1,0)translate(1,0)translate(1,0)translate(1,0)translate(1,0)translate(1,0)translate(1,0)translate(1,0)translate(1,0)translate(1,0)translate(1,0)translate(1,0)translate(1,0)translate(1,0)translate(1,0)translate(1,0)translate(1,0)translate(1,0)translate(1,0)translate(1,0)translate(1,0)translate(1,0)translate(1,0)\">\n",
       "<circle cx=\"60\" cy=\"10\" r=\"2\" />\n",
       "<circle cx=\"90\" cy=\"10\" r=\"2\" />\n",
       "<path d=\"M40,50 L60,10\" />\n",
       "<path d=\"M110,50 L90,10\" />\n",
       "</g>\n",
       "<path d=\"M40,50 C110,10,40,10,110,50\" stroke=\"black\" fill=\"none\" stroke-width=\"3\" transform=\"translate(2,0)translate(2,0)translate(2,0)translate(2,0)translate(2,0)translate(2,0)translate(2,0)translate(2,0)translate(2,0)translate(2,0)translate(2,0)translate(2,0)translate(2,0)translate(2,0)translate(2,0)translate(2,0)translate(2,0)translate(2,0)translate(2,0)translate(2,0)translate(2,0)translate(2,0)translate(2,0)translate(2,0)translate(2,0)translate(2,0)translate(2,0)translate(2,0)translate(2,0)translate(2,0)translate(2,0)translate(2,0)translate(2,0)translate(2,0)translate(2,0)translate(2,0)translate(2,0)translate(2,0)translate(2,0)translate(2,0)translate(2,0)translate(2,0)translate(2,0)translate(2,0)translate(2,0)translate(2,0)translate(2,0)translate(2,0)translate(2,0)translate(2,0)translate(2,0)translate(2,0)translate(2,0)translate(2,0)translate(2,0)translate(2,0)translate(2,0)translate(2,0)translate(2,0)translate(2,0)translate(2,0)translate(2,0)translate(2,0)translate(2,0)translate(2,0)translate(2,0)translate(2,0)translate(2,0)translate(2,0)translate(2,0)translate(2,0)translate(2,0)translate(2,0)translate(2,0)translate(2,0)translate(2,0)translate(2,0)translate(2,0)translate(2,0)translate(2,0)translate(2,0)translate(2,0)translate(2,0)translate(2,0)translate(2,0)translate(2,0)translate(2,0)translate(2,0)translate(2,0)translate(2,0)translate(2,0)translate(2,0)translate(2,0)translate(2,0)translate(2,0)translate(2,0)translate(2,0)translate(2,0)translate(2,0)translate(2,0)\" />\n",
       "<g stroke=\"gray\" fill=\"gray\" stroke-width=\"1\" transform=\"translate(2,0)translate(2,0)translate(2,0)translate(2,0)translate(2,0)translate(2,0)translate(2,0)translate(2,0)translate(2,0)translate(2,0)translate(2,0)translate(2,0)translate(2,0)translate(2,0)translate(2,0)translate(2,0)translate(2,0)translate(2,0)translate(2,0)translate(2,0)translate(2,0)translate(2,0)translate(2,0)translate(2,0)translate(2,0)translate(2,0)translate(2,0)translate(2,0)translate(2,0)translate(2,0)translate(2,0)translate(2,0)translate(2,0)translate(2,0)translate(2,0)translate(2,0)translate(2,0)translate(2,0)translate(2,0)translate(2,0)translate(2,0)translate(2,0)translate(2,0)translate(2,0)translate(2,0)translate(2,0)translate(2,0)translate(2,0)translate(2,0)translate(2,0)translate(2,0)translate(2,0)translate(2,0)translate(2,0)translate(2,0)translate(2,0)translate(2,0)translate(2,0)translate(2,0)translate(2,0)translate(2,0)translate(2,0)translate(2,0)translate(2,0)translate(2,0)translate(2,0)translate(2,0)translate(2,0)translate(2,0)translate(2,0)translate(2,0)translate(2,0)translate(2,0)translate(2,0)translate(2,0)translate(2,0)translate(2,0)translate(2,0)translate(2,0)translate(2,0)translate(2,0)translate(2,0)translate(2,0)translate(2,0)translate(2,0)translate(2,0)translate(2,0)translate(2,0)translate(2,0)translate(2,0)translate(2,0)translate(2,0)translate(2,0)translate(2,0)translate(2,0)translate(2,0)translate(2,0)translate(2,0)translate(2,0)translate(2,0)\">\n",
       "<circle cx=\"110\" cy=\"10\" r=\"2\" />\n",
       "<circle cx=\"40\" cy=\"10\" r=\"2\" />\n",
       "<path d=\"M40,50 L110,10\" />\n",
       "<path d=\"M110,50 L40,10\" />\n",
       "</g>\n",
       "<path d=\"M40,50 C110,10,40,10,110,50\" stroke=\"black\" fill=\"none\" stroke-width=\"3\" transform=\"translate(3,0)translate(3,0)translate(3,0)translate(3,0)translate(3,0)translate(3,0)translate(3,0)translate(3,0)translate(3,0)translate(3,0)translate(3,0)translate(3,0)translate(3,0)translate(3,0)translate(3,0)translate(3,0)translate(3,0)translate(3,0)translate(3,0)translate(3,0)translate(3,0)translate(3,0)translate(3,0)translate(3,0)translate(3,0)translate(3,0)translate(3,0)translate(3,0)translate(3,0)translate(3,0)translate(3,0)translate(3,0)translate(3,0)translate(3,0)translate(3,0)translate(3,0)translate(3,0)translate(3,0)translate(3,0)translate(3,0)translate(3,0)translate(3,0)translate(3,0)translate(3,0)translate(3,0)translate(3,0)translate(3,0)translate(3,0)translate(3,0)translate(3,0)translate(3,0)translate(3,0)translate(3,0)translate(3,0)translate(3,0)translate(3,0)translate(3,0)translate(3,0)translate(3,0)translate(3,0)translate(3,0)translate(3,0)translate(3,0)translate(3,0)translate(3,0)translate(3,0)translate(3,0)translate(3,0)translate(3,0)translate(3,0)translate(3,0)translate(3,0)translate(3,0)translate(3,0)translate(3,0)translate(3,0)translate(3,0)translate(3,0)translate(3,0)translate(3,0)translate(3,0)translate(3,0)translate(3,0)translate(3,0)translate(3,0)translate(3,0)translate(3,0)translate(3,0)translate(3,0)translate(3,0)translate(3,0)translate(3,0)translate(3,0)translate(3,0)translate(3,0)translate(3,0)translate(3,0)translate(3,0)translate(3,0)translate(3,0)\" />\n",
       "<g stroke=\"gray\" fill=\"gray\" stroke-width=\"1\" transform=\"translate(3,0)translate(3,0)translate(3,0)translate(3,0)translate(3,0)translate(3,0)translate(3,0)translate(3,0)translate(3,0)translate(3,0)translate(3,0)translate(3,0)translate(3,0)translate(3,0)translate(3,0)translate(3,0)translate(3,0)translate(3,0)translate(3,0)translate(3,0)translate(3,0)translate(3,0)translate(3,0)translate(3,0)translate(3,0)translate(3,0)translate(3,0)translate(3,0)translate(3,0)translate(3,0)translate(3,0)translate(3,0)translate(3,0)translate(3,0)translate(3,0)translate(3,0)translate(3,0)translate(3,0)translate(3,0)translate(3,0)translate(3,0)translate(3,0)translate(3,0)translate(3,0)translate(3,0)translate(3,0)translate(3,0)translate(3,0)translate(3,0)translate(3,0)translate(3,0)translate(3,0)translate(3,0)translate(3,0)translate(3,0)translate(3,0)translate(3,0)translate(3,0)translate(3,0)translate(3,0)translate(3,0)translate(3,0)translate(3,0)translate(3,0)translate(3,0)translate(3,0)translate(3,0)translate(3,0)translate(3,0)translate(3,0)translate(3,0)translate(3,0)translate(3,0)translate(3,0)translate(3,0)translate(3,0)translate(3,0)translate(3,0)translate(3,0)translate(3,0)translate(3,0)translate(3,0)translate(3,0)translate(3,0)translate(3,0)translate(3,0)translate(3,0)translate(3,0)translate(3,0)translate(3,0)translate(3,0)translate(3,0)translate(3,0)translate(3,0)translate(3,0)translate(3,0)translate(3,0)translate(3,0)translate(3,0)translate(3,0)\">\n",
       "<circle cx=\"110\" cy=\"10\" r=\"2\" />\n",
       "<circle cx=\"40\" cy=\"10\" r=\"2\" />\n",
       "<path d=\"M40,50 L110,10\" />\n",
       "<path d=\"M110,50 L40,10\" />\n",
       "</g>\n",
       "<path d=\"M40,50 C60,10,90,90,110,50\" stroke=\"black\" fill=\"none\" stroke-width=\"3\" transform=\"translate(4,0)translate(4,0)translate(4,0)translate(4,0)translate(4,0)translate(4,0)translate(4,0)translate(4,0)translate(4,0)translate(4,0)translate(4,0)translate(4,0)translate(4,0)translate(4,0)translate(4,0)translate(4,0)translate(4,0)translate(4,0)translate(4,0)translate(4,0)translate(4,0)translate(4,0)translate(4,0)translate(4,0)translate(4,0)translate(4,0)translate(4,0)translate(4,0)translate(4,0)translate(4,0)translate(4,0)translate(4,0)translate(4,0)translate(4,0)translate(4,0)translate(4,0)translate(4,0)translate(4,0)translate(4,0)translate(4,0)translate(4,0)translate(4,0)translate(4,0)translate(4,0)translate(4,0)translate(4,0)translate(4,0)translate(4,0)translate(4,0)translate(4,0)translate(4,0)translate(4,0)translate(4,0)translate(4,0)translate(4,0)translate(4,0)translate(4,0)translate(4,0)translate(4,0)translate(4,0)translate(4,0)translate(4,0)translate(4,0)translate(4,0)translate(4,0)translate(4,0)translate(4,0)translate(4,0)translate(4,0)translate(4,0)translate(4,0)translate(4,0)translate(4,0)translate(4,0)translate(4,0)translate(4,0)translate(4,0)translate(4,0)translate(4,0)translate(4,0)translate(4,0)translate(4,0)translate(4,0)translate(4,0)translate(4,0)translate(4,0)translate(4,0)translate(4,0)translate(4,0)translate(4,0)translate(4,0)translate(4,0)translate(4,0)translate(4,0)translate(4,0)translate(4,0)translate(4,0)translate(4,0)translate(4,0)translate(4,0)\" />\n",
       "<g stroke=\"gray\" fill=\"gray\" stroke-width=\"1\" transform=\"translate(4,0)translate(4,0)translate(4,0)translate(4,0)translate(4,0)translate(4,0)translate(4,0)translate(4,0)translate(4,0)translate(4,0)translate(4,0)translate(4,0)translate(4,0)translate(4,0)translate(4,0)translate(4,0)translate(4,0)translate(4,0)translate(4,0)translate(4,0)translate(4,0)translate(4,0)translate(4,0)translate(4,0)translate(4,0)translate(4,0)translate(4,0)translate(4,0)translate(4,0)translate(4,0)translate(4,0)translate(4,0)translate(4,0)translate(4,0)translate(4,0)translate(4,0)translate(4,0)translate(4,0)translate(4,0)translate(4,0)translate(4,0)translate(4,0)translate(4,0)translate(4,0)translate(4,0)translate(4,0)translate(4,0)translate(4,0)translate(4,0)translate(4,0)translate(4,0)translate(4,0)translate(4,0)translate(4,0)translate(4,0)translate(4,0)translate(4,0)translate(4,0)translate(4,0)translate(4,0)translate(4,0)translate(4,0)translate(4,0)translate(4,0)translate(4,0)translate(4,0)translate(4,0)translate(4,0)translate(4,0)translate(4,0)translate(4,0)translate(4,0)translate(4,0)translate(4,0)translate(4,0)translate(4,0)translate(4,0)translate(4,0)translate(4,0)translate(4,0)translate(4,0)translate(4,0)translate(4,0)translate(4,0)translate(4,0)translate(4,0)translate(4,0)translate(4,0)translate(4,0)translate(4,0)translate(4,0)translate(4,0)translate(4,0)translate(4,0)translate(4,0)translate(4,0)translate(4,0)translate(4,0)translate(4,0)translate(4,0)\">\n",
       "<circle cx=\"60\" cy=\"10\" r=\"2\" />\n",
       "<circle cx=\"90\" cy=\"90\" r=\"2\" />\n",
       "<path d=\"M40,50 L60,10\" />\n",
       "<path d=\"M110,50 L90,90\" />\n",
       "</g>\n",
       "<path d=\"M40,50 C110,10,40,90,110,50\" stroke=\"black\" fill=\"none\" stroke-width=\"3\" transform=\"translate(5,0)translate(5,0)translate(5,0)translate(5,0)translate(5,0)translate(5,0)translate(5,0)translate(5,0)translate(5,0)translate(5,0)translate(5,0)translate(5,0)translate(5,0)translate(5,0)translate(5,0)translate(5,0)translate(5,0)translate(5,0)translate(5,0)translate(5,0)translate(5,0)translate(5,0)translate(5,0)translate(5,0)translate(5,0)translate(5,0)translate(5,0)translate(5,0)translate(5,0)translate(5,0)translate(5,0)translate(5,0)translate(5,0)translate(5,0)translate(5,0)translate(5,0)translate(5,0)translate(5,0)translate(5,0)translate(5,0)translate(5,0)translate(5,0)translate(5,0)translate(5,0)translate(5,0)translate(5,0)translate(5,0)translate(5,0)translate(5,0)translate(5,0)translate(5,0)translate(5,0)translate(5,0)translate(5,0)translate(5,0)translate(5,0)translate(5,0)translate(5,0)translate(5,0)translate(5,0)translate(5,0)translate(5,0)translate(5,0)translate(5,0)translate(5,0)translate(5,0)translate(5,0)translate(5,0)translate(5,0)translate(5,0)translate(5,0)translate(5,0)translate(5,0)translate(5,0)translate(5,0)translate(5,0)translate(5,0)translate(5,0)translate(5,0)translate(5,0)translate(5,0)translate(5,0)translate(5,0)translate(5,0)translate(5,0)translate(5,0)translate(5,0)translate(5,0)translate(5,0)translate(5,0)translate(5,0)translate(5,0)translate(5,0)translate(5,0)translate(5,0)translate(5,0)translate(5,0)translate(5,0)translate(5,0)translate(5,0)\" />\n",
       "<g stroke=\"gray\" fill=\"gray\" stroke-width=\"1\" transform=\"translate(5,0)translate(5,0)translate(5,0)translate(5,0)translate(5,0)translate(5,0)translate(5,0)translate(5,0)translate(5,0)translate(5,0)translate(5,0)translate(5,0)translate(5,0)translate(5,0)translate(5,0)translate(5,0)translate(5,0)translate(5,0)translate(5,0)translate(5,0)translate(5,0)translate(5,0)translate(5,0)translate(5,0)translate(5,0)translate(5,0)translate(5,0)translate(5,0)translate(5,0)translate(5,0)translate(5,0)translate(5,0)translate(5,0)translate(5,0)translate(5,0)translate(5,0)translate(5,0)translate(5,0)translate(5,0)translate(5,0)translate(5,0)translate(5,0)translate(5,0)translate(5,0)translate(5,0)translate(5,0)translate(5,0)translate(5,0)translate(5,0)translate(5,0)translate(5,0)translate(5,0)translate(5,0)translate(5,0)translate(5,0)translate(5,0)translate(5,0)translate(5,0)translate(5,0)translate(5,0)translate(5,0)translate(5,0)translate(5,0)translate(5,0)translate(5,0)translate(5,0)translate(5,0)translate(5,0)translate(5,0)translate(5,0)translate(5,0)translate(5,0)translate(5,0)translate(5,0)translate(5,0)translate(5,0)translate(5,0)translate(5,0)translate(5,0)translate(5,0)translate(5,0)translate(5,0)translate(5,0)translate(5,0)translate(5,0)translate(5,0)translate(5,0)translate(5,0)translate(5,0)translate(5,0)translate(5,0)translate(5,0)translate(5,0)translate(5,0)translate(5,0)translate(5,0)translate(5,0)translate(5,0)translate(5,0)translate(5,0)\">\n",
       "<circle cx=\"110\" cy=\"10\" r=\"2\" />\n",
       "<circle cx=\"40\" cy=\"90\" r=\"2\" />\n",
       "<path d=\"M40,50 L110,10\" />\n",
       "<path d=\"M110,50 L40,90\" />\n",
       "</g>\n",
       "</svg>"
      ],
      "text/plain": [
       "<drawsvg.drawing.Drawing at 0x7fc4cbd18340>"
      ]
     },
     "execution_count": 13,
     "metadata": {},
     "output_type": "execute_result"
    }
   ],
   "source": [
    "d = dw.Drawing(650,100)\n",
    "pnt_1 = (40,50)\n",
    "pnt_2 = (110,50)\n",
    "ctl_1_x = (10,60,110,110,60,110)\n",
    "ctls_2 = ((140,10),(90,10),(40,10),(40,10),(90,90),(40,90))\n",
    "\n",
    "for i in range(6):\n",
    "    trans = 'translate(%d,0)' % i*100\n",
    "    p = dw.Path(stroke='black',fill='none',stroke_width=3,transform=trans)\n",
    "    ctl_1 = (ctl_1_x[i],10)\n",
    "    ctl_2 = ctls_2[i]\n",
    "    p.M(*pnt_1)\n",
    "    p.C(*ctl_1,*ctl_2,*pnt_2)\n",
    "    d.append(p)\n",
    "    g = dw.Group(stroke='gray',fill='gray',stroke_width=1,transform=trans)\n",
    "    g.append(dw.Circle(*ctl_1,2))\n",
    "    g.append(dw.Circle(*ctl_2,2))\n",
    "    g.append(dw.Line(*pnt_1,*ctl_1))\n",
    "    g.append(dw.Line(*pnt_2,*ctl_2))\n",
    "    d.append(g)\n",
    "\n",
    "d"
   ]
  },
  {
   "cell_type": "markdown",
   "id": "smoking-waste",
   "metadata": {},
   "source": [
    "Cubic Bézier with several segments"
   ]
  },
  {
   "cell_type": "code",
   "execution_count": 14,
   "id": "employed-unknown",
   "metadata": {},
   "outputs": [
    {
     "data": {
      "image/svg+xml": [
       "<?xml version=\"1.0\" encoding=\"UTF-8\"?>\n",
       "<svg xmlns=\"http://www.w3.org/2000/svg\" xmlns:xlink=\"http://www.w3.org/1999/xlink\"\n",
       "    width=\"150\" height=\"156\" viewBox=\"0 0 150 156\">\n",
       "<defs>\n",
       "</defs>\n",
       "<path d=\"M30,100 C50,50,70,20,100,100 C110,130,45,150,65,100\" stroke=\"black\" fill=\"none\" stroke-width=\"3\" />\n",
       "<g stroke=\"gray\" fill=\"gray\" stroke-width=\"1\">\n",
       "<path d=\"M30,100 L50,50\" />\n",
       "<path d=\"M100,100 L70,20\" />\n",
       "<path d=\"M100,100 L110,130\" />\n",
       "<path d=\"M65,100 L45,150\" />\n",
       "</g>\n",
       "<circle cx=\"30\" cy=\"100\" r=\"4\" />\n",
       "<circle cx=\"100\" cy=\"100\" r=\"4\" />\n",
       "<circle cx=\"65\" cy=\"100\" r=\"4\" />\n",
       "<circle cx=\"50\" cy=\"50\" r=\"2\" stroke=\"gray\" fill=\"gray\" />\n",
       "<circle cx=\"70\" cy=\"20\" r=\"2\" stroke=\"gray\" fill=\"gray\" />\n",
       "<circle cx=\"110\" cy=\"130\" r=\"2\" stroke=\"gray\" fill=\"gray\" />\n",
       "<circle cx=\"45\" cy=\"150\" r=\"2\" stroke=\"gray\" fill=\"gray\" />\n",
       "</svg>"
      ],
      "text/plain": [
       "<drawsvg.drawing.Drawing at 0x7fc4cbd18ee0>"
      ]
     },
     "execution_count": 14,
     "metadata": {},
     "output_type": "execute_result"
    }
   ],
   "source": [
    "d = dw.Drawing(150,156)\n",
    "pnt_1 = (30,100)\n",
    "pnt_2 = (100,100)\n",
    "pnt_3 = (65,100)\n",
    "ctl_1 = (50,50)\n",
    "ctl_2 = (70,20)\n",
    "ctl_3 = (110,130)\n",
    "ctl_4 = (45,150)\n",
    "\n",
    "p = dw.Path(stroke='black',fill='none',stroke_width=3)\n",
    "p.M(*pnt_1)\n",
    "p.C(*ctl_1,*ctl_2,*pnt_2)\n",
    "p.C(*ctl_3,*ctl_4,*pnt_3)\n",
    "d.append(p)\n",
    "\n",
    "g = dw.Group(stroke='gray',fill='gray',stroke_width=1)\n",
    "g.append(dw.Line(*pnt_1,*ctl_1))\n",
    "g.append(dw.Line(*pnt_2,*ctl_2))\n",
    "g.append(dw.Line(*pnt_2,*ctl_3))\n",
    "g.append(dw.Line(*pnt_3,*ctl_4))\n",
    "d.append(g)\n",
    "\n",
    "for pnt in (pnt_1,pnt_2,pnt_3):\n",
    "    d.append(dw.Circle(*pnt,4))\n",
    "\n",
    "for ctl in (ctl_1,ctl_2,ctl_3,ctl_4):\n",
    "    d.append(dw.Circle(*ctl,2,stroke='gray',fill='gray'))\n",
    "\n",
    "d"
   ]
  },
  {
   "cell_type": "markdown",
   "id": "stable-agreement",
   "metadata": {},
   "source": [
    "Smooth transition between curve segments is done via the `S` command (in analogy to the T command for quadratic curves. The first control point of the next segment will be constructed as reflection of the previous ending control point."
   ]
  },
  {
   "cell_type": "code",
   "execution_count": 15,
   "id": "adverse-quantity",
   "metadata": {},
   "outputs": [
    {
     "data": {
      "image/svg+xml": [
       "<?xml version=\"1.0\" encoding=\"UTF-8\"?>\n",
       "<svg xmlns=\"http://www.w3.org/2000/svg\" xmlns:xlink=\"http://www.w3.org/1999/xlink\"\n",
       "    width=\"250\" height=\"150\" viewBox=\"0 0 250 150\">\n",
       "<defs>\n",
       "</defs>\n",
       "<path d=\"M30,100 C50,30,70,50,100,100 S150,40,200,80\" stroke=\"black\" fill=\"none\" stroke-width=\"3\" />\n",
       "<circle cx=\"30\" cy=\"100\" r=\"4\" />\n",
       "<circle cx=\"50\" cy=\"30\" r=\"2\" stroke=\"gray\" fill=\"gray\" />\n",
       "<path d=\"M30,100 L50,30\" stroke=\"gray\" />\n",
       "<circle cx=\"100\" cy=\"100\" r=\"4\" />\n",
       "<circle cx=\"70\" cy=\"50\" r=\"2\" stroke=\"gray\" fill=\"gray\" />\n",
       "<path d=\"M100,100 L70,50\" stroke=\"gray\" />\n",
       "<circle cx=\"200\" cy=\"80\" r=\"4\" />\n",
       "<circle cx=\"150\" cy=\"40\" r=\"2\" stroke=\"gray\" fill=\"gray\" />\n",
       "<path d=\"M200,80 L150,40\" stroke=\"gray\" />\n",
       "</svg>"
      ],
      "text/plain": [
       "<drawsvg.drawing.Drawing at 0x7fc4c83b4520>"
      ]
     },
     "execution_count": 15,
     "metadata": {},
     "output_type": "execute_result"
    }
   ],
   "source": [
    "d = dw.Drawing(250,150)\n",
    "pnt_1 = (30,100)\n",
    "pnt_2 = (100,100)\n",
    "pnt_3 = (200,80)\n",
    "ctl_1 = (50,30)\n",
    "ctl_2 = (70,50)\n",
    "ctl_3 = (150,40)\n",
    "\n",
    "p = dw.Path(stroke='black',fill='none',stroke_width=3)\n",
    "p.M(*pnt_1)\n",
    "p.C(*ctl_1,*ctl_2,*pnt_2)\n",
    "p.S(*ctl_3,*pnt_3)\n",
    "d.append(p)\n",
    "\n",
    "for pnt,ctl in zip((pnt_1,pnt_2,pnt_3),(ctl_1,ctl_2,ctl_3)):\n",
    "    d.append(dw.Circle(*pnt,4))\n",
    "    d.append(dw.Circle(*ctl,2,stroke='gray',fill='gray'))\n",
    "    d.append(dw.Line(*pnt,*ctl,stroke='gray'))\n",
    "\n",
    "d"
   ]
  },
  {
   "cell_type": "markdown",
   "id": "heated-writing",
   "metadata": {},
   "source": [
    "## 6.9 The `marker` Element HOWTO??"
   ]
  },
  {
   "cell_type": "code",
   "execution_count": 16,
   "id": "coral-revision",
   "metadata": {},
   "outputs": [
    {
     "data": {
      "image/svg+xml": [
       "<?xml version=\"1.0\" encoding=\"UTF-8\"?>\n",
       "<svg xmlns=\"http://www.w3.org/2000/svg\" xmlns:xlink=\"http://www.w3.org/1999/xlink\"\n",
       "    width=\"150\" height=\"150\" viewBox=\"0 0 150 150\" stroke=\"black\" fill=\"none\">\n",
       "<defs>\n",
       "</defs>\n",
       "<path d=\"M10,130 L100,130 A20,30,0,0,1,120,100 L120,40\" />\n",
       "</svg>"
      ],
      "text/plain": [
       "<drawsvg.drawing.Drawing at 0x7fc4c82e15b0>"
      ]
     },
     "execution_count": 16,
     "metadata": {},
     "output_type": "execute_result"
    }
   ],
   "source": [
    "d = dw.Drawing(150,150,stroke='black',fill='none')\n",
    "\n",
    "# line as path\n",
    "p = dw.Path()\n",
    "p.M(10,130)\n",
    "p.L(100,130)\n",
    "p.A(20,30,0,0,1,120,100)\n",
    "p.L(120,40)\n",
    "\n",
    "# circle at beginning\n",
    "\n",
    "d.append(p)\n",
    "d"
   ]
  },
  {
   "cell_type": "code",
   "execution_count": null,
   "id": "distributed-corps",
   "metadata": {},
   "outputs": [],
   "source": []
  }
 ],
 "metadata": {
  "kernelspec": {
   "display_name": "Python 3",
   "language": "python",
   "name": "python3"
  },
  "language_info": {
   "codemirror_mode": {
    "name": "ipython",
    "version": 3
   },
   "file_extension": ".py",
   "mimetype": "text/x-python",
   "name": "python",
   "nbconvert_exporter": "python",
   "pygments_lexer": "ipython3",
   "version": "3.9.2"
  }
 },
 "nbformat": 4,
 "nbformat_minor": 5
}
