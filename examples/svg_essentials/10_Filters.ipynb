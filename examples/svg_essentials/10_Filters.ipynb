{
 "cells": [
  {
   "cell_type": "markdown",
   "id": "signal-shoot",
   "metadata": {},
   "source": [
    "# 10. Filters"
   ]
  },
  {
   "cell_type": "code",
   "execution_count": 1,
   "id": "visible-disney",
   "metadata": {},
   "outputs": [],
   "source": [
    "import drawsvg as dw"
   ]
  },
  {
   "cell_type": "markdown",
   "id": "rolled-privilege",
   "metadata": {},
   "source": [
    "## 10.2 Creating a drop shadow"
   ]
  },
  {
   "cell_type": "code",
   "execution_count": 3,
   "id": "first-duration",
   "metadata": {
    "scrolled": true
   },
   "outputs": [
    {
     "name": "stdout",
     "output_type": "stream",
     "text": [
      "<?xml version=\"1.0\" encoding=\"UTF-8\"?>\n",
      "<svg xmlns=\"http://www.w3.org/2000/svg\" xmlns:xlink=\"http://www.w3.org/1999/xlink\"\n",
      "    width=\"200\" height=\"200\" viewBox=\"0 0 200 200\" idPrefix=\"filter1\">\n",
      "<defs>\n",
      "<filter id=\"d0\">\n",
      "<feGaussianBlur></feGaussianBlur>\n",
      "</filter>\n",
      "<circle cx=\"0\" cy=\"0\" r=\"50\" fill=\"yellow\" id=\"d1\" />\n",
      "</defs>\n",
      "<use xlink:href=\"#d0\" />\n",
      "<use xlink:href=\"#d1\" x=\"50\" y=\"50\" />\n",
      "</svg>\n"
     ]
    },
    {
     "data": {
      "image/svg+xml": [
       "<?xml version=\"1.0\" encoding=\"UTF-8\"?>\n",
       "<svg xmlns=\"http://www.w3.org/2000/svg\" xmlns:xlink=\"http://www.w3.org/1999/xlink\"\n",
       "    width=\"200\" height=\"200\" viewBox=\"0 0 200 200\" idPrefix=\"filter1\">\n",
       "<defs>\n",
       "<filter id=\"Lip2eKpR0\">\n",
       "<feGaussianBlur></feGaussianBlur>\n",
       "</filter>\n",
       "<circle cx=\"0\" cy=\"0\" r=\"50\" fill=\"yellow\" id=\"Lip2eKpR1\" />\n",
       "</defs>\n",
       "<use xlink:href=\"#Lip2eKpR0\" />\n",
       "<use xlink:href=\"#Lip2eKpR1\" x=\"50\" y=\"50\" />\n",
       "</svg>"
      ],
      "text/plain": [
       "<drawsvg.drawing.Drawing at 0x7f0d600e74c0>"
      ]
     },
     "execution_count": 3,
     "metadata": {},
     "output_type": "execute_result"
    }
   ],
   "source": [
    "d = dw.Drawing(200,200,idPrefix='filter1')\n",
    "\n",
    "circle = dw.Circle(0,0,50,fill='yellow')\n",
    "\n",
    "filt = dw.Filter()\n",
    "filt.append(dw.FilterItem('feGaussianBlur'))\n",
    "d.append(filt)\n",
    "\n",
    "d.append(dw.Use(circle,50,50))\n",
    "\n",
    "print(d.as_svg())\n",
    "d"
   ]
  },
  {
   "cell_type": "markdown",
   "id": "mexican-session",
   "metadata": {},
   "source": [
    "HOW TO USE THE FILTER CLASS??"
   ]
  },
  {
   "cell_type": "code",
   "execution_count": 4,
   "id": "least-liberty",
   "metadata": {},
   "outputs": [
    {
     "name": "stdout",
     "output_type": "stream",
     "text": [
      "Help on class FilterItem in module drawsvg.defs:\n",
      "\n",
      "class FilterItem(DrawingDefSub)\n",
      " |  FilterItem(tag_name, **args)\n",
      " |  \n",
      " |  A child of Filter with any tag name.\n",
      " |  \n",
      " |  Method resolution order:\n",
      " |      FilterItem\n",
      " |      DrawingDefSub\n",
      " |      drawsvg.types.DrawingParentElement\n",
      " |      drawsvg.types.DrawingBasicElement\n",
      " |      drawsvg.types.DrawingElement\n",
      " |      builtins.object\n",
      " |  \n",
      " |  Methods defined here:\n",
      " |  \n",
      " |  __init__(self, tag_name, **args)\n",
      " |      Initialize self.  See help(type(self)) for accurate signature.\n",
      " |  \n",
      " |  ----------------------------------------------------------------------\n",
      " |  Methods inherited from drawsvg.types.DrawingParentElement:\n",
      " |  \n",
      " |  append(self, element, *, z=None)\n",
      " |  \n",
      " |  draw(self, obj, *, z=None, **kwargs)\n",
      " |  \n",
      " |  extend(self, iterable, *, z=None)\n",
      " |  \n",
      " |  write_content(self, id_map, is_duplicate, output_file, lcontext, dry_run)\n",
      " |      Override in a subclass to add data between the start and end tags.\n",
      " |      \n",
      " |      This will not be called if has_content is False.\n",
      " |  \n",
      " |  ----------------------------------------------------------------------\n",
      " |  Data and other attributes inherited from drawsvg.types.DrawingParentElement:\n",
      " |  \n",
      " |  has_content = True\n",
      " |  \n",
      " |  ----------------------------------------------------------------------\n",
      " |  Methods inherited from drawsvg.types.DrawingBasicElement:\n",
      " |  \n",
      " |  __eq__(self, other)\n",
      " |      Return self==value.\n",
      " |  \n",
      " |  add_attribute_key_sequence(self, attr, times, values, *, animation_args=None)\n",
      " |  \n",
      " |  add_key_frame(self, time, animation_args=None, **attr_values)\n",
      " |  \n",
      " |  all_children(self, lcontext=None)\n",
      " |      Return self.children and self.ordered_children as a single list.\n",
      " |  \n",
      " |  append_anim(self, animate_element)\n",
      " |  \n",
      " |  append_title(self, text, **kwargs)\n",
      " |  \n",
      " |  check_children_allowed(self)\n",
      " |  \n",
      " |  extend_anim(self, animate_iterable)\n",
      " |  \n",
      " |  extra_children_with_context(self, lcontext=None)\n",
      " |  \n",
      " |  get_svg_defs(self)\n",
      " |  \n",
      " |  write_children_content(self, id_map, is_duplicate, output_file, lcontext, dry_run)\n",
      " |      Override in a subclass to add data between the start and end tags.\n",
      " |      \n",
      " |      This will not be called if has_content is False.\n",
      " |  \n",
      " |  write_svg_defs(self, id_map, is_duplicate, output_file, lcontext, dry_run)\n",
      " |  \n",
      " |  write_svg_element(self, id_map, is_duplicate, output_file, lcontext, dry_run, force_dup=False)\n",
      " |  \n",
      " |  ----------------------------------------------------------------------\n",
      " |  Readonly properties inherited from drawsvg.types.DrawingBasicElement:\n",
      " |  \n",
      " |  id\n",
      " |  \n",
      " |  ----------------------------------------------------------------------\n",
      " |  Data and other attributes inherited from drawsvg.types.DrawingBasicElement:\n",
      " |  \n",
      " |  TAG_NAME = '_'\n",
      " |  \n",
      " |  __hash__ = None\n",
      " |  \n",
      " |  ----------------------------------------------------------------------\n",
      " |  Methods inherited from drawsvg.types.DrawingElement:\n",
      " |  \n",
      " |  get_linked_elems(self)\n",
      " |  \n",
      " |  ----------------------------------------------------------------------\n",
      " |  Data descriptors inherited from drawsvg.types.DrawingElement:\n",
      " |  \n",
      " |  __dict__\n",
      " |      dictionary for instance variables (if defined)\n",
      " |  \n",
      " |  __weakref__\n",
      " |      list of weak references to the object (if defined)\n",
      "\n"
     ]
    }
   ],
   "source": [
    "help(dw.FilterItem)"
   ]
  },
  {
   "cell_type": "code",
   "execution_count": null,
   "id": "minor-mustang",
   "metadata": {},
   "outputs": [],
   "source": []
  }
 ],
 "metadata": {
  "kernelspec": {
   "display_name": "Python 3",
   "language": "python",
   "name": "python3"
  },
  "language_info": {
   "codemirror_mode": {
    "name": "ipython",
    "version": 3
   },
   "file_extension": ".py",
   "mimetype": "text/x-python",
   "name": "python",
   "nbconvert_exporter": "python",
   "pygments_lexer": "ipython3",
   "version": "3.9.2"
  }
 },
 "nbformat": 4,
 "nbformat_minor": 5
}
