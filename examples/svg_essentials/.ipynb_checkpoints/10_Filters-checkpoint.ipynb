{
 "cells": [
  {
   "cell_type": "markdown",
   "id": "signal-shoot",
   "metadata": {},
   "source": [
    "# 10. Filters"
   ]
  },
  {
   "cell_type": "code",
   "execution_count": 1,
   "id": "visible-disney",
   "metadata": {},
   "outputs": [],
   "source": [
    "import draw2Svg as dw"
   ]
  },
  {
   "cell_type": "markdown",
   "id": "rolled-privilege",
   "metadata": {},
   "source": [
    "## 10.2 Creating a drop shadow"
   ]
  },
  {
   "cell_type": "code",
   "execution_count": 15,
   "id": "first-duration",
   "metadata": {
    "scrolled": true
   },
   "outputs": [
    {
     "name": "stdout",
     "output_type": "stream",
     "text": [
      "<?xml version=\"1.0\" encoding=\"UTF-8\"?>\n",
      "<svg xmlns=\"http://www.w3.org/2000/svg\" xmlns:xlink=\"http://www.w3.org/1999/xlink\"\n",
      "     width=\"200\" height=\"200\" viewBox=\"0 0 200 200\">\n",
      "<defs>\n",
      "<filter id=\"filter10\">\n",
      "<feGaussianBlur />\n",
      "</filter>\n",
      "<circle cx=\"0\" cy=\"0\" r=\"50\" fill=\"yellow\" id=\"filter11\" />\n",
      "</defs>\n",
      "<use xlink:href=\"#filter10\" />\n",
      "<use xlink:href=\"#filter11\" x=\"50\" y=\"50\" />\n",
      "</svg>\n"
     ]
    },
    {
     "data": {
      "image/svg+xml": [
       "<?xml version=\"1.0\" encoding=\"UTF-8\"?>\n",
       "<svg xmlns=\"http://www.w3.org/2000/svg\" xmlns:xlink=\"http://www.w3.org/1999/xlink\"\n",
       "     width=\"200\" height=\"200\" viewBox=\"0 0 200 200\">\n",
       "<defs>\n",
       "<filter id=\"filter10\">\n",
       "<feGaussianBlur id=\"filter12\" />\n",
       "</filter>\n",
       "<circle cx=\"0\" cy=\"0\" r=\"50\" fill=\"yellow\" id=\"filter11\" />\n",
       "</defs>\n",
       "<use xlink:href=\"#filter10\" />\n",
       "<use xlink:href=\"#filter11\" x=\"50\" y=\"50\" />\n",
       "</svg>"
      ],
      "text/plain": [
       "<draw2Svg.drawing.Drawing at 0x7f67f35a0370>"
      ]
     },
     "execution_count": 15,
     "metadata": {},
     "output_type": "execute_result"
    }
   ],
   "source": [
    "d = dw.Drawing(200,200,idPrefix='filter1')\n",
    "\n",
    "circle = dw.Circle(0,0,50,fill='yellow')\n",
    "\n",
    "filt = dw.Filter()\n",
    "filt.append(dw.FilterItem('feGaussianBlur'))\n",
    "d.append(filt)\n",
    "\n",
    "d.append(dw.Use(circle,50,50))\n",
    "\n",
    "print(d.asSvg())\n",
    "d"
   ]
  },
  {
   "cell_type": "markdown",
   "id": "mexican-session",
   "metadata": {},
   "source": [
    "HOW TO USE THE FILTER CLASS??"
   ]
  },
  {
   "cell_type": "code",
   "execution_count": 3,
   "id": "least-liberty",
   "metadata": {},
   "outputs": [
    {
     "name": "stdout",
     "output_type": "stream",
     "text": [
      "Help on class FilterItem in module draw2Svg.defs:\n",
      "\n",
      "class FilterItem(DrawingDefSub)\n",
      " |  FilterItem(tag_name, **args)\n",
      " |  \n",
      " |  A child of Filter with any tag name\n",
      " |  \n",
      " |  Method resolution order:\n",
      " |      FilterItem\n",
      " |      DrawingDefSub\n",
      " |      draw2Svg.elements.DrawingParentElement\n",
      " |      draw2Svg.elements.DrawingBasicElement\n",
      " |      draw2Svg.elements.DrawingElement\n",
      " |      builtins.object\n",
      " |  \n",
      " |  Methods defined here:\n",
      " |  \n",
      " |  __init__(self, tag_name, **args)\n",
      " |      Initialize self.  See help(type(self)) for accurate signature.\n",
      " |  \n",
      " |  ----------------------------------------------------------------------\n",
      " |  Data and other attributes defined here:\n",
      " |  \n",
      " |  hasContent = False\n",
      " |  \n",
      " |  ----------------------------------------------------------------------\n",
      " |  Methods inherited from draw2Svg.elements.DrawingParentElement:\n",
      " |  \n",
      " |  append(self, element, *, z=None)\n",
      " |  \n",
      " |  draw(self, obj, *, z=None, **kwargs)\n",
      " |  \n",
      " |  extend(self, iterable, *, z=None)\n",
      " |  \n",
      " |  writeContent(self, idGen, isDuplicate, outputFile, dryRun)\n",
      " |      Override in a subclass to add data between the start and end\n",
      " |      tags.  This will not be called if hasContent is False.\n",
      " |  \n",
      " |  ----------------------------------------------------------------------\n",
      " |  Methods inherited from draw2Svg.elements.DrawingBasicElement:\n",
      " |  \n",
      " |  __eq__(self, other)\n",
      " |      Return self==value.\n",
      " |  \n",
      " |  allChildren(self)\n",
      " |      Returns self.children and self.orderedChildren as a single list.\n",
      " |  \n",
      " |  appendAnim(self, animateElement)\n",
      " |  \n",
      " |  appendTitle(self, text, **kwargs)\n",
      " |  \n",
      " |  checkChildrenAllowed(self)\n",
      " |  \n",
      " |  extendAnim(self, animateIterable)\n",
      " |  \n",
      " |  getSvgDefs(self)\n",
      " |  \n",
      " |  writeChildrenContent(self, idGen, isDuplicate, outputFile, dryRun)\n",
      " |      Override in a subclass to add data between the start and end\n",
      " |      tags.  This will not be called if hasContent is False.\n",
      " |  \n",
      " |  writeSvgDefs(self, idGen, isDuplicate, outputFile, dryRun)\n",
      " |  \n",
      " |  writeSvgElement(self, idGen, isDuplicate, outputFile, dryRun, forceDup=False)\n",
      " |  \n",
      " |  ----------------------------------------------------------------------\n",
      " |  Data descriptors inherited from draw2Svg.elements.DrawingBasicElement:\n",
      " |  \n",
      " |  id\n",
      " |  \n",
      " |  ----------------------------------------------------------------------\n",
      " |  Data and other attributes inherited from draw2Svg.elements.DrawingBasicElement:\n",
      " |  \n",
      " |  TAG_NAME = '_'\n",
      " |  \n",
      " |  __hash__ = None\n",
      " |  \n",
      " |  ----------------------------------------------------------------------\n",
      " |  Methods inherited from draw2Svg.elements.DrawingElement:\n",
      " |  \n",
      " |  getLinkedElems(self)\n",
      " |  \n",
      " |  ----------------------------------------------------------------------\n",
      " |  Data descriptors inherited from draw2Svg.elements.DrawingElement:\n",
      " |  \n",
      " |  __dict__\n",
      " |      dictionary for instance variables (if defined)\n",
      " |  \n",
      " |  __weakref__\n",
      " |      list of weak references to the object (if defined)\n",
      "\n"
     ]
    }
   ],
   "source": [
    "help(dw.FilterItem)"
   ]
  },
  {
   "cell_type": "code",
   "execution_count": null,
   "id": "minor-mustang",
   "metadata": {},
   "outputs": [],
   "source": []
  }
 ],
 "metadata": {
  "kernelspec": {
   "display_name": "Python 3",
   "language": "python",
   "name": "python3"
  },
  "language_info": {
   "codemirror_mode": {
    "name": "ipython",
    "version": 3
   },
   "file_extension": ".py",
   "mimetype": "text/x-python",
   "name": "python",
   "nbconvert_exporter": "python",
   "pygments_lexer": "ipython3",
   "version": "3.9.2"
  }
 },
 "nbformat": 4,
 "nbformat_minor": 5
}
