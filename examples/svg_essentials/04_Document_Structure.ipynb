{
 "cells": [
  {
   "cell_type": "markdown",
   "id": "surrounded-carpet",
   "metadata": {},
   "source": [
    "# 4. Document Structure"
   ]
  },
  {
   "cell_type": "code",
   "execution_count": 1,
   "id": "bacterial-geology",
   "metadata": {},
   "outputs": [],
   "source": [
    "import drawsvg as dw"
   ]
  },
  {
   "cell_type": "markdown",
   "id": "played-missouri",
   "metadata": {},
   "source": [
    "## 4.1. Structure and Presentation"
   ]
  },
  {
   "cell_type": "markdown",
   "id": "proved-improvement",
   "metadata": {},
   "source": [
    "## 4.2 Using Styles with SVG"
   ]
  },
  {
   "cell_type": "markdown",
   "id": "christian-saudi",
   "metadata": {},
   "source": [
    "### 4.2.2 Inline Style Sheets"
   ]
  },
  {
   "cell_type": "code",
   "execution_count": 4,
   "id": "limited-cleaners",
   "metadata": {},
   "outputs": [
    {
     "name": "stdout",
     "output_type": "stream",
     "text": [
      "<?xml version=\"1.0\" encoding=\"UTF-8\"?>\n",
      "<svg xmlns=\"http://www.w3.org/2000/svg\" xmlns:xlink=\"http://www.w3.org/1999/xlink\"\n",
      "    width=\"200\" height=\"100\" viewBox=\"0 0 200 100\">\n",
      "<defs>\n",
      "<_ fill=\"#ffc\" stroke=\"blue\" stroke-width=\"2\" stroke-dasharray=\"5 3\" id=\"d0\"></_>\n",
      "</defs>\n",
      "<use xlink:href=\"#d0\" />\n",
      "</svg>\n"
     ]
    }
   ],
   "source": [
    "d = dw.Drawing(200,100)\n",
    "d.append(dw.DrawingDef(fill='#ffc',stroke='blue',stroke_width=2,stroke_dasharray='5 3'))\n",
    "print(d.as_svg())\n",
    "d.save_svg('bla.svg')"
   ]
  },
  {
   "cell_type": "markdown",
   "id": "constitutional-plaza",
   "metadata": {},
   "source": [
    "### 4.2.3 External Stylesheets HOWTO??"
   ]
  },
  {
   "cell_type": "code",
   "execution_count": 5,
   "id": "revised-republican",
   "metadata": {},
   "outputs": [
    {
     "ename": "SyntaxError",
     "evalue": "expression cannot contain assignment, perhaps you meant \"==\"? (<ipython-input-5-7078bab58083>, line 2)",
     "output_type": "error",
     "traceback": [
      "\u001b[0;36m  File \u001b[0;32m\"<ipython-input-5-7078bab58083>\"\u001b[0;36m, line \u001b[0;32m2\u001b[0m\n\u001b[0;31m    d.append(dw.Raw(content=None,defs=(stroke='black')))\u001b[0m\n\u001b[0m                                 ^\u001b[0m\n\u001b[0;31mSyntaxError\u001b[0m\u001b[0;31m:\u001b[0m expression cannot contain assignment, perhaps you meant \"==\"?\n"
     ]
    }
   ],
   "source": [
    "d = dw.Drawing(200,200)\n",
    "d.append(dw.Raw(content=None,defs=(stroke='black')))"
   ]
  },
  {
   "cell_type": "markdown",
   "id": "european-partition",
   "metadata": {},
   "source": [
    "## 4.3 Grouping and Referencing Objects"
   ]
  },
  {
   "cell_type": "markdown",
   "id": "human-heath",
   "metadata": {},
   "source": [
    "### 4.3.1 The g Element\n",
    "Any style specified in the g tag will apply to all child elements in the group."
   ]
  },
  {
   "cell_type": "code",
   "execution_count": 6,
   "id": "solid-chess",
   "metadata": {},
   "outputs": [
    {
     "data": {
      "image/svg+xml": [
       "<?xml version=\"1.0\" encoding=\"UTF-8\"?>\n",
       "<svg xmlns=\"http://www.w3.org/2000/svg\" xmlns:xlink=\"http://www.w3.org/1999/xlink\"\n",
       "    width=\"240\" height=\"120\" viewBox=\"0 0 240 120\">\n",
       "<defs>\n",
       "</defs>\n",
       "<g id=\"house\" fill=\"none\" stroke=\"black\">\n",
       "<rect x=\"6\" y=\"50\" width=\"60\" height=\"60\" />\n",
       "<path d=\"M6,50 L36,9 L66,50\" />\n",
       "<path d=\"M36,110 L36,80 L50,80 L50,110\" />\n",
       "</g>\n",
       "<g id=\"man\" fill=\"none\" stroke=\"blue\">\n",
       "<circle cx=\"85\" cy=\"56\" r=\"10\" />\n",
       "<path d=\"M85,66 L85,80\" />\n",
       "<path d=\"M76,104 L85,80 L94,104\" />\n",
       "<path d=\"M76,70 L85,76 L94,70\" />\n",
       "</g>\n",
       "<g id=\"woman\" fill=\"none\" stroke=\"red\">\n",
       "<circle cx=\"110\" cy=\"56\" r=\"10\" />\n",
       "<path d=\"M110,66 L110,80 L100,90 L120,90 L110,80\" />\n",
       "<path d=\"M104,104 L108,90\" />\n",
       "<path d=\"M112,90 L116,104\" />\n",
       "<path d=\"M101,70 L110,76 L119,70\" />\n",
       "</g>\n",
       "</svg>"
      ],
      "text/plain": [
       "<drawsvg.drawing.Drawing at 0x7f6b94ada0a0>"
      ]
     },
     "execution_count": 6,
     "metadata": {},
     "output_type": "execute_result"
    }
   ],
   "source": [
    "d = dw.Drawing(240,120)\n",
    "\n",
    "g_house = dw.Group(id='house',fill='none',stroke='black')\n",
    "g_house.append(dw.Rectangle(6,50,60,60))\n",
    "g_house.append(dw.Lines(6,50,36,9,66,50))\n",
    "g_house.append(dw.Lines(36,110,36,80,50,80,50,110))\n",
    "d.append(g_house)\n",
    "\n",
    "g_man = dw.Group(id='man',fill='none',stroke='blue')\n",
    "g_man.append(dw.Circle(85,56,10))\n",
    "g_man.append(dw.Line(85,66,85,80))\n",
    "g_man.append(dw.Lines(76,104,85,80,94,104))\n",
    "g_man.append(dw.Lines(76,70,85,76,94,70))\n",
    "d.append(g_man)\n",
    "\n",
    "g_woman = dw.Group(id='woman',fill='none',stroke='red')\n",
    "g_woman.append(dw.Circle(110,56,10))\n",
    "g_woman.append(dw.Lines(110,66, 110,80, 100,90, 120,90, 110,80))\n",
    "g_woman.append(dw.Line(104,104,108,90))\n",
    "g_woman.append(dw.Line(112,90,116,104))\n",
    "g_woman.append(dw.Lines(101,70, 110,76, 119,70))\n",
    "d.append(g_woman)\n",
    "\n",
    "d"
   ]
  },
  {
   "cell_type": "markdown",
   "id": "diagnostic-pilot",
   "metadata": {},
   "source": [
    "### 4.3.2 The use Element"
   ]
  },
  {
   "cell_type": "code",
   "execution_count": 7,
   "id": "natural-milan",
   "metadata": {},
   "outputs": [
    {
     "data": {
      "image/svg+xml": [
       "<?xml version=\"1.0\" encoding=\"UTF-8\"?>\n",
       "<svg xmlns=\"http://www.w3.org/2000/svg\" xmlns:xlink=\"http://www.w3.org/1999/xlink\"\n",
       "    width=\"220\" height=\"170\" viewBox=\"0 0 220 170\">\n",
       "<defs>\n",
       "<g id=\"house\" fill=\"none\" stroke=\"black\">\n",
       "<rect x=\"6\" y=\"50\" width=\"60\" height=\"60\" />\n",
       "<path d=\"M6,50 L36,9 L66,50\" />\n",
       "<path d=\"M36,110 L36,80 L50,80 L50,110\" />\n",
       "</g>\n",
       "</defs>\n",
       "<use xlink:href=\"#house\" />\n",
       "<use xlink:href=\"#house\" x=\"100\" y=\"50\" />\n",
       "<use xlink:href=\"#house\" x=\"150\" y=\"20\" />\n",
       "</svg>"
      ],
      "text/plain": [
       "<drawsvg.drawing.Drawing at 0x7f6b9428b220>"
      ]
     },
     "execution_count": 7,
     "metadata": {},
     "output_type": "execute_result"
    }
   ],
   "source": [
    "d = dw.Drawing(220,170)\n",
    "\n",
    "g_house = dw.Group(id='house',fill='none',stroke='black')\n",
    "g_house.append(dw.Rectangle(6,50,60,60))\n",
    "g_house.append(dw.Lines(6,50,36,9,66,50))\n",
    "g_house.append(dw.Lines(36,110,36,80,50,80,50,110))\n",
    "d.append(g_house)\n",
    "\n",
    "# use id which is set\n",
    "d.append(dw.Use('house',100,50))\n",
    "# or use variable name\n",
    "d.append(dw.Use(g_house,150,20))\n",
    "d"
   ]
  },
  {
   "cell_type": "markdown",
   "id": "better-sleep",
   "metadata": {},
   "source": [
    "### 4.3.3 The defs Element  HOWTO??\n",
    "see [https://github.com/cduck/drawSvg/issues/46](https://github.com/cduck/drawSvg/issues/46)"
   ]
  },
  {
   "cell_type": "code",
   "execution_count": 8,
   "id": "intensive-sending",
   "metadata": {},
   "outputs": [
    {
     "ename": "AttributeError",
     "evalue": "'str' object has no attribute 'write_svg_defs'",
     "output_type": "error",
     "traceback": [
      "\u001b[0;31m---------------------------------------------------------------------------\u001b[0m",
      "\u001b[0;31mAttributeError\u001b[0m                            Traceback (most recent call last)",
      "\u001b[0;32m<ipython-input-8-9e43f6cd3b0f>\u001b[0m in \u001b[0;36m<module>\u001b[0;34m\u001b[0m\n\u001b[1;32m      1\u001b[0m \u001b[0md\u001b[0m \u001b[0;34m=\u001b[0m \u001b[0mdw\u001b[0m\u001b[0;34m.\u001b[0m\u001b[0mDrawing\u001b[0m\u001b[0;34m(\u001b[0m\u001b[0;36m200\u001b[0m\u001b[0;34m,\u001b[0m\u001b[0;36m200\u001b[0m\u001b[0;34m)\u001b[0m\u001b[0;34m\u001b[0m\u001b[0;34m\u001b[0m\u001b[0m\n\u001b[1;32m      2\u001b[0m \u001b[0md\u001b[0m\u001b[0;34m.\u001b[0m\u001b[0mappend\u001b[0m\u001b[0;34m(\u001b[0m\u001b[0mdw\u001b[0m\u001b[0;34m.\u001b[0m\u001b[0mDrawingDef\u001b[0m\u001b[0;34m(\u001b[0m\u001b[0;34m'bla'\u001b[0m\u001b[0;34m)\u001b[0m\u001b[0;34m)\u001b[0m\u001b[0;34m\u001b[0m\u001b[0;34m\u001b[0m\u001b[0m\n\u001b[0;32m----> 3\u001b[0;31m \u001b[0mprint\u001b[0m\u001b[0;34m(\u001b[0m\u001b[0md\u001b[0m\u001b[0;34m.\u001b[0m\u001b[0mas_svg\u001b[0m\u001b[0;34m(\u001b[0m\u001b[0;34m)\u001b[0m\u001b[0;34m)\u001b[0m\u001b[0;34m\u001b[0m\u001b[0;34m\u001b[0m\u001b[0m\n\u001b[0m",
      "\u001b[0;32m~/.local/lib/python3.9/site-packages/drawsvg/drawing.py\u001b[0m in \u001b[0;36mas_svg\u001b[0;34m(self, output_file, randomize_ids, header, skip_js, skip_css, context)\u001b[0m\n\u001b[1;32m    203\u001b[0m         \u001b[0;32mif\u001b[0m \u001b[0moutput_file\u001b[0m \u001b[0;32mis\u001b[0m \u001b[0;32mNone\u001b[0m\u001b[0;34m:\u001b[0m\u001b[0;34m\u001b[0m\u001b[0;34m\u001b[0m\u001b[0m\n\u001b[1;32m    204\u001b[0m             \u001b[0;32mwith\u001b[0m \u001b[0mStringIO\u001b[0m\u001b[0;34m(\u001b[0m\u001b[0;34m)\u001b[0m \u001b[0;32mas\u001b[0m \u001b[0mf\u001b[0m\u001b[0;34m:\u001b[0m\u001b[0;34m\u001b[0m\u001b[0;34m\u001b[0m\u001b[0m\n\u001b[0;32m--> 205\u001b[0;31m                 self.as_svg(\n\u001b[0m\u001b[1;32m    206\u001b[0m                         \u001b[0mf\u001b[0m\u001b[0;34m,\u001b[0m \u001b[0mrandomize_ids\u001b[0m\u001b[0;34m=\u001b[0m\u001b[0mrandomize_ids\u001b[0m\u001b[0;34m,\u001b[0m \u001b[0mheader\u001b[0m\u001b[0;34m=\u001b[0m\u001b[0mheader\u001b[0m\u001b[0;34m,\u001b[0m\u001b[0;34m\u001b[0m\u001b[0;34m\u001b[0m\u001b[0m\n\u001b[1;32m    207\u001b[0m                         skip_js=skip_js, skip_css=skip_css, context=context)\n",
      "\u001b[0;32m~/.local/lib/python3.9/site-packages/drawsvg/drawing.py\u001b[0m in \u001b[0;36mas_svg\u001b[0;34m(self, output_file, randomize_ids, header, skip_js, skip_css, context)\u001b[0m\n\u001b[1;32m    253\u001b[0m             \u001b[0;32mif\u001b[0m \u001b[0mhasattr\u001b[0m\u001b[0;34m(\u001b[0m\u001b[0melement\u001b[0m\u001b[0;34m,\u001b[0m \u001b[0;34m'write_svg_defs'\u001b[0m\u001b[0;34m)\u001b[0m\u001b[0;34m:\u001b[0m\u001b[0;34m\u001b[0m\u001b[0;34m\u001b[0m\u001b[0m\n\u001b[1;32m    254\u001b[0m                 \u001b[0mlocal\u001b[0m \u001b[0;34m=\u001b[0m \u001b[0mtypes\u001b[0m\u001b[0;34m.\u001b[0m\u001b[0mLocalContext\u001b[0m\u001b[0;34m(\u001b[0m\u001b[0mcontext\u001b[0m\u001b[0;34m,\u001b[0m \u001b[0melement\u001b[0m\u001b[0;34m,\u001b[0m \u001b[0mself\u001b[0m\u001b[0;34m,\u001b[0m \u001b[0mall_elements\u001b[0m\u001b[0;34m)\u001b[0m\u001b[0;34m\u001b[0m\u001b[0;34m\u001b[0m\u001b[0m\n\u001b[0;32m--> 255\u001b[0;31m                 element.write_svg_defs(\n\u001b[0m\u001b[1;32m    256\u001b[0m                         id_map, is_duplicate, output_file, local, False)\n\u001b[1;32m    257\u001b[0m         \u001b[0moutput_file\u001b[0m\u001b[0;34m.\u001b[0m\u001b[0mwrite\u001b[0m\u001b[0;34m(\u001b[0m\u001b[0;34m'</defs>\\n'\u001b[0m\u001b[0;34m)\u001b[0m\u001b[0;34m\u001b[0m\u001b[0;34m\u001b[0m\u001b[0m\n",
      "\u001b[0;32m~/.local/lib/python3.9/site-packages/drawsvg/types.py\u001b[0m in \u001b[0;36mwrite_svg_defs\u001b[0;34m(self, id_map, is_duplicate, output_file, lcontext, dry_run)\u001b[0m\n\u001b[1;32m    297\u001b[0m     def write_svg_defs(self, id_map, is_duplicate, output_file, lcontext,\n\u001b[1;32m    298\u001b[0m                        dry_run):\n\u001b[0;32m--> 299\u001b[0;31m         super().write_svg_defs(\n\u001b[0m\u001b[1;32m    300\u001b[0m                 id_map, is_duplicate, output_file, lcontext, dry_run)\n\u001b[1;32m    301\u001b[0m         \u001b[0mchildren\u001b[0m \u001b[0;34m=\u001b[0m \u001b[0mself\u001b[0m\u001b[0;34m.\u001b[0m\u001b[0mall_children\u001b[0m\u001b[0;34m(\u001b[0m\u001b[0mlcontext\u001b[0m\u001b[0;34m=\u001b[0m\u001b[0mlcontext\u001b[0m\u001b[0;34m)\u001b[0m\u001b[0;34m\u001b[0m\u001b[0;34m\u001b[0m\u001b[0m\n",
      "\u001b[0;32m~/.local/lib/python3.9/site-packages/drawsvg/types.py\u001b[0m in \u001b[0;36mwrite_svg_defs\u001b[0;34m(self, id_map, is_duplicate, output_file, lcontext, dry_run)\u001b[0m\n\u001b[1;32m    171\u001b[0m             \u001b[0;32mif\u001b[0m \u001b[0mis_duplicate\u001b[0m\u001b[0;34m(\u001b[0m\u001b[0mdefn\u001b[0m\u001b[0;34m)\u001b[0m\u001b[0;34m:\u001b[0m\u001b[0;34m\u001b[0m\u001b[0;34m\u001b[0m\u001b[0m\n\u001b[1;32m    172\u001b[0m                 \u001b[0;32mcontinue\u001b[0m\u001b[0;34m\u001b[0m\u001b[0;34m\u001b[0m\u001b[0m\n\u001b[0;32m--> 173\u001b[0;31m             defn.write_svg_defs(\n\u001b[0m\u001b[1;32m    174\u001b[0m                     id_map, is_duplicate, output_file, local, dry_run)\n\u001b[1;32m    175\u001b[0m             \u001b[0;32mif\u001b[0m \u001b[0mdefn\u001b[0m\u001b[0;34m.\u001b[0m\u001b[0mid\u001b[0m \u001b[0;32mis\u001b[0m \u001b[0;32mNone\u001b[0m\u001b[0;34m:\u001b[0m\u001b[0;34m\u001b[0m\u001b[0;34m\u001b[0m\u001b[0m\n",
      "\u001b[0;32m~/.local/lib/python3.9/site-packages/drawsvg/types.py\u001b[0m in \u001b[0;36mwrite_svg_defs\u001b[0;34m(self, id_map, is_duplicate, output_file, lcontext, dry_run)\u001b[0m\n\u001b[1;32m    302\u001b[0m         \u001b[0;32mfor\u001b[0m \u001b[0mchild\u001b[0m \u001b[0;32min\u001b[0m \u001b[0mchildren\u001b[0m\u001b[0;34m:\u001b[0m\u001b[0;34m\u001b[0m\u001b[0;34m\u001b[0m\u001b[0m\n\u001b[1;32m    303\u001b[0m             \u001b[0mlocal\u001b[0m \u001b[0;34m=\u001b[0m \u001b[0mLocalContext\u001b[0m\u001b[0;34m(\u001b[0m\u001b[0mlcontext\u001b[0m\u001b[0;34m.\u001b[0m\u001b[0mcontext\u001b[0m\u001b[0;34m,\u001b[0m \u001b[0mchild\u001b[0m\u001b[0;34m,\u001b[0m \u001b[0mself\u001b[0m\u001b[0;34m,\u001b[0m \u001b[0mchildren\u001b[0m\u001b[0;34m)\u001b[0m\u001b[0;34m\u001b[0m\u001b[0;34m\u001b[0m\u001b[0m\n\u001b[0;32m--> 304\u001b[0;31m             child.write_svg_defs(\n\u001b[0m\u001b[1;32m    305\u001b[0m                     id_map, is_duplicate, output_file, local, dry_run)\n\u001b[1;32m    306\u001b[0m     \u001b[0;32mdef\u001b[0m \u001b[0m__eq__\u001b[0m\u001b[0;34m(\u001b[0m\u001b[0mself\u001b[0m\u001b[0;34m,\u001b[0m \u001b[0mother\u001b[0m\u001b[0;34m)\u001b[0m\u001b[0;34m:\u001b[0m\u001b[0;34m\u001b[0m\u001b[0;34m\u001b[0m\u001b[0m\n",
      "\u001b[0;31mAttributeError\u001b[0m: 'str' object has no attribute 'write_svg_defs'"
     ]
    }
   ],
   "source": [
    "d = dw.Drawing(200,200)\n",
    "d.append(dw.DrawingDef('bla'))\n",
    "print(d.as_svg())"
   ]
  },
  {
   "cell_type": "markdown",
   "id": "brown-necessity",
   "metadata": {},
   "source": [
    "### 4.3.4 The symbol Element NOT IMPLEMENTED??"
   ]
  },
  {
   "cell_type": "markdown",
   "id": "serial-makeup",
   "metadata": {},
   "source": [
    "### 4.3.5 The image Element"
   ]
  },
  {
   "cell_type": "code",
   "execution_count": 11,
   "id": "boring-bahamas",
   "metadata": {},
   "outputs": [
    {
     "data": {
      "image/svg+xml": [
       "<?xml version=\"1.0\" encoding=\"UTF-8\"?>\n",
       "<svg xmlns=\"http://www.w3.org/2000/svg\" xmlns:xlink=\"http://www.w3.org/1999/xlink\"\n",
       "    width=\"200\" height=\"200\" viewBox=\"0 0 200 200\">\n",
       "<defs>\n",
       "</defs>\n",
       "<image x=\"0\" y=\"0\" width=\"200\" height=\"200\" xlink:href=\"example1.png\" />\n",
       "</svg>"
      ],
      "text/plain": [
       "<drawsvg.drawing.Drawing at 0x7f6b983ef700>"
      ]
     },
     "execution_count": 11,
     "metadata": {},
     "output_type": "execute_result"
    }
   ],
   "source": [
    "d = dw.Drawing(200,200)\n",
    "d.append(dw.Image(0,0,200,200,'example1.png'))\n",
    "d"
   ]
  },
  {
   "cell_type": "code",
   "execution_count": null,
   "id": "junior-encyclopedia",
   "metadata": {},
   "outputs": [],
   "source": []
  }
 ],
 "metadata": {
  "kernelspec": {
   "display_name": "Python 3",
   "language": "python",
   "name": "python3"
  },
  "language_info": {
   "codemirror_mode": {
    "name": "ipython",
    "version": 3
   },
   "file_extension": ".py",
   "mimetype": "text/x-python",
   "name": "python",
   "nbconvert_exporter": "python",
   "pygments_lexer": "ipython3",
   "version": "3.9.2"
  }
 },
 "nbformat": 4,
 "nbformat_minor": 5
}
