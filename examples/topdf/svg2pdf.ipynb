{
 "cells": [
  {
   "cell_type": "markdown",
   "id": "ffa4eea7",
   "metadata": {},
   "source": [
    "## convert svg (or png) to pdf using different tools (for comparison)"
   ]
  },
  {
   "cell_type": "markdown",
   "id": "b2dde12c",
   "metadata": {},
   "source": [
    "### 1. general settings"
   ]
  },
  {
   "cell_type": "code",
   "execution_count": 1,
   "id": "585206c0",
   "metadata": {},
   "outputs": [],
   "source": [
    "svgdir = '../bizarre_plaetze' #input dir\n",
    "outnam = 'partitur' #name for multi page pdf\n",
    "from os import system,listdir,mkdir\n",
    "from os.path import exists\n",
    "from os import chdir,remove,getcwd\n",
    "files = [f for f in sorted(listdir(svgdir)) if f[-4:] == '.svg']"
   ]
  },
  {
   "cell_type": "markdown",
   "id": "2c0b1e7f",
   "metadata": {},
   "source": [
    "### A. cairosvg"
   ]
  },
  {
   "cell_type": "code",
   "execution_count": 2,
   "id": "174e8dec",
   "metadata": {},
   "outputs": [],
   "source": [
    "# make single files pdfs\n",
    "outdir = './cairosvg'\n",
    "if not exists(outdir): mkdir(outdir)\n",
    "for f in files:\n",
    "    finnam = svgdir + '/' + f\n",
    "    foutnam = outdir + '/' + f[:-4] + '.pdf'\n",
    "    system('cairosvg -o %s %s' % (foutnam,finnam))\n",
    "\n",
    "# convert to multipage pdf\n",
    "system('cd %s ; pdftk *.pdf cat output %s.pdf' % (outdir,outnam))\n",
    "\n",
    "# perhaps remove the single page pdf's\n",
    "files = listdir(outdir)\n",
    "for file in files:\n",
    "    if file[-4:] == '.pdf' and not file == '%s.pdf'%outnam:\n",
    "        remove('%s/%s'%(outdir,file))"
   ]
  },
  {
   "cell_type": "markdown",
   "id": "f02756cd",
   "metadata": {},
   "source": [
    "### B. inkscape"
   ]
  },
  {
   "cell_type": "code",
   "execution_count": null,
   "id": "47a14630",
   "metadata": {},
   "outputs": [],
   "source": [
    "# make single files pdfs\n",
    "outdir = './inkscape'\n",
    "if not exists(outdir): mkdir(outdir)\n",
    "for f in files:\n",
    "    finnam = svgdir + '/' + f\n",
    "    foutnam = outdir + '/' + f[:-4] + '.pdf'\n",
    "    system('inkscape -o %s %s' % (foutnam,finnam))\n",
    "\n",
    "# convert to multipage pdf\n",
    "system('cd %s ; pdftk *.pdf cat output %s.pdf' % (outdir,outnam))\n",
    "\n",
    "# perhaps remove the single page pdf's\n",
    "files = listdir(outdir)\n",
    "for file in files:\n",
    "    if file[-4:] == '.pdf' and not file == '%s.pdf'%outnam:\n",
    "        #remove('%s/%s'%(outdir,file))"
   ]
  },
  {
   "cell_type": "markdown",
   "id": "1d05d0ec",
   "metadata": {},
   "source": [
    "### C. convert (imagemagick)\n",
    "perhaps not the appropriate tool because it is based on rasterization?  \n",
    "output file is 3x size compared to A and B"
   ]
  },
  {
   "cell_type": "code",
   "execution_count": null,
   "id": "ec29756c",
   "metadata": {},
   "outputs": [],
   "source": [
    "# make single files pdfs\n",
    "outdir = './imagemagick'\n",
    "if not exists(outdir): mkdir(outdir)\n",
    "for f in files:\n",
    "    finnam = svgdir + '/' + f\n",
    "    foutnam = outdir + '/' + f[:-4] + '.pdf'\n",
    "    system('convert %s %s' % (finnam,foutnam))\n",
    "\n",
    "# convert to multipage pdf\n",
    "system('cd %s ; pdftk *.pdf cat output %s.pdf' % (outdir,outnam))"
   ]
  },
  {
   "cell_type": "markdown",
   "id": "65a18edd",
   "metadata": {},
   "source": [
    "### D. ghostscript\n",
    "not possible (see [here](https://stackoverflow.com/questions/33257452/convert-svg-to-pdf-with-ghostscript-ghostpdl)) but best documentation about pdf options etc in their [doc](https://ghostscript.readthedocs.io/en/latest/index.html)"
   ]
  },
  {
   "cell_type": "markdown",
   "id": "4e130dd0",
   "metadata": {},
   "source": [
    "### result\n",
    "cairosvg should be fine.  \n",
    "in case there are issues with fonts, try inkscape.  \n",
    "in case the issues persist, make good png and convert with iM"
   ]
  },
  {
   "cell_type": "code",
   "execution_count": null,
   "id": "616c277c",
   "metadata": {},
   "outputs": [],
   "source": []
  }
 ],
 "metadata": {
  "kernelspec": {
   "display_name": "Python 3 (ipykernel)",
   "language": "python",
   "name": "python3"
  },
  "language_info": {
   "codemirror_mode": {
    "name": "ipython",
    "version": 3
   },
   "file_extension": ".py",
   "mimetype": "text/x-python",
   "name": "python",
   "nbconvert_exporter": "python",
   "pygments_lexer": "ipython3",
   "version": "3.9.2"
  }
 },
 "nbformat": 4,
 "nbformat_minor": 5
}
