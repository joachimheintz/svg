{
 "cells": [
  {
   "cell_type": "markdown",
   "id": "339afbec",
   "metadata": {},
   "source": [
    "# How to use musical notation"
   ]
  },
  {
   "cell_type": "markdown",
   "id": "abe364a1",
   "metadata": {},
   "source": [
    "Import drawsvg"
   ]
  },
  {
   "cell_type": "code",
   "execution_count": 3,
   "id": "4ec944cb",
   "metadata": {},
   "outputs": [],
   "source": [
    "import drawsvg as dw"
   ]
  },
  {
   "cell_type": "markdown",
   "id": "685933c7",
   "metadata": {},
   "source": [
    "Import the functions.  \n",
    "(Must be done like this as inernally d is used to shorten usage.)"
   ]
  },
  {
   "cell_type": "code",
   "execution_count": 1,
   "id": "52450a37",
   "metadata": {},
   "outputs": [],
   "source": [
    "from os import listdir\n",
    "dir = '../lib'\n",
    "files = listdir(dir)\n",
    "for file in files:\n",
    "    if file[-3:] == '.py':\n",
    "        f = '%s/%s' % (dir,file)\n",
    "        exec(open(f).read())\n"
   ]
  },
  {
   "cell_type": "markdown",
   "id": "7bfb027f",
   "metadata": {},
   "source": [
    "Create the drawing."
   ]
  },
  {
   "cell_type": "code",
   "execution_count": 4,
   "id": "5c4aab2b",
   "metadata": {},
   "outputs": [],
   "source": [
    "w,h = 900,300\n",
    "d = dw.Drawing(w,h)"
   ]
  },
  {
   "cell_type": "markdown",
   "id": "eb5e9d97",
   "metadata": {},
   "source": [
    "Draw two staves, and clefs.\n",
    "\n",
    "`stave(x=10,y=10,len=200,y_space=10,color='black',sw=1,numlines=5)  \n",
    "    \"\"\"draws a stave.  x,y are top left\"\"\"`\n",
    "\n",
    "`violinClef(x=10,y=10,linspace=10,color='black',sw=2,ottava=0,swottfac=1,**args)  \n",
    "    \"\"\"draws a violin clef.  x,y are top left of the stave\n",
    "    ottava=1 ist 8 oben, ottava=-1 ist 8 unten\n",
    "    swottfac ist stroke width vom okavzeichen als verhältnis zum anderen (default=1)\"\"\"`\n",
    "\n",
    "`bassClef(x=10,y=10,linspace=10,color='black',sw=2,r=1)  \n",
    "    \"\"\"draws a bass clef.  x,y are top left of the stave\n",
    "    sw = stroke width, r = radius for two points\"\"\"`\n"
   ]
  },
  {
   "cell_type": "code",
   "execution_count": 5,
   "id": "984b6789",
   "metadata": {},
   "outputs": [
    {
     "data": {
      "image/svg+xml": [
       "<?xml version=\"1.0\" encoding=\"UTF-8\"?>\n",
       "<svg xmlns=\"http://www.w3.org/2000/svg\" xmlns:xlink=\"http://www.w3.org/1999/xlink\"\n",
       "    width=\"900\" height=\"300\" viewBox=\"0 0 900 300\">\n",
       "<defs>\n",
       "</defs>\n",
       "<path d=\"M50,100 L880,100\" stroke=\"black\" stroke-width=\"1\" />\n",
       "<path d=\"M50,110 L880,110\" stroke=\"black\" stroke-width=\"1\" />\n",
       "<path d=\"M50,120 L880,120\" stroke=\"black\" stroke-width=\"1\" />\n",
       "<path d=\"M50,130 L880,130\" stroke=\"black\" stroke-width=\"1\" />\n",
       "<path d=\"M50,140 L880,140\" stroke=\"black\" stroke-width=\"1\" />\n",
       "<path d=\"M50,200 L880,200\" stroke=\"black\" stroke-width=\"1\" />\n",
       "<path d=\"M50,210 L880,210\" stroke=\"black\" stroke-width=\"1\" />\n",
       "<path d=\"M50,220 L880,220\" stroke=\"black\" stroke-width=\"1\" />\n",
       "<path d=\"M50,230 L880,230\" stroke=\"black\" stroke-width=\"1\" />\n",
       "<path d=\"M50,240 L880,240\" stroke=\"black\" stroke-width=\"1\" />\n",
       "<path d=\"M55.0,135.0 C90,110,53.333333333333336,160,51.0,130 C50,120,70,90,60,95.0 C50,95.0,70,140,55.0,150 C50,150,55.0,145.0,55.0,145.0\" stroke=\"black\" stroke-width=\"2\" fill=\"none\" />\n",
       "<path d=\"M57.0,208.0 C59.0,211.0,55.0,213.0,54.0,210 C52.0,205.0,56.0,200,60,201.42857142857142 C70,205.0,60,220,52.0,228.57142857142858\" stroke=\"black\" stroke-width=\"2\" fill=\"none\" />\n",
       "<circle cx=\"67.0\" cy=\"207\" r=\"1\" stroke=\"black\" />\n",
       "<circle cx=\"67.0\" cy=\"213\" r=\"1\" stroke=\"black\" />\n",
       "</svg>"
      ],
      "text/plain": [
       "<drawsvg.drawing.Drawing at 0x7f763459d8b0>"
      ]
     },
     "execution_count": 5,
     "metadata": {},
     "output_type": "execute_result"
    }
   ],
   "source": [
    "x_start = 50\n",
    "y_stave_1 = 100\n",
    "y_stave_2 = 200\n",
    "stave(x_start,y_stave_1,w-20-x_start)\n",
    "stave(x_start,y_stave_2,w-20-x_start)\n",
    "violinClef(x_start,y_stave_1)\n",
    "bassClef(x_start,y_stave_2)\n",
    "d"
   ]
  },
  {
   "cell_type": "markdown",
   "id": "a956e1d6",
   "metadata": {},
   "source": [
    "Add some notes.  \n",
    "As the default space is 10, 5 will put the note heads to the normal places.\n",
    "\n",
    "`note(x=10,y=10,y_space=10,swfac=1,dotted=0,c='black',dotspace=1,dotsiz=1,**args)  \n",
    "    \"\"\"note with xy as center\n",
    "    for color: fill='gray' or fill='#444'\"\"\"`"
   ]
  },
  {
   "cell_type": "code",
   "execution_count": 6,
   "id": "dcb64122",
   "metadata": {},
   "outputs": [
    {
     "data": {
      "image/svg+xml": [
       "<?xml version=\"1.0\" encoding=\"UTF-8\"?>\n",
       "<svg xmlns=\"http://www.w3.org/2000/svg\" xmlns:xlink=\"http://www.w3.org/1999/xlink\"\n",
       "    width=\"900\" height=\"300\" viewBox=\"0 0 900 300\">\n",
       "<defs>\n",
       "</defs>\n",
       "<path d=\"M50,100 L880,100\" stroke=\"black\" stroke-width=\"1\" />\n",
       "<path d=\"M50,110 L880,110\" stroke=\"black\" stroke-width=\"1\" />\n",
       "<path d=\"M50,120 L880,120\" stroke=\"black\" stroke-width=\"1\" />\n",
       "<path d=\"M50,130 L880,130\" stroke=\"black\" stroke-width=\"1\" />\n",
       "<path d=\"M50,140 L880,140\" stroke=\"black\" stroke-width=\"1\" />\n",
       "<path d=\"M50,200 L880,200\" stroke=\"black\" stroke-width=\"1\" />\n",
       "<path d=\"M50,210 L880,210\" stroke=\"black\" stroke-width=\"1\" />\n",
       "<path d=\"M50,220 L880,220\" stroke=\"black\" stroke-width=\"1\" />\n",
       "<path d=\"M50,230 L880,230\" stroke=\"black\" stroke-width=\"1\" />\n",
       "<path d=\"M50,240 L880,240\" stroke=\"black\" stroke-width=\"1\" />\n",
       "<path d=\"M55.0,135.0 C90,110,53.333333333333336,160,51.0,130 C50,120,70,90,60,95.0 C50,95.0,70,140,55.0,150 C50,150,55.0,145.0,55.0,145.0\" stroke=\"black\" stroke-width=\"2\" fill=\"none\" />\n",
       "<path d=\"M57.0,208.0 C59.0,211.0,55.0,213.0,54.0,210 C52.0,205.0,56.0,200,60,201.42857142857142 C70,205.0,60,220,52.0,228.57142857142858\" stroke=\"black\" stroke-width=\"2\" fill=\"none\" />\n",
       "<circle cx=\"67.0\" cy=\"207\" r=\"1\" stroke=\"black\" />\n",
       "<circle cx=\"67.0\" cy=\"213\" r=\"1\" stroke=\"black\" />\n",
       "<path d=\"M74.0,103.0 C71.5,98.5,81.5,93.0,86.0,97.0 C88.5,101.5,78.5,107.0,74.0,103.0\" stroke-width=\"1.0\" stroke=\"black\" />\n",
       "<path d=\"M94.3,107.85 C91.925,103.575,101.425,98.35,105.7,102.15 C108.075,106.425,98.575,111.65,94.3,107.85\" stroke-width=\"0.9500000000000001\" stroke=\"black\" />\n",
       "<path d=\"M114.6,112.7 C112.35,108.65,121.35,103.7,125.4,107.3 C127.65,111.35,118.65,116.3,114.6,112.7\" stroke-width=\"0.9\" stroke=\"black\" />\n",
       "<path d=\"M134.9,117.55 C132.775,113.725,141.275,109.05,145.1,112.45 C147.225,116.275,138.725,120.95,134.9,117.55\" stroke-width=\"0.8500000000000001\" stroke=\"black\" />\n",
       "<path d=\"M155.2,122.4 C153.2,118.8,161.2,114.4,164.8,117.6 C166.8,121.2,158.8,125.6,155.2,122.4\" stroke-width=\"0.8\" stroke=\"black\" />\n",
       "<path d=\"M175.5,127.25 C173.625,123.875,181.125,119.75,184.5,122.75 C186.375,126.125,178.875,130.25,175.5,127.25\" stroke-width=\"0.75\" stroke=\"black\" />\n",
       "<path d=\"M195.8,132.1 C194.05,128.95,201.05,125.1,204.2,127.9 C205.95,131.05,198.95,134.9,195.8,132.1\" stroke-width=\"0.7000000000000001\" stroke=\"black\" />\n",
       "<path d=\"M216.1,136.95 C214.475,134.025,220.975,130.45,223.9,133.05 C225.525,135.975,219.025,139.55,216.1,136.95\" stroke-width=\"0.65\" stroke=\"black\" />\n",
       "<path d=\"M236.4,141.8 C234.9,139.1,240.9,135.8,243.6,138.2 C245.1,140.9,239.1,144.2,236.4,141.8\" stroke-width=\"0.6000000000000001\" stroke=\"black\" />\n",
       "<path d=\"M256.7,146.65 C255.325,144.175,260.825,141.15,263.3,143.35 C264.675,145.825,259.175,148.85,256.7,146.65\" stroke-width=\"0.55\" stroke=\"black\" />\n",
       "</svg>"
      ],
      "text/plain": [
       "<drawsvg.drawing.Drawing at 0x7f763459d8b0>"
      ]
     },
     "execution_count": 6,
     "metadata": {},
     "output_type": "execute_result"
    }
   ],
   "source": [
    "x = x_start + 30\n",
    "for i in range(10):\n",
    "    note(x,y_stave_1+i*5,y_space=10-i/2)\n",
    "    x += 20\n",
    "d"
   ]
  },
  {
   "cell_type": "markdown",
   "id": "bbc22ce7",
   "metadata": {},
   "source": [
    "Change color"
   ]
  },
  {
   "cell_type": "code",
   "execution_count": 7,
   "id": "6dba6a0e",
   "metadata": {},
   "outputs": [
    {
     "data": {
      "image/svg+xml": [
       "<?xml version=\"1.0\" encoding=\"UTF-8\"?>\n",
       "<svg xmlns=\"http://www.w3.org/2000/svg\" xmlns:xlink=\"http://www.w3.org/1999/xlink\"\n",
       "    width=\"900\" height=\"300\" viewBox=\"0 0 900 300\">\n",
       "<defs>\n",
       "</defs>\n",
       "<path d=\"M50,100 L880,100\" stroke=\"black\" stroke-width=\"1\" />\n",
       "<path d=\"M50,110 L880,110\" stroke=\"black\" stroke-width=\"1\" />\n",
       "<path d=\"M50,120 L880,120\" stroke=\"black\" stroke-width=\"1\" />\n",
       "<path d=\"M50,130 L880,130\" stroke=\"black\" stroke-width=\"1\" />\n",
       "<path d=\"M50,140 L880,140\" stroke=\"black\" stroke-width=\"1\" />\n",
       "<path d=\"M50,200 L880,200\" stroke=\"black\" stroke-width=\"1\" />\n",
       "<path d=\"M50,210 L880,210\" stroke=\"black\" stroke-width=\"1\" />\n",
       "<path d=\"M50,220 L880,220\" stroke=\"black\" stroke-width=\"1\" />\n",
       "<path d=\"M50,230 L880,230\" stroke=\"black\" stroke-width=\"1\" />\n",
       "<path d=\"M50,240 L880,240\" stroke=\"black\" stroke-width=\"1\" />\n",
       "<path d=\"M55.0,135.0 C90,110,53.333333333333336,160,51.0,130 C50,120,70,90,60,95.0 C50,95.0,70,140,55.0,150 C50,150,55.0,145.0,55.0,145.0\" stroke=\"black\" stroke-width=\"2\" fill=\"none\" />\n",
       "<path d=\"M57.0,208.0 C59.0,211.0,55.0,213.0,54.0,210 C52.0,205.0,56.0,200,60,201.42857142857142 C70,205.0,60,220,52.0,228.57142857142858\" stroke=\"black\" stroke-width=\"2\" fill=\"none\" />\n",
       "<circle cx=\"67.0\" cy=\"207\" r=\"1\" stroke=\"black\" />\n",
       "<circle cx=\"67.0\" cy=\"213\" r=\"1\" stroke=\"black\" />\n",
       "<path d=\"M74.0,103.0 C71.5,98.5,81.5,93.0,86.0,97.0 C88.5,101.5,78.5,107.0,74.0,103.0\" stroke-width=\"1.0\" stroke=\"black\" />\n",
       "<path d=\"M94.3,107.85 C91.925,103.575,101.425,98.35,105.7,102.15 C108.075,106.425,98.575,111.65,94.3,107.85\" stroke-width=\"0.9500000000000001\" stroke=\"black\" />\n",
       "<path d=\"M114.6,112.7 C112.35,108.65,121.35,103.7,125.4,107.3 C127.65,111.35,118.65,116.3,114.6,112.7\" stroke-width=\"0.9\" stroke=\"black\" />\n",
       "<path d=\"M134.9,117.55 C132.775,113.725,141.275,109.05,145.1,112.45 C147.225,116.275,138.725,120.95,134.9,117.55\" stroke-width=\"0.8500000000000001\" stroke=\"black\" />\n",
       "<path d=\"M155.2,122.4 C153.2,118.8,161.2,114.4,164.8,117.6 C166.8,121.2,158.8,125.6,155.2,122.4\" stroke-width=\"0.8\" stroke=\"black\" />\n",
       "<path d=\"M175.5,127.25 C173.625,123.875,181.125,119.75,184.5,122.75 C186.375,126.125,178.875,130.25,175.5,127.25\" stroke-width=\"0.75\" stroke=\"black\" />\n",
       "<path d=\"M195.8,132.1 C194.05,128.95,201.05,125.1,204.2,127.9 C205.95,131.05,198.95,134.9,195.8,132.1\" stroke-width=\"0.7000000000000001\" stroke=\"black\" />\n",
       "<path d=\"M216.1,136.95 C214.475,134.025,220.975,130.45,223.9,133.05 C225.525,135.975,219.025,139.55,216.1,136.95\" stroke-width=\"0.65\" stroke=\"black\" />\n",
       "<path d=\"M236.4,141.8 C234.9,139.1,240.9,135.8,243.6,138.2 C245.1,140.9,239.1,144.2,236.4,141.8\" stroke-width=\"0.6000000000000001\" stroke=\"black\" />\n",
       "<path d=\"M256.7,146.65 C255.325,144.175,260.825,141.15,263.3,143.35 C264.675,145.825,259.175,148.85,256.7,146.65\" stroke-width=\"0.55\" stroke=\"black\" />\n",
       "<path d=\"M294.0,138.0 C291.5,133.5,301.5,128.0,306.0,132.0 C308.5,136.5,298.5,142.0,294.0,138.0\" stroke-width=\"1.0\" stroke=\"black\" fill=\"red\" />\n",
       "<path d=\"M314.0,128.0 C311.5,123.5,321.5,118.0,326.0,122.0 C328.5,126.5,318.5,132.0,314.0,128.0\" stroke-width=\"1.0\" stroke=\"black\" fill=\"gray\" />\n",
       "<path d=\"M334.0,118.0 C331.5,113.5,341.5,108.0,346.0,112.0 C348.5,116.5,338.5,122.0,334.0,118.0\" stroke-width=\"1.0\" stroke=\"black\" fill=\"green\" />\n",
       "<path d=\"M354.0,108.0 C351.5,103.5,361.5,98.0,366.0,102.0 C368.5,106.5,358.5,112.0,354.0,108.0\" stroke-width=\"1.0\" stroke=\"black\" fill=\"blue\" />\n",
       "</svg>"
      ],
      "text/plain": [
       "<drawsvg.drawing.Drawing at 0x7f763459d8b0>"
      ]
     },
     "execution_count": 7,
     "metadata": {},
     "output_type": "execute_result"
    }
   ],
   "source": [
    "x += 20\n",
    "y = y_stave_1+35\n",
    "for c in ['red','gray','green','blue']:\n",
    "    note(x,y,fill=c)\n",
    "    x += 20\n",
    "    y -= 10\n",
    "d"
   ]
  },
  {
   "cell_type": "markdown",
   "id": "67fca6c9",
   "metadata": {},
   "source": [
    "Add standard note values\n",
    "\n",
    "`not1tel(x=10,y=10,y_space=10,swfac=1,dotted=0,c='black',dotspace=1,dotsiz=1,**args):\n",
    "    \"\"\"ganze note\"\"\"`\n",
    "    \n",
    "`notbrevis(x=10,y=10,y_space=10,swfac=1,dotted=0,c='black',dotspace=1,dotsiz=1,swlinesfac=1,**args):\n",
    "    \"\"\"brevis als ganze note mit strichen\n",
    "    swlinesfac ist die dicke der vertikalen linien als verhältnis zu sw\"\"\"`\n",
    "\n",
    "`not2tel(x=20,y=30,dirlen=1,y_space=10,swfac=1,swfac_head=1,dotted=0,c='black',dotspace=1,dotsiz=1,**args):\n",
    "    \"\"\"half note with xy as center\n",
    "    dirlen=1 means in normal length (y_space*2.4) upwards\n",
    "    dirlen=-1.1 means in length 2.64*yspace downwards\n",
    "    swfac is stroke width of the line, as relation to y_space*0.1\n",
    "    swfac_head is stroke width of the head line, as relation to the line * 1.5\n",
    "    **args go to the head\n",
    "    dotted=0 (default) means no dots, dotted=2 means two dots after the note\n",
    "    dotspace and dotsiz set the distance and the size of the dot(s)\n",
    "    returns the x,y of end of the line to use in 8th notes etc\"\"\"`\n",
    "\n",
    "`not4tel(x=10,y=10,dirlen=1,y_space=10,swfac=1,dotted=0,c='#444',\n",
    "            dotspace=1,dotsiz=1,cline='black',alsvorschlag=False,**args):\n",
    "    \"\"\"4ter note with xy as center\n",
    "    dirlen=1 means in normal length (y_space*2.5) upwards\n",
    "    dirlen=-1.1 means in length 2.75*yspace downwards\n",
    "    swfac is stroke width of the line, as relation to y_space*0.1\n",
    "    **args go to the head\n",
    "    dotted=0 (default) means no dots, dotted=2 means two dots after the note\n",
    "    dotspace and dotsiz set the distance and the size of the dot(s)\n",
    "    returns the x,y of end of the line to use in 8th notes etc\"\"\"`\n",
    "\n",
    "`not8tel(x=50,y=50,dirlen=1,y_space=10,swfac=1,swflagfac=0.2,dotted=0,c='#444',\n",
    "            dotspace=1,dotsiz=1,cline='black',alsvorschlag=False,**args):\n",
    "    \"\"\"8th note with xy as center\n",
    "    dirlen=1 means in normal length (y_space*2.75) upwards\n",
    "    dirlen=-1.2 means in length 3.3*yspace downwards\n",
    "    swfac is stroke width of the line, as relation to y_space*0.1\n",
    "    swflag is stroke width of the flag, as relation to y_space (default 0.2)\n",
    "    dotted=0 (default) means no dots, dotted=2 means two dots after the note\n",
    "    wenn alsvorschlag=True wird strich durchgezogen\n",
    "    **args go to the head\n",
    "    return top or bottom point of the line\"\"\"`\n",
    "\n",
    "`not16tel(x=10,y=10,dirlen=1,y_space=10,swfac=1,swflagfac=1,dotted=0,c='#444',\n",
    "             dotspace=1,dotsiz=1,cline='black',alsvorschlag=False,**args):\n",
    "    \"\"\"16th note with xy as center\n",
    "    dirlen=1 means in normal length (y_space*3) upwards\n",
    "    dirlen=-1.1 means in length 3.3*yspace downwards\n",
    "    swfac is stroke width of the line, as relation to y_space*0.1\n",
    "    swflag is stroke width of the flag, as relation to y_space*0.2\n",
    "    dotted=0 (default) means no dots, dotted=2 means two dots after the note\n",
    "    wenn alsvorschlag=True wird strich durchgezogen\n",
    "    **args go to the head\n",
    "    return top or bottom point of the line\"\"\"`\n",
    "\n",
    "`not32tel(x=10,y=10,dirlen=1,y_space=10,swfac=1,swflagfac=1,dotted=0,c='#444',\n",
    "             dotspace=1,dotsiz=1,cline='black',alsvorschlag=False,**args):\n",
    "    \"\"\"32th note with xy as center\n",
    "    dirlen=1 means in normal length (y_space*3.25) upwards\n",
    "    dirlen=-1.2 means in length 3.9*yspace downwards\n",
    "    swfac is stroke width of the line, as relation to y_space*0.1\n",
    "    swflag is stroke width of the flag, as relation to y_space*0.2\n",
    "    dotted=0 (default) means no dots, dotted=2 means two dots after the note\n",
    "    wenn alsvorschlag=True wird strich durchgezogen\n",
    "    **args go to the head\n",
    "    return top or bottom point of the line\"\"\"`"
   ]
  },
  {
   "cell_type": "code",
   "execution_count": 8,
   "id": "3d8ba08d",
   "metadata": {},
   "outputs": [
    {
     "data": {
      "image/svg+xml": [
       "<?xml version=\"1.0\" encoding=\"UTF-8\"?>\n",
       "<svg xmlns=\"http://www.w3.org/2000/svg\" xmlns:xlink=\"http://www.w3.org/1999/xlink\"\n",
       "    width=\"900\" height=\"300\" viewBox=\"0 0 900 300\">\n",
       "<defs>\n",
       "</defs>\n",
       "<path d=\"M50,100 L880,100\" stroke=\"black\" stroke-width=\"1\" />\n",
       "<path d=\"M50,110 L880,110\" stroke=\"black\" stroke-width=\"1\" />\n",
       "<path d=\"M50,120 L880,120\" stroke=\"black\" stroke-width=\"1\" />\n",
       "<path d=\"M50,130 L880,130\" stroke=\"black\" stroke-width=\"1\" />\n",
       "<path d=\"M50,140 L880,140\" stroke=\"black\" stroke-width=\"1\" />\n",
       "<path d=\"M50,200 L880,200\" stroke=\"black\" stroke-width=\"1\" />\n",
       "<path d=\"M50,210 L880,210\" stroke=\"black\" stroke-width=\"1\" />\n",
       "<path d=\"M50,220 L880,220\" stroke=\"black\" stroke-width=\"1\" />\n",
       "<path d=\"M50,230 L880,230\" stroke=\"black\" stroke-width=\"1\" />\n",
       "<path d=\"M50,240 L880,240\" stroke=\"black\" stroke-width=\"1\" />\n",
       "<path d=\"M55.0,135.0 C90,110,53.333333333333336,160,51.0,130 C50,120,70,90,60,95.0 C50,95.0,70,140,55.0,150 C50,150,55.0,145.0,55.0,145.0\" stroke=\"black\" stroke-width=\"2\" fill=\"none\" />\n",
       "<path d=\"M57.0,208.0 C59.0,211.0,55.0,213.0,54.0,210 C52.0,205.0,56.0,200,60,201.42857142857142 C70,205.0,60,220,52.0,228.57142857142858\" stroke=\"black\" stroke-width=\"2\" fill=\"none\" />\n",
       "<circle cx=\"67.0\" cy=\"207\" r=\"1\" stroke=\"black\" />\n",
       "<circle cx=\"67.0\" cy=\"213\" r=\"1\" stroke=\"black\" />\n",
       "<path d=\"M74.0,103.0 C71.5,98.5,81.5,93.0,86.0,97.0 C88.5,101.5,78.5,107.0,74.0,103.0\" stroke-width=\"1.0\" stroke=\"black\" />\n",
       "<path d=\"M94.3,107.85 C91.925,103.575,101.425,98.35,105.7,102.15 C108.075,106.425,98.575,111.65,94.3,107.85\" stroke-width=\"0.9500000000000001\" stroke=\"black\" />\n",
       "<path d=\"M114.6,112.7 C112.35,108.65,121.35,103.7,125.4,107.3 C127.65,111.35,118.65,116.3,114.6,112.7\" stroke-width=\"0.9\" stroke=\"black\" />\n",
       "<path d=\"M134.9,117.55 C132.775,113.725,141.275,109.05,145.1,112.45 C147.225,116.275,138.725,120.95,134.9,117.55\" stroke-width=\"0.8500000000000001\" stroke=\"black\" />\n",
       "<path d=\"M155.2,122.4 C153.2,118.8,161.2,114.4,164.8,117.6 C166.8,121.2,158.8,125.6,155.2,122.4\" stroke-width=\"0.8\" stroke=\"black\" />\n",
       "<path d=\"M175.5,127.25 C173.625,123.875,181.125,119.75,184.5,122.75 C186.375,126.125,178.875,130.25,175.5,127.25\" stroke-width=\"0.75\" stroke=\"black\" />\n",
       "<path d=\"M195.8,132.1 C194.05,128.95,201.05,125.1,204.2,127.9 C205.95,131.05,198.95,134.9,195.8,132.1\" stroke-width=\"0.7000000000000001\" stroke=\"black\" />\n",
       "<path d=\"M216.1,136.95 C214.475,134.025,220.975,130.45,223.9,133.05 C225.525,135.975,219.025,139.55,216.1,136.95\" stroke-width=\"0.65\" stroke=\"black\" />\n",
       "<path d=\"M236.4,141.8 C234.9,139.1,240.9,135.8,243.6,138.2 C245.1,140.9,239.1,144.2,236.4,141.8\" stroke-width=\"0.6000000000000001\" stroke=\"black\" />\n",
       "<path d=\"M256.7,146.65 C255.325,144.175,260.825,141.15,263.3,143.35 C264.675,145.825,259.175,148.85,256.7,146.65\" stroke-width=\"0.55\" stroke=\"black\" />\n",
       "<path d=\"M294.0,138.0 C291.5,133.5,301.5,128.0,306.0,132.0 C308.5,136.5,298.5,142.0,294.0,138.0\" stroke-width=\"1.0\" stroke=\"black\" fill=\"red\" />\n",
       "<path d=\"M314.0,128.0 C311.5,123.5,321.5,118.0,326.0,122.0 C328.5,126.5,318.5,132.0,314.0,128.0\" stroke-width=\"1.0\" stroke=\"black\" fill=\"gray\" />\n",
       "<path d=\"M334.0,118.0 C331.5,113.5,341.5,108.0,346.0,112.0 C348.5,116.5,338.5,122.0,334.0,118.0\" stroke-width=\"1.0\" stroke=\"black\" fill=\"green\" />\n",
       "<path d=\"M354.0,108.0 C351.5,103.5,361.5,98.0,366.0,102.0 C368.5,106.5,358.5,112.0,354.0,108.0\" stroke-width=\"1.0\" stroke=\"black\" fill=\"blue\" />\n",
       "<path d=\"M394.0,123.0 C391.5,118.5,401.5,113.0,406.0,117.0 C408.5,121.5,398.5,127.0,394.0,123.0\" stroke-width=\"2.0\" stroke=\"black\" fill=\"none\" />\n",
       "<path d=\"M391.75,113.0 L391.75,127.0\" stroke=\"black\" stroke-width=\"1.0\" />\n",
       "<path d=\"M408.25,113.0 L408.25,127.0\" stroke=\"black\" stroke-width=\"1.0\" />\n",
       "<path d=\"M414.0,123.0 C411.5,118.5,421.5,113.0,426.0,117.0 C428.5,121.5,418.5,127.0,414.0,123.0\" stroke-width=\"2.0\" stroke=\"black\" fill=\"none\" />\n",
       "<path d=\"M439.0,123.0 C436.5,118.5,446.5,113.0,451.0,117.0 C453.5,121.5,443.5,127.0,439.0,123.0\" stroke=\"black\" fill=\"none\" stroke-width=\"1.5\" />\n",
       "<path d=\"M451.0,117.0 L451.0,93.0\" stroke=\"black\" stroke-width=\"1.0\" />\n",
       "<path d=\"M464.0,123.0 C461.5,118.5,471.5,113.0,476.0,117.0 C478.5,121.5,468.5,127.0,464.0,123.0\" fill=\"#444\" />\n",
       "<path d=\"M476.0,119.0 L476.0,92.0\" stroke=\"black\" stroke-width=\"1.0\" />\n",
       "<path d=\"M489.0,123.0 C486.5,118.5,496.5,113.0,501.0,117.0 C503.5,121.5,493.5,127.0,489.0,123.0\" fill=\"#444\" />\n",
       "<path d=\"M501.0,119.0 L501.0,89.5\" stroke=\"black\" stroke-width=\"1.0\" />\n",
       "<path d=\"M501.0,89.5 L511.0,102.8\" stroke=\"black\" stroke-width=\"2.0\" />\n",
       "<path d=\"M519.0,123.0 C516.5,118.5,526.5,113.0,531.0,117.0 C533.5,121.5,523.5,127.0,519.0,123.0\" fill=\"#444\" />\n",
       "<path d=\"M531.0,119.0 L531.0,87.0\" stroke=\"black\" stroke-width=\"1.0\" />\n",
       "<path d=\"M531.0,87.0 L541.0,100.3\" stroke=\"black\" stroke-width=\"2.0\" />\n",
       "<path d=\"M531.0,95.0 L541.0,108.3\" stroke=\"black\" stroke-width=\"2.0\" />\n",
       "<path d=\"M549.0,123.0 C546.5,118.5,556.5,113.0,561.0,117.0 C563.5,121.5,553.5,127.0,549.0,123.0\" fill=\"#444\" />\n",
       "<path d=\"M561.0,119.0 L561.0,84.5\" stroke=\"black\" stroke-width=\"1.0\" />\n",
       "<path d=\"M561.0,84.5 L571.0,97.8\" stroke=\"black\" stroke-width=\"2.0\" />\n",
       "<path d=\"M561.0,90.5 L571.0,103.8\" stroke=\"black\" stroke-width=\"2.0\" />\n",
       "<path d=\"M561.0,96.5 L571.0,109.8\" stroke=\"black\" stroke-width=\"2.0\" />\n",
       "</svg>"
      ],
      "text/plain": [
       "<drawsvg.drawing.Drawing at 0x7f763459d8b0>"
      ]
     },
     "execution_count": 8,
     "metadata": {},
     "output_type": "execute_result"
    }
   ],
   "source": [
    "y += 25\n",
    "x += 20\n",
    "notbrevis(x,y)\n",
    "not1tel(x+20,y)\n",
    "not2tel(x+45,y)\n",
    "not4tel(x+70,y)\n",
    "not8tel(x+95,y)\n",
    "not16tel(x+125,y)\n",
    "not32tel(x+155,y)\n",
    "d"
   ]
  },
  {
   "cell_type": "code",
   "execution_count": null,
   "id": "6870d86c",
   "metadata": {},
   "outputs": [],
   "source": []
  }
 ],
 "metadata": {
  "kernelspec": {
   "display_name": "Python 3 (ipykernel)",
   "language": "python",
   "name": "python3"
  },
  "language_info": {
   "codemirror_mode": {
    "name": "ipython",
    "version": 3
   },
   "file_extension": ".py",
   "mimetype": "text/x-python",
   "name": "python",
   "nbconvert_exporter": "python",
   "pygments_lexer": "ipython3",
   "version": "3.9.2"
  }
 },
 "nbformat": 4,
 "nbformat_minor": 5
}
