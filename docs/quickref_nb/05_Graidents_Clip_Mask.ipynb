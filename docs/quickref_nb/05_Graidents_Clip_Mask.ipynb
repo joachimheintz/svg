{
 "cells": [
  {
   "cell_type": "markdown",
   "id": "shaped-aviation",
   "metadata": {},
   "source": [
    "# 5. Gradient, Clip, Mask"
   ]
  },
  {
   "cell_type": "code",
   "execution_count": 1,
   "id": "musical-intranet",
   "metadata": {},
   "outputs": [],
   "source": [
    "import draw2Svg as dw"
   ]
  },
  {
   "cell_type": "markdown",
   "id": "distinct-context",
   "metadata": {},
   "source": [
    "## Linear Gradient\n",
    "```\n",
    "gradient = dw.LinearGradient(x1, y1, x2, y2, gradientUnits='userSpaceOnUse', **kwargs)\n",
    "gradient.addStop(offset, color, opacity=None)\n",
    "```\n"
   ]
  },
  {
   "cell_type": "code",
   "execution_count": 4,
   "id": "covered-police",
   "metadata": {},
   "outputs": [
    {
     "data": {
      "image/svg+xml": [
       "<?xml version=\"1.0\" encoding=\"UTF-8\"?>\n",
       "<svg xmlns=\"http://www.w3.org/2000/svg\" xmlns:xlink=\"http://www.w3.org/1999/xlink\"\n",
       "     width=\"200\" height=\"80\" viewBox=\"0 0 200 80\">\n",
       "<defs>\n",
       "<linearGradient x1=\"150\" y1=\"0\" x2=\"0\" y2=\"0\" gradientUnits=\"userSpaceOnUse\" id=\"grad10\">\n",
       "<stop offset=\"0\" stop-color=\"green\" />\n",
       "<stop offset=\"1\" stop-color=\"yellow\" />\n",
       "</linearGradient>\n",
       "</defs>\n",
       "<rect x=\"10\" y=\"10\" width=\"150\" height=\"60\" stroke=\"black\" fill=\"url(#grad10)\" />\n",
       "</svg>"
      ],
      "text/plain": [
       "<draw2Svg.drawing.Drawing at 0x7fb6579c4490>"
      ]
     },
     "execution_count": 4,
     "metadata": {},
     "output_type": "execute_result"
    }
   ],
   "source": [
    "d = dw.Drawing(200,80,idPrefix='grad1')\n",
    "grad = dw.LinearGradient(150,0,0,0)\n",
    "grad.addStop(0,'green')\n",
    "grad.addStop(1,'yellow')\n",
    "d.append(dw.Rectangle(10,10,150,60,stroke='black',fill=grad))\n",
    "#d.saveSvg('05_lingrad.svg')\n",
    "d"
   ]
  },
  {
   "cell_type": "markdown",
   "id": "unauthorized-provider",
   "metadata": {},
   "source": [
    "## Radial Gradient\n",
    "```\n",
    "gradient = dw.RadialGradient(cx, cy, r, **kwargs)\n",
    "gradient.addStop(offset, color, opacity=None)\n",
    "```"
   ]
  },
  {
   "cell_type": "code",
   "execution_count": 5,
   "id": "obvious-sperm",
   "metadata": {},
   "outputs": [
    {
     "data": {
      "image/svg+xml": [
       "<?xml version=\"1.0\" encoding=\"UTF-8\"?>\n",
       "<svg xmlns=\"http://www.w3.org/2000/svg\" xmlns:xlink=\"http://www.w3.org/1999/xlink\"\n",
       "     width=\"400\" height=\"300\" viewBox=\"0 0 400 300\">\n",
       "<defs>\n",
       "<radialGradient cx=\"200\" cy=\"150\" r=\"100\" gradientUnits=\"userSpaceOnUse\" id=\"grad20\">\n",
       "<stop offset=\"0\" stop-color=\"green\" stop-opacity=\"1\" />\n",
       "<stop offset=\"1\" stop-color=\"red\" stop-opacity=\"1\" />\n",
       "</radialGradient>\n",
       "</defs>\n",
       "<rect x=\"0\" y=\"0\" width=\"100%\" height=\"100%\" fill=\"url(#grad20)\" />\n",
       "</svg>"
      ],
      "text/plain": [
       "<draw2Svg.drawing.Drawing at 0x7fb65753be80>"
      ]
     },
     "execution_count": 5,
     "metadata": {},
     "output_type": "execute_result"
    }
   ],
   "source": [
    "d = dw.Drawing(400, 300, idPrefix='grad2')\n",
    "gradient = dw.RadialGradient(200,150,100)\n",
    "gradient.addStop(0, 'green', 1)\n",
    "gradient.addStop(1, 'red', 1)\n",
    "bg = dw.Rectangle(x=0,y=0,width=\"100%\",height=\"100%\",fill=gradient)\n",
    "d.append(bg)\n",
    "#d.saveSvg('05_radgrad.svg')\n",
    "d"
   ]
  },
  {
   "cell_type": "markdown",
   "id": "bottom-recovery",
   "metadata": {},
   "source": [
    "## Clip\n",
    "\n",
    "```\n",
    "clip_name = dw.ClipPath()\n",
    "```\n",
    "\n",
    "To add shape as Clip, use `.append()` method.\n",
    "To apply Clip, fill `clip_path` argument with `clip_name`."
   ]
  },
  {
   "cell_type": "code",
   "execution_count": 22,
   "id": "dense-level",
   "metadata": {},
   "outputs": [
    {
     "data": {
      "image/svg+xml": [
       "<?xml version=\"1.0\" encoding=\"UTF-8\"?>\n",
       "<svg xmlns=\"http://www.w3.org/2000/svg\" xmlns:xlink=\"http://www.w3.org/1999/xlink\"\n",
       "     width=\"200\" height=\"200\" viewBox=\"0 0 200 200\">\n",
       "<defs>\n",
       "<clipPath id=\"clip0\">\n",
       "<rect x=\"100\" y=\"100\" width=\"100\" height=\"100\" />\n",
       "</clipPath>\n",
       "</defs>\n",
       "<rect x=\"100\" y=\"100\" width=\"100\" height=\"100\" stroke=\"gray\" fill=\"none\" />\n",
       "<circle cx=\"100\" cy=\"100\" r=\"100\" fill=\"none\" stroke=\"gray\" stroke-dasharray=\"2,5\" />\n",
       "<circle cx=\"100\" cy=\"100\" r=\"100\" fill=\"cyan\" clip-path=\"url(#clip0)\" />\n",
       "</svg>"
      ],
      "text/plain": [
       "<draw2Svg.drawing.Drawing at 0x7fb65763b040>"
      ]
     },
     "execution_count": 22,
     "metadata": {},
     "output_type": "execute_result"
    }
   ],
   "source": [
    "d = dw.Drawing(200, 200, idPrefix='clip')\n",
    "# show both shapes as they are\n",
    "d.append(dw.Rectangle(100,100,100,100,stroke='gray',fill='none'))\n",
    "d.append(dw.Circle(100,100,100,fill='none',stroke='gray',stroke_dasharray='2,5'))\n",
    "# apply rect as clip to circle\n",
    "clip = dw.ClipPath()\n",
    "clip.append(dw.Rectangle(100,100,100,100))\n",
    "d.append(dw.Circle(100,100,100,fill=\"cyan\",clip_path=clip))\n",
    "#d.saveSvg('05_clip.svg')\n",
    "d"
   ]
  },
  {
   "cell_type": "markdown",
   "id": "micro-victor",
   "metadata": {},
   "source": [
    "Another example:"
   ]
  },
  {
   "cell_type": "code",
   "execution_count": 21,
   "id": "saved-quest",
   "metadata": {},
   "outputs": [
    {
     "data": {
      "image/svg+xml": [
       "<?xml version=\"1.0\" encoding=\"UTF-8\"?>\n",
       "<svg xmlns=\"http://www.w3.org/2000/svg\" xmlns:xlink=\"http://www.w3.org/1999/xlink\"\n",
       "     width=\"600\" height=\"200\" viewBox=\"0 0 600 200\">\n",
       "<defs>\n",
       "<path d=\"M150,150 L25,8 L59,5 L204,99 L285,63 L19,58 L127,89 L136,111 L82,30 L173,92 L203,159 L300,31 L256,119 L261,91 L5,191 L284,179 L181,104 L20,23 L262,194 L267,86 L75,181 L287,149 L264,20 L208,42 L101,106 L76,99 L156,133 L44,147 L214,189 L230,144 L121,153 L211,62 L84,175 L68,6 L166,29 L78,109 L122,167 L107,137 L43,166 L162,107 L127,173\" stroke=\"black\" stroke-width=\"2\" fill=\"none\" id=\"clip20\" />\n",
       "<clipPath id=\"clip21\">\n",
       "<circle cx=\"150\" cy=\"100\" r=\"75\" />\n",
       "</clipPath>\n",
       "</defs>\n",
       "<use xlink:href=\"#clip20\" />\n",
       "<use xlink:href=\"#clip20\" x=\"300\" y=\"0\" clip-path=\"url(#clip21)\" />\n",
       "</svg>"
      ],
      "text/plain": [
       "<draw2Svg.drawing.Drawing at 0x7fb6572729d0>"
      ]
     },
     "execution_count": 21,
     "metadata": {},
     "output_type": "execute_result"
    }
   ],
   "source": [
    "d = dw.Drawing(600,200,idPrefix='clip2')\n",
    "\n",
    "# draw a random path in the left half of the canvas\n",
    "p = dw.Path(stroke='black',stroke_width=2,fill='none')\n",
    "p.M(150,150)\n",
    "from random import randint\n",
    "for i in range(40):\n",
    "    p.L(randint(0,300),randint(0,200))\n",
    "d.append(p)\n",
    "\n",
    "# circle as clipping shape\n",
    "circ = dw.Circle(150,100,75)\n",
    "c = dw.ClipPath()\n",
    "c.append(circ)\n",
    "\n",
    "# repeat lines in the right half and apply clipping\n",
    "d.append(dw.Use(p,300,0,clip_path=c))\n",
    "\n",
    "#d.saveSvg('05_clip2.svg')\n",
    "d"
   ]
  },
  {
   "cell_type": "markdown",
   "id": "foster-working",
   "metadata": {},
   "source": [
    "Complex clip path:"
   ]
  },
  {
   "cell_type": "code",
   "execution_count": 23,
   "id": "connected-dollar",
   "metadata": {},
   "outputs": [
    {
     "data": {
      "image/svg+xml": [
       "<?xml version=\"1.0\" encoding=\"UTF-8\"?>\n",
       "<svg xmlns=\"http://www.w3.org/2000/svg\" xmlns:xlink=\"http://www.w3.org/1999/xlink\"\n",
       "     width=\"300\" height=\"300\" viewBox=\"0 0 300 300\">\n",
       "<defs>\n",
       "<g id=\"clip30\">\n",
       "<rect x=\"0\" y=\"50\" width=\"90\" height=\"60\" fill=\"#999\" id=\"clip33\" />\n",
       "<circle cx=\"25\" cy=\"25\" r=\"25\" fill=\"#666\" id=\"clip34\" />\n",
       "<path d=\"M30,0 L80,0 L80,100 Z\" fill=\"#ccc\" id=\"clip35\" />\n",
       "</g>\n",
       "<clipPath id=\"clip31\">\n",
       "<path d=\"M5,55 C25,5,45,-25,75,55 C85,85,20,105,40,55 Z\" stroke=\"black\" fill=\"none\" id=\"clip36\" />\n",
       "</clipPath>\n",
       "<clipPath id=\"clip32\">\n",
       "<text x=\"20\" y=\"20\" font-size=\"48\" stroke=\"black\" fill=\"none\" transform=\"rotate(60)\" dy=\"0em\" id=\"clip37\">CLIP</text>\n",
       "</clipPath>\n",
       "</defs>\n",
       "<use xlink:href=\"#clip30\" x=\"0\" y=\"0\" clip-path=\"url(#clip31)\" />\n",
       "<g transform=\"translate(100,0)\">\n",
       "<use xlink:href=\"#clip30\" />\n",
       "<use xlink:href=\"#clip36\" />\n",
       "</g>\n",
       "<use xlink:href=\"#clip30\" x=\"0\" y=\"150\" clip-path=\"url(#clip32)\" />\n",
       "<g transform=\"translate(100,150)\">\n",
       "<use xlink:href=\"#clip30\" />\n",
       "<use xlink:href=\"#clip37\" />\n",
       "</g>\n",
       "</svg>"
      ],
      "text/plain": [
       "<draw2Svg.drawing.Drawing at 0x7fb6571d36a0>"
      ]
     },
     "execution_count": 23,
     "metadata": {},
     "output_type": "execute_result"
    }
   ],
   "source": [
    "d = dw.Drawing(300,300,idPrefix='clip3')\n",
    "curve1 = dw.Path(stroke='black',fill='none')\n",
    "curve1.M(5,55).C(25,5, 45,-25, 75,55).C(85,85, 20,105, 40,55).Z()\n",
    "\n",
    "curveClip = dw.ClipPath()\n",
    "curveClip.append(curve1)\n",
    "\n",
    "text1 = dw.Text('CLIP',48,20,20,stroke='black',fill='none',transform='rotate(60)')\n",
    "textClip = dw.ClipPath()\n",
    "textClip.append(text1)\n",
    "\n",
    "shapes = dw.Group()\n",
    "shapes.append(dw.Rectangle(0,50,90,60,fill='#999'))\n",
    "shapes.append(dw.Circle(25,25,25,fill='#666'))\n",
    "shapes.append(dw.Lines(30,0,80,0,80,100,close='true',fill='#ccc'))\n",
    "\n",
    "# draw shapes with clip path\n",
    "d.append(dw.Use(shapes,0,0,clip_path=curveClip))\n",
    "\n",
    "# show clip path\n",
    "g = dw.Group(transform='translate(100,0)')\n",
    "g.append(shapes)\n",
    "g.append(curve1)\n",
    "d.append(g)\n",
    "\n",
    "# draw shapes with text as clip path\n",
    "d.append(dw.Use(shapes,0,150,clip_path=textClip))\n",
    "\n",
    "# show text clip path\n",
    "g = dw.Group(transform='translate(100,150)')\n",
    "g.append(shapes)\n",
    "g.append(text1)\n",
    "d.append(g)\n",
    "#d.saveSvg('05_clip3.svg')\n",
    "d"
   ]
  },
  {
   "cell_type": "markdown",
   "id": "useful-classification",
   "metadata": {},
   "source": [
    "## Mask\n",
    "```\n",
    "mask_name = dw.Mask()\n",
    "```\n",
    "\n",
    "The transparency of the masking object is transfered to the masked object.\n",
    "Opaque pixels of the mask produce opaque pixels of the masked object.\n",
    "Transparent parts of the mask make the corresponding parts of the masked object\n",
    "invisible.\n"
   ]
  },
  {
   "cell_type": "code",
   "execution_count": 24,
   "id": "imperial-briefs",
   "metadata": {},
   "outputs": [
    {
     "data": {
      "image/svg+xml": [
       "<?xml version=\"1.0\" encoding=\"UTF-8\"?>\n",
       "<svg xmlns=\"http://www.w3.org/2000/svg\" xmlns:xlink=\"http://www.w3.org/1999/xlink\"\n",
       "     width=\"200\" height=\"100\" viewBox=\"0 0 200 100\">\n",
       "<defs>\n",
       "<linearGradient x1=\"0\" y1=\"0\" x2=\"1\" y2=\"0\" gradientUnits=\"objectBoundingBox\" id=\"mask10\">\n",
       "<stop offset=\"0\" stop-color=\"white\" />\n",
       "<stop offset=\"1\" stop-color=\"black\" />\n",
       "</linearGradient>\n",
       "<mask id=\"mask11\">\n",
       "<rect x=\"30\" y=\"0\" width=\"100\" height=\"100\" fill=\"url(#mask10)\" />\n",
       "</mask>\n",
       "</defs>\n",
       "<rect x=\"0\" y=\"0\" width=\"200\" height=\"100\" fill=\"cyan\" />\n",
       "<rect x=\"0\" y=\"0\" width=\"200\" height=\"100\" fill=\"pink\" mask=\"url(#mask11)\" />\n",
       "</svg>"
      ],
      "text/plain": [
       "<draw2Svg.drawing.Drawing at 0x7fb6576a0be0>"
      ]
     },
     "execution_count": 24,
     "metadata": {},
     "output_type": "execute_result"
    }
   ],
   "source": [
    "d = dw.Drawing(200, 100, idPrefix='mask1')\n",
    "\n",
    "gradient = dw.LinearGradient(*[0,0],*[1,0], gradientUnits='objectBoundingBox')\n",
    "gradient.addStop(0, 'white')\n",
    "gradient.addStop(1, 'black')\n",
    "\n",
    "mask = dw.Mask()\n",
    "box = dw.Rectangle(\n",
    "    x=30,y=0,\n",
    "    width=100,height=100,\n",
    "    fill=gradient)\n",
    "mask.append(box)\n",
    "\n",
    "#initial shape\n",
    "rect = dw.Rectangle(\n",
    "        x=0,y=0,\n",
    "        width=200,height=100,\n",
    "        fill=\"cyan\",)\n",
    "d.append(rect)\n",
    "\n",
    "#After Mask\n",
    "rect = dw.Rectangle(\n",
    "        x=0,y=0,\n",
    "        width=200,height=100,\n",
    "        fill=\"pink\", mask=mask)\n",
    "d.append(rect)\n",
    "\n",
    "#d.saveSvg('05_mask.svg')\n",
    "d"
   ]
  },
  {
   "cell_type": "markdown",
   "id": "wicked-extent",
   "metadata": {},
   "source": [
    "Mask using opaque colors:"
   ]
  },
  {
   "cell_type": "code",
   "execution_count": 25,
   "id": "desirable-session",
   "metadata": {},
   "outputs": [
    {
     "data": {
      "image/svg+xml": [
       "<?xml version=\"1.0\" encoding=\"UTF-8\"?>\n",
       "<svg xmlns=\"http://www.w3.org/2000/svg\" xmlns:xlink=\"http://www.w3.org/1999/xlink\"\n",
       "     width=\"250\" height=\"150\" viewBox=\"0 0 250 150\">\n",
       "<defs>\n",
       "<mask maskContentUnits=\"objectBoundingBox\" id=\"mask20\">\n",
       "<rect x=\"0\" y=\"0\" width=\"1\" height=\"1\" fill=\"#f00\" />\n",
       "</mask>\n",
       "<mask maskContentUnits=\"objectBoundingBox\" id=\"mask21\">\n",
       "<rect x=\"0\" y=\"0\" width=\"1\" height=\"1\" fill=\"#0f0\" />\n",
       "</mask>\n",
       "<mask maskContentUnits=\"objectBoundingBox\" id=\"mask22\">\n",
       "<rect x=\"0\" y=\"0\" width=\"1\" height=\"1\" fill=\"#00f\" />\n",
       "</mask>\n",
       "<mask maskContentUnits=\"objectBoundingBox\" id=\"mask23\">\n",
       "<rect x=\"0\" y=\"0\" width=\"1\" height=\"1\" fill=\"#fff\" />\n",
       "</mask>\n",
       "</defs>\n",
       "<rect x=\"10\" y=\"10\" width=\"50\" height=\"50\" fill=\"#f00\" />\n",
       "<rect x=\"70\" y=\"10\" width=\"50\" height=\"50\" fill=\"#0f0\" />\n",
       "<rect x=\"130\" y=\"10\" width=\"50\" height=\"50\" fill=\"#00f\" />\n",
       "<rect x=\"190\" y=\"10\" width=\"50\" height=\"50\" fill=\"#fff\" stroke=\"black\" />\n",
       "<g mask=\"url(#mask20)\">\n",
       "<circle cx=\"35\" cy=\"115\" r=\"25\" fill=\"black\" />\n",
       "<text x=\"35\" y=\"80\" font-size=\"14\" text-anchor=\"middle\" dy=\"0em\">Red</text>\n",
       "</g>\n",
       "<g mask=\"url(#mask21)\">\n",
       "<circle cx=\"95\" cy=\"115\" r=\"25\" fill=\"black\" />\n",
       "<text x=\"95\" y=\"80\" font-size=\"14\" text-anchor=\"middle\" dy=\"0em\">Green</text>\n",
       "</g>\n",
       "<g mask=\"url(#mask22)\">\n",
       "<circle cx=\"155\" cy=\"115\" r=\"25\" fill=\"black\" />\n",
       "<text x=\"155\" y=\"80\" font-size=\"14\" text-anchor=\"middle\" dy=\"0em\">Blue</text>\n",
       "</g>\n",
       "<g mask=\"url(#mask23)\">\n",
       "<circle cx=\"215\" cy=\"115\" r=\"25\" fill=\"black\" />\n",
       "<text x=\"215\" y=\"80\" font-size=\"14\" text-anchor=\"middle\" dy=\"0em\">White</text>\n",
       "</g>\n",
       "</svg>"
      ],
      "text/plain": [
       "<draw2Svg.drawing.Drawing at 0x7fb657643730>"
      ]
     },
     "execution_count": 25,
     "metadata": {},
     "output_type": "execute_result"
    }
   ],
   "source": [
    "d = dw.Drawing(250,150,idPrefix='mask2')\n",
    "\n",
    "# define the masks\n",
    "redmask = dw.Mask(maskContentUnits='objectBoundingBox')\n",
    "redmask.append(dw.Rectangle(0,0,1,1,fill='#f00'))\n",
    "greenmask = dw.Mask(maskContentUnits='objectBoundingBox')\n",
    "greenmask.append(dw.Rectangle(0,0,1,1,fill='#0f0'))\n",
    "bluemask = dw.Mask(maskContentUnits='objectBoundingBox')\n",
    "bluemask.append(dw.Rectangle(0,0,1,1,fill='#00f'))\n",
    "whitemask = dw.Mask(maskContentUnits='objectBoundingBox')\n",
    "whitemask.append(dw.Rectangle(0,0,1,1,fill='#fff'))\n",
    "\n",
    "# display the colors\n",
    "d.append(dw.Rectangle(10,10,50,50,fill='#f00'))\n",
    "d.append(dw.Rectangle(70,10,50,50,fill='#0f0'))\n",
    "d.append(dw.Rectangle(130,10,50,50,fill='#00f'))\n",
    "d.append(dw.Rectangle(190,10,50,50,fill='#fff',stroke='black'))\n",
    "\n",
    "# mask\n",
    "g = dw.Group(mask=redmask)\n",
    "g.append(dw.Circle(35,115,25,fill='black'))\n",
    "g.append(dw.Text('Red',14,35,80,text_anchor='middle'))\n",
    "d.append(g)\n",
    "g = dw.Group(mask=greenmask)\n",
    "g.append(dw.Circle(95,115,25,fill='black'))\n",
    "g.append(dw.Text('Green',14,95,80,text_anchor='middle'))\n",
    "d.append(g)\n",
    "g = dw.Group(mask=bluemask)\n",
    "g.append(dw.Circle(155,115,25,fill='black'))\n",
    "g.append(dw.Text('Blue',14,155,80,text_anchor='middle'))\n",
    "d.append(g)\n",
    "g = dw.Group(mask=whitemask)\n",
    "g.append(dw.Circle(215,115,25,fill='black'))\n",
    "g.append(dw.Text('White',14,215,80,text_anchor='middle'))\n",
    "d.append(g)\n",
    "\n",
    "#d.saveSvg('05_mask2.svg')\n",
    "d"
   ]
  },
  {
   "cell_type": "markdown",
   "id": "armed-cyprus",
   "metadata": {},
   "source": [
    "Mask alpha using opacity only:"
   ]
  },
  {
   "cell_type": "code",
   "execution_count": 26,
   "id": "empty-universal",
   "metadata": {},
   "outputs": [
    {
     "data": {
      "image/svg+xml": [
       "<?xml version=\"1.0\" encoding=\"UTF-8\"?>\n",
       "<svg xmlns=\"http://www.w3.org/2000/svg\" xmlns:xlink=\"http://www.w3.org/1999/xlink\"\n",
       "     width=\"250\" height=\"100\" viewBox=\"0 0 250 100\">\n",
       "<defs>\n",
       "<mask maskContentUnits=\"objectBoundingBox\" id=\"mask30\">\n",
       "<rect x=\"0\" y=\"0\" width=\"1\" height=\"1\" fill-opacity=\"1.0\" fill=\"white\" />\n",
       "</mask>\n",
       "<mask maskContentUnits=\"objectBoundingBox\" id=\"mask31\">\n",
       "<rect x=\"0\" y=\"0\" width=\"1\" height=\"1\" fill-opacity=\"0.75\" fill=\"white\" />\n",
       "</mask>\n",
       "<mask maskContentUnits=\"objectBoundingBox\" id=\"mask32\">\n",
       "<rect x=\"0\" y=\"0\" width=\"1\" height=\"1\" fill-opacity=\"0.5\" fill=\"white\" />\n",
       "</mask>\n",
       "<mask maskContentUnits=\"objectBoundingBox\" id=\"mask33\">\n",
       "<rect x=\"0\" y=\"0\" width=\"1\" height=\"1\" fill-opacity=\"0.25\" fill=\"white\" />\n",
       "</mask>\n",
       "</defs>\n",
       "<g mask=\"url(#mask30)\">\n",
       "<circle cx=\"35\" cy=\"35\" r=\"25\" />\n",
       "<text x=\"35\" y=\"80\" font-size=\"14\" text-anchor=\"middle\" dy=\"0em\">100%</text>\n",
       "</g>\n",
       "<g mask=\"url(#mask31)\">\n",
       "<circle cx=\"95\" cy=\"35\" r=\"25\" />\n",
       "<text x=\"95\" y=\"80\" font-size=\"14\" text-anchor=\"middle\" dy=\"0em\">50%</text>\n",
       "</g>\n",
       "<g mask=\"url(#mask32)\">\n",
       "<circle cx=\"155\" cy=\"35\" r=\"25\" />\n",
       "<text x=\"155\" y=\"80\" font-size=\"14\" text-anchor=\"middle\" dy=\"0em\">50%</text>\n",
       "</g>\n",
       "<g mask=\"url(#mask33)\">\n",
       "<circle cx=\"215\" cy=\"35\" r=\"25\" />\n",
       "<text x=\"215\" y=\"80\" font-size=\"14\" text-anchor=\"middle\" dy=\"0em\">25%</text>\n",
       "</g>\n",
       "</svg>"
      ],
      "text/plain": [
       "<draw2Svg.drawing.Drawing at 0x7fb6571d8430>"
      ]
     },
     "execution_count": 26,
     "metadata": {},
     "output_type": "execute_result"
    }
   ],
   "source": [
    "d = dw.Drawing(250,100,idPrefix='mask3')\n",
    "fullmask = dw.Mask(maskContentUnits='objectBoundingBox')\n",
    "fullmask.append(dw.Rectangle(0,0,1,1,fill_opacity=1.0,fill='white'))\n",
    "three_fourths = dw.Mask(maskContentUnits='objectBoundingBox')\n",
    "three_fourths.append(dw.Rectangle(0,0,1,1,fill_opacity=0.75,fill='white'))\n",
    "one_half = dw.Mask(maskContentUnits='objectBoundingBox')\n",
    "one_half.append(dw.Rectangle(0,0,1,1,fill_opacity=0.5,fill='white'))\n",
    "one_fourth = dw.Mask(maskContentUnits='objectBoundingBox')\n",
    "one_fourth.append(dw.Rectangle(0,0,1,1,fill_opacity=0.25,fill='white'))\n",
    "\n",
    "g = dw.Group(mask=fullmask)\n",
    "g.append(dw.Circle(35,35,25))\n",
    "g.append(dw.Text('100%',14,35,80,text_anchor='middle'))\n",
    "d.append(g)\n",
    "g = dw.Group(mask=three_fourths)\n",
    "g.append(dw.Circle(95,35,25))\n",
    "g.append(dw.Text('50%',14,95,80,text_anchor='middle'))\n",
    "d.append(g)\n",
    "g = dw.Group(mask=one_half)\n",
    "g.append(dw.Circle(155,35,25))\n",
    "g.append(dw.Text('50%',14,155,80,text_anchor='middle'))\n",
    "d.append(g)\n",
    "g = dw.Group(mask=one_fourth)\n",
    "g.append(dw.Circle(215,35,25))\n",
    "g.append(dw.Text('25%',14,215,80,text_anchor='middle'))\n",
    "d.append(g)\n",
    "\n",
    "#d.saveSvg('05_mask3.svg')\n",
    "d"
   ]
  }
 ],
 "metadata": {
  "kernelspec": {
   "display_name": "Python 3",
   "language": "python",
   "name": "python3"
  },
  "language_info": {
   "codemirror_mode": {
    "name": "ipython",
    "version": 3
   },
   "file_extension": ".py",
   "mimetype": "text/x-python",
   "name": "python",
   "nbconvert_exporter": "python",
   "pygments_lexer": "ipython3",
   "version": "3.9.2"
  }
 },
 "nbformat": 4,
 "nbformat_minor": 5
}
